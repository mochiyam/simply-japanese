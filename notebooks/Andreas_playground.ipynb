{
 "cells": [
  {
   "cell_type": "markdown",
   "id": "83e23776",
   "metadata": {},
   "source": [
    "# Import data and general packages"
   ]
  },
  {
   "cell_type": "markdown",
   "id": "679394df",
   "metadata": {},
   "source": [
    "#### Install MeCab and dependencies, if necessary"
   ]
  },
  {
   "cell_type": "markdown",
   "id": "cafb7051",
   "metadata": {},
   "source": [
    "#### Imports"
   ]
  },
  {
   "cell_type": "code",
   "execution_count": 1,
   "id": "6d029f72",
   "metadata": {},
   "outputs": [],
   "source": [
    "import numpy as np\n",
    "import os\n",
    "import pandas as pd\n",
    "import MeCab\n",
    "import neologdn\n",
    "from nltk.corpus import stopwords\n",
    "from gensim.models.word2vec import Word2Vec"
   ]
  },
  {
   "cell_type": "markdown",
   "id": "bcb1c51b",
   "metadata": {},
   "source": [
    "#### Get data"
   ]
  },
  {
   "cell_type": "code",
   "execution_count": 10,
   "id": "c74be84f",
   "metadata": {},
   "outputs": [
    {
     "data": {
      "text/plain": [
       "'/home/andi/code/mochiyam/simply-japanese/data/2_RawData'"
      ]
     },
     "execution_count": 10,
     "metadata": {},
     "output_type": "execute_result"
    }
   ],
   "source": [
    "os.chdir(\"/home/andi/code/mochiyam/simply-japanese/data/2_RawData\") # Change user name to run on your machine\n",
    "os.getcwd()"
   ]
  },
  {
   "cell_type": "code",
   "execution_count": 48,
   "id": "5bc0a567",
   "metadata": {},
   "outputs": [
    {
     "name": "stdout",
     "output_type": "stream",
     "text": [
      "Combined_85K_10000.xlsx  SNOW_T15_10000.xlsx  SNOW_T23_10000.xlsx\r\n",
      "Combined_85K_1000.xlsx\t SNOW_T15_1000.xlsx   SNOW_T23_1000.xlsx\r\n",
      "Combined_85K_150.xlsx\t SNOW_T15_150.xlsx    SNOW_T23_150.xlsx\r\n",
      "Combined_85K.xlsx\t SNOW_T15.xlsx\t      SNOW_T23.xlsx\r\n"
     ]
    }
   ],
   "source": [
    "!ls"
   ]
  },
  {
   "cell_type": "code",
   "execution_count": 49,
   "id": "1643536a",
   "metadata": {},
   "outputs": [],
   "source": [
    "data150 = \"SNOW_T15_150.xlsx\"\n",
    "df150 = pd.read_excel(data)"
   ]
  },
  {
   "cell_type": "code",
   "execution_count": 50,
   "id": "ba35c45c",
   "metadata": {},
   "outputs": [
    {
     "data": {
      "text/html": [
       "<div>\n",
       "<style scoped>\n",
       "    .dataframe tbody tr th:only-of-type {\n",
       "        vertical-align: middle;\n",
       "    }\n",
       "\n",
       "    .dataframe tbody tr th {\n",
       "        vertical-align: top;\n",
       "    }\n",
       "\n",
       "    .dataframe thead th {\n",
       "        text-align: right;\n",
       "    }\n",
       "</style>\n",
       "<table border=\"1\" class=\"dataframe\">\n",
       "  <thead>\n",
       "    <tr style=\"text-align: right;\">\n",
       "      <th></th>\n",
       "      <th>#日本語(原文)</th>\n",
       "      <th>#やさしい日本語</th>\n",
       "      <th>#英語(原文)</th>\n",
       "    </tr>\n",
       "  </thead>\n",
       "  <tbody>\n",
       "    <tr>\n",
       "      <th>0</th>\n",
       "      <td>彼女は通りを横切った。</td>\n",
       "      <td>彼女は通りを横に通っていった。</td>\n",
       "      <td>she came across the street .</td>\n",
       "    </tr>\n",
       "    <tr>\n",
       "      <th>1</th>\n",
       "      <td>私が知るかぎり彼女は大変よい人だ。</td>\n",
       "      <td>私が知る限り彼女は大変よい人だ。</td>\n",
       "      <td>as far as i know , she is a very good person .</td>\n",
       "    </tr>\n",
       "    <tr>\n",
       "      <th>2</th>\n",
       "      <td>私のクラスの少女たちはみんな親切だ。</td>\n",
       "      <td>私のクラスの少女たちはみんな親切だ。</td>\n",
       "      <td>all the girls in my class are kind .</td>\n",
       "    </tr>\n",
       "    <tr>\n",
       "      <th>3</th>\n",
       "      <td>彼は試験に合格できなかった。</td>\n",
       "      <td>彼は試験に合格できなかった。</td>\n",
       "      <td>he couldn 't pass the examination .</td>\n",
       "    </tr>\n",
       "    <tr>\n",
       "      <th>4</th>\n",
       "      <td>彼女はあなたにあえて喜ぶでしょうね。</td>\n",
       "      <td>彼女はあなたに会うことができて喜ぶでしょうね。</td>\n",
       "      <td>she 'll be glad to see you , won 't she ?</td>\n",
       "    </tr>\n",
       "  </tbody>\n",
       "</table>\n",
       "</div>"
      ],
      "text/plain": [
       "             #日本語(原文)                 #やさしい日本語  \\\n",
       "0         彼女は通りを横切った。          彼女は通りを横に通っていった。   \n",
       "1   私が知るかぎり彼女は大変よい人だ。         私が知る限り彼女は大変よい人だ。   \n",
       "2  私のクラスの少女たちはみんな親切だ。       私のクラスの少女たちはみんな親切だ。   \n",
       "3      彼は試験に合格できなかった。           彼は試験に合格できなかった。   \n",
       "4  彼女はあなたにあえて喜ぶでしょうね。  彼女はあなたに会うことができて喜ぶでしょうね。   \n",
       "\n",
       "                                          #英語(原文)  \n",
       "0                    she came across the street .  \n",
       "1  as far as i know , she is a very good person .  \n",
       "2            all the girls in my class are kind .  \n",
       "3             he couldn 't pass the examination .  \n",
       "4       she 'll be glad to see you , won 't she ?  "
      ]
     },
     "execution_count": 50,
     "metadata": {},
     "output_type": "execute_result"
    }
   ],
   "source": [
    "df150.head()"
   ]
  },
  {
   "cell_type": "code",
   "execution_count": 51,
   "id": "6fb42062",
   "metadata": {},
   "outputs": [],
   "source": [
    "X = df150[df150.keys()[0]]\n",
    "y = df150[df150.keys()[1]]"
   ]
  },
  {
   "cell_type": "code",
   "execution_count": 52,
   "id": "90a18843",
   "metadata": {},
   "outputs": [
    {
     "data": {
      "text/plain": [
       "('彼女は通りを横切った。', '彼女は通りを横に通っていった。')"
      ]
     },
     "execution_count": 52,
     "metadata": {},
     "output_type": "execute_result"
    }
   ],
   "source": [
    "X[0], y[0]"
   ]
  },
  {
   "cell_type": "markdown",
   "id": "7ff1cd74",
   "metadata": {
    "heading_collapsed": true
   },
   "source": [
    "# Janome"
   ]
  },
  {
   "cell_type": "code",
   "execution_count": 1,
   "id": "c40be7ac-e13c-4ae4-b787-6123abed4b42",
   "metadata": {
    "hidden": true
   },
   "outputs": [],
   "source": [
    "from janome.tokenizer import Tokenizer"
   ]
  },
  {
   "cell_type": "markdown",
   "id": "ba0ab3f9",
   "metadata": {
    "hidden": true
   },
   "source": [
    "Simple Tokenizer"
   ]
  },
  {
   "cell_type": "code",
   "execution_count": 27,
   "id": "1e05ffe3",
   "metadata": {
    "hidden": true
   },
   "outputs": [
    {
     "name": "stdout",
     "output_type": "stream",
     "text": [
      "彼女\t名詞,代名詞,一般,*,*,*,彼女,カノジョ,カノジョ\n",
      "は\t助詞,係助詞,*,*,*,*,は,ハ,ワ\n",
      "通り\t名詞,一般,*,*,*,*,通り,トオリ,トーリ\n",
      "を\t助詞,格助詞,一般,*,*,*,を,ヲ,ヲ\n",
      "横切っ\t動詞,自立,*,*,五段・ラ行,連用タ接続,横切る,ヨコギッ,ヨコギッ\n",
      "た\t助動詞,*,*,*,特殊・タ,基本形,た,タ,タ\n",
      "。\t記号,句点,*,*,*,*,。,。,。\n"
     ]
    }
   ],
   "source": [
    "t = Tokenizer()\n",
    "for token in t.tokenize(X[0]):\n",
    "    print(token)"
   ]
  },
  {
   "cell_type": "markdown",
   "id": "732e8b37",
   "metadata": {
    "hidden": true
   },
   "source": [
    "Even simpler tokenizer<br>\n",
    "wakati (分ち書き）returns only surface tokens"
   ]
  },
  {
   "cell_type": "code",
   "execution_count": 38,
   "id": "e67a6973",
   "metadata": {
    "hidden": true,
    "scrolled": true
   },
   "outputs": [
    {
     "name": "stdout",
     "output_type": "stream",
     "text": [
      "彼女\n",
      "は\n",
      "通り\n",
      "を\n",
      "横切っ\n",
      "た\n",
      "。\n"
     ]
    }
   ],
   "source": [
    "for token in t.tokenize(X[0], wakati=True):\n",
    "    print(token)"
   ]
  },
  {
   "cell_type": "markdown",
   "id": "3edabbf9",
   "metadata": {},
   "source": [
    "# Identify words to be replaced / ignored"
   ]
  },
  {
   "cell_type": "markdown",
   "id": "d00e4f10",
   "metadata": {
    "heading_collapsed": true
   },
   "source": [
    "## Data"
   ]
  },
  {
   "cell_type": "markdown",
   "id": "d47791a7",
   "metadata": {
    "hidden": true
   },
   "source": [
    "Our df are 150 random segments from the SNOW T15 dataset."
   ]
  },
  {
   "cell_type": "code",
   "execution_count": 64,
   "id": "7331421f",
   "metadata": {
    "hidden": true
   },
   "outputs": [
    {
     "data": {
      "text/html": [
       "<div>\n",
       "<style scoped>\n",
       "    .dataframe tbody tr th:only-of-type {\n",
       "        vertical-align: middle;\n",
       "    }\n",
       "\n",
       "    .dataframe tbody tr th {\n",
       "        vertical-align: top;\n",
       "    }\n",
       "\n",
       "    .dataframe thead th {\n",
       "        text-align: right;\n",
       "    }\n",
       "</style>\n",
       "<table border=\"1\" class=\"dataframe\">\n",
       "  <thead>\n",
       "    <tr style=\"text-align: right;\">\n",
       "      <th></th>\n",
       "      <th>#日本語(原文)</th>\n",
       "      <th>#やさしい日本語</th>\n",
       "      <th>#英語(原文)</th>\n",
       "    </tr>\n",
       "  </thead>\n",
       "  <tbody>\n",
       "    <tr>\n",
       "      <th>0</th>\n",
       "      <td>彼女は通りを横切った。</td>\n",
       "      <td>彼女は通りを横に通っていった。</td>\n",
       "      <td>she came across the street .</td>\n",
       "    </tr>\n",
       "    <tr>\n",
       "      <th>1</th>\n",
       "      <td>私が知るかぎり彼女は大変よい人だ。</td>\n",
       "      <td>私が知る限り彼女は大変よい人だ。</td>\n",
       "      <td>as far as i know , she is a very good person .</td>\n",
       "    </tr>\n",
       "    <tr>\n",
       "      <th>2</th>\n",
       "      <td>私のクラスの少女たちはみんな親切だ。</td>\n",
       "      <td>私のクラスの少女たちはみんな親切だ。</td>\n",
       "      <td>all the girls in my class are kind .</td>\n",
       "    </tr>\n",
       "    <tr>\n",
       "      <th>3</th>\n",
       "      <td>彼は試験に合格できなかった。</td>\n",
       "      <td>彼は試験に合格できなかった。</td>\n",
       "      <td>he couldn 't pass the examination .</td>\n",
       "    </tr>\n",
       "    <tr>\n",
       "      <th>4</th>\n",
       "      <td>彼女はあなたにあえて喜ぶでしょうね。</td>\n",
       "      <td>彼女はあなたに会うことができて喜ぶでしょうね。</td>\n",
       "      <td>she 'll be glad to see you , won 't she ?</td>\n",
       "    </tr>\n",
       "  </tbody>\n",
       "</table>\n",
       "</div>"
      ],
      "text/plain": [
       "             #日本語(原文)                 #やさしい日本語  \\\n",
       "0         彼女は通りを横切った。          彼女は通りを横に通っていった。   \n",
       "1   私が知るかぎり彼女は大変よい人だ。         私が知る限り彼女は大変よい人だ。   \n",
       "2  私のクラスの少女たちはみんな親切だ。       私のクラスの少女たちはみんな親切だ。   \n",
       "3      彼は試験に合格できなかった。           彼は試験に合格できなかった。   \n",
       "4  彼女はあなたにあえて喜ぶでしょうね。  彼女はあなたに会うことができて喜ぶでしょうね。   \n",
       "\n",
       "                                          #英語(原文)  \n",
       "0                    she came across the street .  \n",
       "1  as far as i know , she is a very good person .  \n",
       "2            all the girls in my class are kind .  \n",
       "3             he couldn 't pass the examination .  \n",
       "4       she 'll be glad to see you , won 't she ?  "
      ]
     },
     "execution_count": 64,
     "metadata": {},
     "output_type": "execute_result"
    }
   ],
   "source": [
    "df150.head()"
   ]
  },
  {
   "cell_type": "markdown",
   "id": "153a6847",
   "metadata": {
    "hidden": true
   },
   "source": [
    "X and y are the 0th and 1st columns of df150,"
   ]
  },
  {
   "cell_type": "code",
   "execution_count": 66,
   "id": "25692e5f",
   "metadata": {
    "hidden": true
   },
   "outputs": [
    {
     "data": {
      "text/plain": [
       "('彼女は通りを横切った。', '彼女は通りを横に通っていった。', 150, 150)"
      ]
     },
     "execution_count": 66,
     "metadata": {},
     "output_type": "execute_result"
    }
   ],
   "source": [
    "X[0], y[0], len(X), len(y)"
   ]
  },
  {
   "cell_type": "markdown",
   "id": "7cc26a2d",
   "metadata": {},
   "source": [
    "## Playing around with MeCab"
   ]
  },
  {
   "cell_type": "code",
   "execution_count": 117,
   "id": "5f80795b",
   "metadata": {},
   "outputs": [],
   "source": [
    "tagger = MeCab.Tagger()\n",
    "text = X[0]\n",
    "parsed = tagger.parse(text)\n",
    "# print(parsed)"
   ]
  },
  {
   "cell_type": "code",
   "execution_count": 118,
   "id": "0d8a326b",
   "metadata": {
    "scrolled": true
   },
   "outputs": [
    {
     "name": "stdout",
     "output_type": "stream",
     "text": [
      "node.surface=,\n",
      " node.feature=BOS/EOS,*,*,*,*,*,*,*,*,*,*,*,*,*,*,*,*,*,*,*,*,*,*,*,*,* => original = *, \n",
      "\n",
      "\n",
      "node.surface=彼女,\n",
      " node.feature=代名詞,*,*,*,*,*,カノジョ,彼女,彼女,カノジョ,彼女,カノジョ,混,*,*,*,*,カノジョ,カノジョ,カノジョ,カノジョ,*,*,1,*,* => original = カノジョ, \n",
      "\n",
      "\n",
      "node.surface=は,\n",
      " node.feature=助詞,係助詞,*,*,*,*,ハ,は,は,ワ,は,ワ,和,*,*,*,*,ハ,ハ,ハ,ハ,*,*,*,\"動詞%F2@0,名詞%F1,形容詞%F2@-1\",* => original = ハ, \n",
      "\n",
      "\n",
      "node.surface=通り,\n",
      " node.feature=名詞,普通名詞,助数詞可能,*,*,*,トオリ,通り,通り,トーリ,通り,トーリ,和,ト濁,基本形,*,*,トオリ,トオリ,トオリ,トオリ,*,*,3,C2,* => original = トオリ, \n",
      "\n",
      "\n",
      "node.surface=を,\n",
      " node.feature=助詞,格助詞,*,*,*,*,ヲ,を,を,オ,を,オ,和,*,*,*,*,ヲ,ヲ,ヲ,ヲ,*,*,*,\"動詞%F2@0,名詞%F1,形容詞%F2@-1\",* => original = ヲ, \n",
      "\n",
      "\n",
      "node.surface=横切っ,\n",
      " node.feature=動詞,一般,*,*,五段-ラ行,連用形-促音便,ヨコギル,横切る,横切っ,ヨコギッ,横切る,ヨコギル,和,*,*,*,*,ヨコギッ,ヨコギル,ヨコギッ,ヨコギル,*,*,3,C1,* => original = ヨコギル, \n",
      "\n",
      "\n",
      "node.surface=た,\n",
      " node.feature=助動詞,*,*,*,助動詞-タ,終止形-一般,タ,た,た,タ,た,タ,和,*,*,*,*,タ,タ,タ,タ,*,*,*,\"動詞%F2@1,形容詞%F4@-2\",* => original = タ, \n",
      "\n",
      "\n",
      "node.surface=。,\n",
      " node.feature=補助記号,句点,*,*,*,*,,。,。,,。,,記号,*,*,*,*,,,,,*,*,*,*,* => original = , \n",
      "\n",
      "\n",
      "node.surface=,\n",
      " node.feature=BOS/EOS,*,*,*,*,*,*,*,*,*,*,*,*,*,*,*,*,*,*,*,*,*,*,*,*,* => original = *, \n",
      "\n",
      "\n"
     ]
    }
   ],
   "source": [
    "node = tagger.parseToNode(text)\n",
    "while node:\n",
    "    features = node.feature.split(\",\")\n",
    "    original = features[6]\n",
    "    print('node.surface={},\\n node.feature={} => original = {}, \\n\\n'.format(node.surface,node.feature,original))\n",
    "    node = node.next"
   ]
  },
  {
   "cell_type": "markdown",
   "id": "87b55e2d",
   "metadata": {},
   "source": [
    "## Tokenizing sentences"
   ]
  },
  {
   "cell_type": "code",
   "execution_count": 96,
   "id": "a1eae82e",
   "metadata": {},
   "outputs": [],
   "source": [
    "# Define list of simplified terms\n",
    "# This task is done by Moana; for the time being, we will just use a pseudo list\n",
    "\n",
    "simp_terms = [\"限り\", \"通う\", \"親切\", \"会う\", \"食べる\"]"
   ]
  },
  {
   "cell_type": "code",
   "execution_count": 114,
   "id": "5a4dcb6f",
   "metadata": {},
   "outputs": [],
   "source": [
    "# Define stop-words\n",
    "# https://github.com/stopwords-iso/stopwords-ja/blob/master/stopwords-ja.txt\n",
    "# Must be in folder \"/home/<user>/nltk_data/corpora/stopwords\"\n",
    "stop_words = stopwords.words('japanese.txt')"
   ]
  },
  {
   "cell_type": "code",
   "execution_count": 120,
   "id": "4f8d9022",
   "metadata": {},
   "outputs": [],
   "source": [
    "def replace(sentence):\n",
    "    \"\"\"\n",
    "    This function takes a Japanese sentence (source), identifies terms to replace,\n",
    "    and replaces them with terms from a list of simplified terms (simp_terms)\n",
    "    \"\"\"\n",
    "    REPLACE_WORD_POS = (\"名詞\", \"動詞\", \"形容詞\", \"副詞\", \"未知語\") # TBD\n",
    "    IGNORE = (\"接尾\", \"非自立\", \"代名詞\")                          # TBD\n",
    "    \n",
    "    tagger = MeCab.Tagger()\n",
    "    node = tagger.parseToNode(sentence)\n",
    "    \n",
    "    \n",
    "    "
   ]
  },
  {
   "cell_type": "code",
   "execution_count": 122,
   "id": "7f070ab2",
   "metadata": {},
   "outputs": [],
   "source": [
    "def find_nearest_term(term, term_list):\n",
    "    \"\"\"\n",
    "    Takes a term, compares it to a list of terms and returns its closest neighbour from within the list\n",
    "    \"\"\"\n",
    "    nearest_term = term\n",
    "    return nearest_term"
   ]
  },
  {
   "cell_type": "code",
   "execution_count": 5,
   "id": "f862632b",
   "metadata": {},
   "outputs": [],
   "source": [
    "model_path = '/home/andi/code/PlayGround/ShiroYagi/word2vec.gensim.model'\n",
    "model = Word2Vec.load(model_path)"
   ]
  },
  {
   "cell_type": "code",
   "execution_count": 8,
   "id": "f80c6300",
   "metadata": {},
   "outputs": [
    {
     "data": {
      "text/plain": [
       "[('車', 0.8590342998504639),\n",
       " ('車輌', 0.8511245846748352),\n",
       " ('一般車', 0.8471918106079102),\n",
       " ('電車', 0.8361836075782776),\n",
       " ('客車', 0.8352526426315308),\n",
       " ('改造車', 0.8315220475196838),\n",
       " ('気動車', 0.830657422542572),\n",
       " ('旧型', 0.8224653601646423),\n",
       " ('2000系', 0.8223382830619812),\n",
       " ('大型車', 0.8181092143058777)]"
      ]
     },
     "execution_count": 8,
     "metadata": {},
     "output_type": "execute_result"
    }
   ],
   "source": [
    "model.wv.most_similar(\"車両\")"
   ]
  }
 ],
 "metadata": {
  "kernelspec": {
   "display_name": "Python 3 (ipykernel)",
   "language": "python",
   "name": "python3"
  },
  "language_info": {
   "codemirror_mode": {
    "name": "ipython",
    "version": 3
   },
   "file_extension": ".py",
   "mimetype": "text/x-python",
   "name": "python",
   "nbconvert_exporter": "python",
   "pygments_lexer": "ipython3",
   "version": "3.8.12"
  },
  "toc": {
   "base_numbering": 1,
   "nav_menu": {},
   "number_sections": true,
   "sideBar": true,
   "skip_h1_title": false,
   "title_cell": "Table of Contents",
   "title_sidebar": "Contents",
   "toc_cell": false,
   "toc_position": {},
   "toc_section_display": true,
   "toc_window_display": false
  }
 },
 "nbformat": 4,
 "nbformat_minor": 5
}
