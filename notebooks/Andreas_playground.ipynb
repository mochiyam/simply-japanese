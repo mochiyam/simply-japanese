{
 "cells": [
  {
   "cell_type": "markdown",
   "id": "83e23776",
   "metadata": {},
   "source": [
    "# Import data and general packages"
   ]
  },
  {
   "cell_type": "code",
   "execution_count": 11,
   "id": "6d029f72",
   "metadata": {},
   "outputs": [],
   "source": [
    "import numpy as np\n",
    "import os\n",
    "import pandas as pd\n"
   ]
  },
  {
   "cell_type": "code",
   "execution_count": 10,
   "id": "c74be84f",
   "metadata": {},
   "outputs": [
    {
     "data": {
      "text/plain": [
       "'/home/andi/code/mochiyam/simply-japanese/data/2_RawData'"
      ]
     },
     "execution_count": 10,
     "metadata": {},
     "output_type": "execute_result"
    }
   ],
   "source": [
    "os.chdir(\"/home/andi/code/mochiyam/simply-japanese/data/2_RawData\") # Change user name to run on your machine\n",
    "os.getcwd()"
   ]
  },
  {
   "cell_type": "code",
   "execution_count": 12,
   "id": "1643536a",
   "metadata": {},
   "outputs": [],
   "source": [
    "data = \"Combined_85K_150.xlsx\"\n",
    "df = pd.read_excel(data)"
   ]
  },
  {
   "cell_type": "code",
   "execution_count": 20,
   "id": "ba35c45c",
   "metadata": {},
   "outputs": [
    {
     "data": {
      "text/html": [
       "<div>\n",
       "<style scoped>\n",
       "    .dataframe tbody tr th:only-of-type {\n",
       "        vertical-align: middle;\n",
       "    }\n",
       "\n",
       "    .dataframe tbody tr th {\n",
       "        vertical-align: top;\n",
       "    }\n",
       "\n",
       "    .dataframe thead th {\n",
       "        text-align: right;\n",
       "    }\n",
       "</style>\n",
       "<table border=\"1\" class=\"dataframe\">\n",
       "  <thead>\n",
       "    <tr style=\"text-align: right;\">\n",
       "      <th></th>\n",
       "      <th>#日本語(原文)</th>\n",
       "      <th>#やさしい日本語</th>\n",
       "      <th>#英語(原文)</th>\n",
       "    </tr>\n",
       "  </thead>\n",
       "  <tbody>\n",
       "    <tr>\n",
       "      <th>0</th>\n",
       "      <td>彼女は通りを横切った。</td>\n",
       "      <td>彼女は通りを横に通っていった。</td>\n",
       "      <td>she came across the street .</td>\n",
       "    </tr>\n",
       "    <tr>\n",
       "      <th>1</th>\n",
       "      <td>私が知るかぎり彼女は大変よい人だ。</td>\n",
       "      <td>私が知る限り彼女は大変よい人だ。</td>\n",
       "      <td>as far as i know , she is a very good person .</td>\n",
       "    </tr>\n",
       "    <tr>\n",
       "      <th>2</th>\n",
       "      <td>私のクラスの少女たちはみんな親切だ。</td>\n",
       "      <td>私のクラスの少女たちはみんな親切だ。</td>\n",
       "      <td>all the girls in my class are kind .</td>\n",
       "    </tr>\n",
       "    <tr>\n",
       "      <th>3</th>\n",
       "      <td>彼は試験に合格できなかった。</td>\n",
       "      <td>彼は試験に合格できなかった。</td>\n",
       "      <td>he couldn 't pass the examination .</td>\n",
       "    </tr>\n",
       "    <tr>\n",
       "      <th>4</th>\n",
       "      <td>彼女はあなたにあえて喜ぶでしょうね。</td>\n",
       "      <td>彼女はあなたに会うことができて喜ぶでしょうね。</td>\n",
       "      <td>she 'll be glad to see you , won 't she ?</td>\n",
       "    </tr>\n",
       "  </tbody>\n",
       "</table>\n",
       "</div>"
      ],
      "text/plain": [
       "             #日本語(原文)                 #やさしい日本語  \\\n",
       "0         彼女は通りを横切った。          彼女は通りを横に通っていった。   \n",
       "1   私が知るかぎり彼女は大変よい人だ。         私が知る限り彼女は大変よい人だ。   \n",
       "2  私のクラスの少女たちはみんな親切だ。       私のクラスの少女たちはみんな親切だ。   \n",
       "3      彼は試験に合格できなかった。           彼は試験に合格できなかった。   \n",
       "4  彼女はあなたにあえて喜ぶでしょうね。  彼女はあなたに会うことができて喜ぶでしょうね。   \n",
       "\n",
       "                                          #英語(原文)  \n",
       "0                    she came across the street .  \n",
       "1  as far as i know , she is a very good person .  \n",
       "2            all the girls in my class are kind .  \n",
       "3             he couldn 't pass the examination .  \n",
       "4       she 'll be glad to see you , won 't she ?  "
      ]
     },
     "execution_count": 20,
     "metadata": {},
     "output_type": "execute_result"
    }
   ],
   "source": [
    "df.head()"
   ]
  },
  {
   "cell_type": "code",
   "execution_count": 24,
   "id": "6fb42062",
   "metadata": {},
   "outputs": [],
   "source": [
    "X = df[df.keys()[0]]\n",
    "y = df[df.keys()[1]]"
   ]
  },
  {
   "cell_type": "code",
   "execution_count": 25,
   "id": "90a18843",
   "metadata": {},
   "outputs": [
    {
     "data": {
      "text/plain": [
       "('彼女は通りを横切った。', '彼女は通りを横に通っていった。')"
      ]
     },
     "execution_count": 25,
     "metadata": {},
     "output_type": "execute_result"
    }
   ],
   "source": [
    "X[0], y[0]"
   ]
  },
  {
   "cell_type": "markdown",
   "id": "7ff1cd74",
   "metadata": {
    "heading_collapsed": true
   },
   "source": [
    "# Janome"
   ]
  },
  {
   "cell_type": "code",
   "execution_count": 1,
   "id": "c40be7ac-e13c-4ae4-b787-6123abed4b42",
   "metadata": {
    "hidden": true
   },
   "outputs": [],
   "source": [
    "from janome.tokenizer import Tokenizer"
   ]
  },
  {
   "cell_type": "markdown",
   "id": "ba0ab3f9",
   "metadata": {
    "hidden": true
   },
   "source": [
    "Simple Tokenizer"
   ]
  },
  {
   "cell_type": "code",
   "execution_count": 27,
   "id": "1e05ffe3",
   "metadata": {
    "hidden": true
   },
   "outputs": [
    {
     "name": "stdout",
     "output_type": "stream",
     "text": [
      "彼女\t名詞,代名詞,一般,*,*,*,彼女,カノジョ,カノジョ\n",
      "は\t助詞,係助詞,*,*,*,*,は,ハ,ワ\n",
      "通り\t名詞,一般,*,*,*,*,通り,トオリ,トーリ\n",
      "を\t助詞,格助詞,一般,*,*,*,を,ヲ,ヲ\n",
      "横切っ\t動詞,自立,*,*,五段・ラ行,連用タ接続,横切る,ヨコギッ,ヨコギッ\n",
      "た\t助動詞,*,*,*,特殊・タ,基本形,た,タ,タ\n",
      "。\t記号,句点,*,*,*,*,。,。,。\n"
     ]
    }
   ],
   "source": [
    "t = Tokenizer()\n",
    "for token in t.tokenize(X[0]):\n",
    "    print(token)"
   ]
  },
  {
   "cell_type": "markdown",
   "id": "732e8b37",
   "metadata": {
    "hidden": true
   },
   "source": [
    "Even simpler tokenizer<br>\n",
    "wakati (分ち書き）returns only surface tokens"
   ]
  },
  {
   "cell_type": "code",
   "execution_count": 38,
   "id": "e67a6973",
   "metadata": {
    "hidden": true,
    "scrolled": true
   },
   "outputs": [
    {
     "name": "stdout",
     "output_type": "stream",
     "text": [
      "彼女\n",
      "は\n",
      "通り\n",
      "を\n",
      "横切っ\n",
      "た\n",
      "。\n"
     ]
    }
   ],
   "source": [
    "for token in t.tokenize(X[0], wakati=True):\n",
    "    print(token)"
   ]
  },
  {
   "cell_type": "markdown",
   "id": "3edabbf9",
   "metadata": {},
   "source": [
    "# Identify words to be replaced / ignored"
   ]
  },
  {
   "cell_type": "code",
   "execution_count": null,
   "id": "a8b4e218",
   "metadata": {},
   "outputs": [],
   "source": []
  }
 ],
 "metadata": {
  "kernelspec": {
   "display_name": "Python 3 (ipykernel)",
   "language": "python",
   "name": "python3"
  },
  "language_info": {
   "codemirror_mode": {
    "name": "ipython",
    "version": 3
   },
   "file_extension": ".py",
   "mimetype": "text/x-python",
   "name": "python",
   "nbconvert_exporter": "python",
   "pygments_lexer": "ipython3",
   "version": "3.8.12"
  },
  "toc": {
   "base_numbering": 1,
   "nav_menu": {},
   "number_sections": true,
   "sideBar": true,
   "skip_h1_title": false,
   "title_cell": "Table of Contents",
   "title_sidebar": "Contents",
   "toc_cell": false,
   "toc_position": {},
   "toc_section_display": true,
   "toc_window_display": false
  }
 },
 "nbformat": 4,
 "nbformat_minor": 5
}
