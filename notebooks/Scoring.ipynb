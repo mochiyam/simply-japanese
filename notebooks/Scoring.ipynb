{
 "cells": [
  {
   "cell_type": "markdown",
   "id": "77d64ed2",
   "metadata": {},
   "source": [
    "# Bleu Score"
   ]
  },
  {
   "cell_type": "markdown",
   "id": "fdd5e861",
   "metadata": {},
   "source": [
    "## Setup"
   ]
  },
  {
   "cell_type": "markdown",
   "id": "ee431a5f",
   "metadata": {},
   "source": [
    "### Imports"
   ]
  },
  {
   "cell_type": "code",
   "execution_count": 11,
   "id": "105ae345",
   "metadata": {},
   "outputs": [],
   "source": [
    "import numpy as np\n",
    "import os\n",
    "import pandas as pd"
   ]
  },
  {
   "cell_type": "code",
   "execution_count": 111,
   "id": "1b8cb265",
   "metadata": {},
   "outputs": [
    {
     "name": "stdout",
     "output_type": "stream",
     "text": [
      "BLEU score: 0.9036020036098449\n"
     ]
    }
   ],
   "source": [
    "from nltk.translate.bleu_score import sentence_bleu\n",
    "# Example reference and candidate sentences\n",
    "reference = ['私は犬が好きです', 'あなたは猫が好きですか']\n",
    "candidate = '私は猫が好きです'\n",
    "# Compute the BLEU score for the candidate sentence\n",
    "score = sentence_bleu(reference, candidate)\n",
    "print('BLEU score:', score)"
   ]
  },
  {
   "cell_type": "markdown",
   "id": "cbe1e2a3",
   "metadata": {},
   "source": [
    "### Data"
   ]
  },
  {
   "cell_type": "code",
   "execution_count": 12,
   "id": "65e9c429",
   "metadata": {},
   "outputs": [],
   "source": [
    "os.chdir(\"/home/andi/code/mochiyam/simply-japanese/data/2_RawData\") # Change user name to run on your machine"
   ]
  },
  {
   "cell_type": "code",
   "execution_count": 13,
   "id": "d242b3d1",
   "metadata": {},
   "outputs": [],
   "source": [
    "data150 = \"SNOW_T15_150.xlsx\"\n",
    "df150 = pd.read_excel(data150)"
   ]
  },
  {
   "cell_type": "markdown",
   "id": "391cf6ab",
   "metadata": {},
   "source": [
    "## Code"
   ]
  },
  {
   "cell_type": "code",
   "execution_count": 112,
   "id": "fd359371",
   "metadata": {},
   "outputs": [],
   "source": [
    "def bleu_score_sentence(reference, target):\n",
    "    \"\"\"\n",
    "    Takes two strings of data, evaluates the bleu score and returns it as a float \n",
    "    Input:\n",
    "    reference (string) = \"correct\" translation as reference\n",
    "    target (string) = translated text (MT)\n",
    "    Output:\n",
    "    bleu (float) = evaluation\n",
    "    \"\"\"\n",
    "    return sentence_bleu([reference], target)"
   ]
  },
  {
   "cell_type": "code",
   "execution_count": 84,
   "id": "f0d66e84",
   "metadata": {},
   "outputs": [],
   "source": [
    "def bleu_score_series(source, reference, target):\n",
    "    \"\"\"\n",
    "    Takes two series of data, evaluates the bleu score and returns it as a float \n",
    "    Input:\n",
    "    reference (series) = \"correct\" translation as reference\n",
    "    target (series) = translated text (MT)\n",
    "    Output:\n",
    "    bleu (float) = evaluation\n",
    "    \"\"\"\n",
    "    len(reference) == len(target)\n",
    "    bleu_list = []\n",
    "        \n",
    "    for i in range(len(source)):\n",
    "        bleu_list.append(bleu_score_sentence(reference[i], target[i]))\n",
    "    \n",
    "    \n",
    "    bleu = pd.Series(bleu_list)\n",
    "    return bleu"
   ]
  },
  {
   "cell_type": "markdown",
   "id": "943b24ea",
   "metadata": {},
   "source": [
    "## Tests"
   ]
  },
  {
   "cell_type": "markdown",
   "id": "233864fd",
   "metadata": {},
   "source": [
    "### Sentence test"
   ]
  },
  {
   "cell_type": "markdown",
   "id": "a217f10f",
   "metadata": {},
   "source": [
    "Compare it to something in English => Spits out 0 as expected"
   ]
  },
  {
   "cell_type": "code",
   "execution_count": 123,
   "id": "f9f87353",
   "metadata": {
    "scrolled": false
   },
   "outputs": [
    {
     "data": {
      "text/plain": [
       "0"
      ]
     },
     "execution_count": 123,
     "metadata": {},
     "output_type": "execute_result"
    }
   ],
   "source": [
    "bleu_score_sentence(df150.iloc[0][1], \"This is not even Japanese\")"
   ]
  },
  {
   "cell_type": "markdown",
   "id": "0ea04932",
   "metadata": {},
   "source": [
    "Give it some Japanese => Still a zero"
   ]
  },
  {
   "cell_type": "code",
   "execution_count": 124,
   "id": "bc4f71f0",
   "metadata": {},
   "outputs": [
    {
     "data": {
      "text/plain": [
       "0"
      ]
     },
     "execution_count": 124,
     "metadata": {},
     "output_type": "execute_result"
    }
   ],
   "source": [
    "bleu_score_sentence(df150.iloc[0][1], \"ポッキーが好き\")"
   ]
  },
  {
   "cell_type": "markdown",
   "id": "dbe7f52b",
   "metadata": {},
   "source": [
    "Give it some better Japanese with some words from source => Technically a zero."
   ]
  },
  {
   "cell_type": "code",
   "execution_count": 126,
   "id": "c86228f7",
   "metadata": {},
   "outputs": [
    {
     "data": {
      "text/plain": [
       "2.1817887831637873e-78"
      ]
     },
     "execution_count": 126,
     "metadata": {},
     "output_type": "execute_result"
    }
   ],
   "source": [
    "bleu_score_sentence(df150.iloc[0][1], \"月曜日に仕事にいきます。\")"
   ]
  },
  {
   "cell_type": "markdown",
   "id": "43c1fbb7",
   "metadata": {},
   "source": [
    "Give it even closer Japanese => It recognizes a resemblance."
   ]
  },
  {
   "cell_type": "code",
   "execution_count": 127,
   "id": "1a7bf9a2",
   "metadata": {},
   "outputs": [
    {
     "data": {
      "text/plain": [
       "0.2523623444520119"
      ]
     },
     "execution_count": 127,
     "metadata": {},
     "output_type": "execute_result"
    }
   ],
   "source": [
    "bleu_score_sentence(df150.iloc[0][1], \"月曜日までに仕事にいきます。\")"
   ]
  },
  {
   "cell_type": "markdown",
   "id": "a15bac2f",
   "metadata": {},
   "source": [
    "Give it the identical reference sentence with a typo => High score, but the sentence is technically incorrect (verb missing)"
   ]
  },
  {
   "cell_type": "code",
   "execution_count": 129,
   "id": "9b27b0d2",
   "metadata": {},
   "outputs": [
    {
     "data": {
      "text/plain": [
       "0.8680538146126793"
      ]
     },
     "execution_count": 129,
     "metadata": {},
     "output_type": "execute_result"
    }
   ],
   "source": [
    "bleu_score_sentence(df150.iloc[0][1], \"月曜日までにこの仕事をわらせてください。\")"
   ]
  },
  {
   "cell_type": "markdown",
   "id": "d91271e0",
   "metadata": {},
   "source": [
    "Give it exactly the source sentence => OK"
   ]
  },
  {
   "cell_type": "code",
   "execution_count": 130,
   "id": "b8a607b1",
   "metadata": {},
   "outputs": [
    {
     "data": {
      "text/plain": [
       "0.6159692777152226"
      ]
     },
     "execution_count": 130,
     "metadata": {},
     "output_type": "execute_result"
    }
   ],
   "source": [
    "bleu_score_sentence(df150.iloc[0][1], \"月曜日までにこの仕事を終えて下さい。\")"
   ]
  },
  {
   "cell_type": "markdown",
   "id": "01f9b578",
   "metadata": {},
   "source": [
    "Give it the identical reference sentence => 1, as expected."
   ]
  },
  {
   "cell_type": "code",
   "execution_count": 131,
   "id": "6dd0e2f2",
   "metadata": {
    "scrolled": true
   },
   "outputs": [
    {
     "data": {
      "text/plain": [
       "1.0"
      ]
     },
     "execution_count": 131,
     "metadata": {},
     "output_type": "execute_result"
    }
   ],
   "source": [
    "bleu_score_sentence(df150.iloc[0][1], \"月曜日までにこの仕事を終わらせてください。\")"
   ]
  },
  {
   "cell_type": "markdown",
   "id": "5df7ecba",
   "metadata": {},
   "source": [
    "### List test"
   ]
  },
  {
   "cell_type": "code",
   "execution_count": 72,
   "id": "6b473e54",
   "metadata": {},
   "outputs": [],
   "source": [
    "target = pd.Series(np.random.randint(0,100,size=(150,))).apply(str)"
   ]
  },
  {
   "cell_type": "code",
   "execution_count": 95,
   "id": "09599cac",
   "metadata": {
    "scrolled": true
   },
   "outputs": [
    {
     "data": {
      "text/plain": [
       "0      0\n",
       "1      0\n",
       "2      0\n",
       "3      0\n",
       "4      0\n",
       "      ..\n",
       "145    0\n",
       "146    0\n",
       "147    0\n",
       "148    0\n",
       "149    0\n",
       "Length: 150, dtype: int64"
      ]
     },
     "execution_count": 95,
     "metadata": {},
     "output_type": "execute_result"
    }
   ],
   "source": [
    "bleu_score_series(df150.iloc[:, 0], df150.iloc[:, 1], target)"
   ]
  }
 ],
 "metadata": {
  "kernelspec": {
   "display_name": "Python 3 (ipykernel)",
   "language": "python",
   "name": "python3"
  },
  "language_info": {
   "codemirror_mode": {
    "name": "ipython",
    "version": 3
   },
   "file_extension": ".py",
   "mimetype": "text/x-python",
   "name": "python",
   "nbconvert_exporter": "python",
   "pygments_lexer": "ipython3",
   "version": "3.8.12"
  },
  "toc": {
   "base_numbering": 1,
   "nav_menu": {},
   "number_sections": true,
   "sideBar": true,
   "skip_h1_title": false,
   "title_cell": "Table of Contents",
   "title_sidebar": "Contents",
   "toc_cell": false,
   "toc_position": {},
   "toc_section_display": true,
   "toc_window_display": false
  }
 },
 "nbformat": 4,
 "nbformat_minor": 5
}
