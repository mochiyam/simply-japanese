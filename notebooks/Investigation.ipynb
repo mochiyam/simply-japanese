{
 "cells": [
  {
   "cell_type": "markdown",
   "id": "f540c396-1fff-4f24-ad50-19a849fe0046",
   "metadata": {
    "tags": []
   },
   "source": [
    "# 1.) Useful Information"
   ]
  },
  {
   "cell_type": "markdown",
   "id": "ce65c844-abf0-4c23-8d23-dcf126b2f8e1",
   "metadata": {
    "tags": []
   },
   "source": [
    "## 1.1) \n",
    "- Feature Engineering (Japanese)<br>\n",
    "https://ie.u-ryukyu.ac.jp/~tnal/2021/dm/static/4-nlp/nlp1.html"
   ]
  },
  {
   "cell_type": "markdown",
   "id": "d2bce412-df4f-43c8-9651-e45a1f532879",
   "metadata": {
    "tags": []
   },
   "source": [
    "## 1.2) Tutorials\n",
    "\n",
    "- Practical First Step To NLP Japanese (English) <br>\n",
    "https://medium.com/in-pursuit-of-artificial-intelligence/practical-first-steps-to-nlp-in-japanese-18e08b88d906\n",
    "\n",
    "- Over of Japanese Libraries\n",
    "https://towardsdatascience.com/an-overview-of-nlp-libraries-for-japanese-be1805837143"
   ]
  },
  {
   "cell_type": "markdown",
   "id": "41da9e3a-a01f-4585-8e94-de7cbbb1be89",
   "metadata": {
    "tags": []
   },
   "source": [
    "# 2.) Resources"
   ]
  },
  {
   "cell_type": "markdown",
   "id": "73961184-96a7-4773-89e0-e3d41270c874",
   "metadata": {
    "jp-MarkdownHeadingCollapsed": true,
    "tags": []
   },
   "source": [
    "## 2.1) Code Resources\n",
    "\n",
    "- List of Python libraries, pre-trained models, dictionaries, and corpora of NLP for Japanese: <br>\n",
    "https://github.com/taishi-i/awesome-japanese-nlp-resources\n",
    "\n",
    "- Used multilingual pre-trained text-to-text transformer on SNOWs dataset (Japanese)<br>\n",
    "https://tech.fusic.co.jp/posts/2020-11-20-multilingual-t5/ <br>\n",
    "Result was meh.. guesses that greater FINE_TUNE_STEPS=3000 should make it better"
   ]
  },
  {
   "cell_type": "markdown",
   "id": "3c31da39-3a96-4d0a-ba6a-7633cffbb50b",
   "metadata": {},
   "source": [
    "## 2.2) Available Corpus\n",
    "Free web text corpus <br>\n",
    "https://github.com/ikegami-yukino/dataset-list/blob/master/free_text_corpus.md"
   ]
  },
  {
   "cell_type": "markdown",
   "id": "491f86ff-8ac4-4686-b5c5-04e2fed713dc",
   "metadata": {
    "jp-MarkdownHeadingCollapsed": true,
    "tags": []
   },
   "source": [
    "# 3.) Models (Transfer Learning)\n",
    "Pre-trained models that can be possible used.\n",
    "\n",
    "https://huggingface.co/cl-tohoku"
   ]
  },
  {
   "cell_type": "code",
   "execution_count": null,
   "id": "11130fd4-7c5a-41a2-b92f-d4f698b26e19",
   "metadata": {},
   "outputs": [],
   "source": []
  },
  {
   "cell_type": "code",
   "execution_count": null,
   "id": "e236a57e-696c-4359-a09a-570b8dbbabfa",
   "metadata": {},
   "outputs": [],
   "source": []
  }
 ],
 "metadata": {
  "kernelspec": {
   "display_name": "Python 3 (ipykernel)",
   "language": "python",
   "name": "python3"
  },
  "language_info": {
   "codemirror_mode": {
    "name": "ipython",
    "version": 3
   },
   "file_extension": ".py",
   "mimetype": "text/x-python",
   "name": "python",
   "nbconvert_exporter": "python",
   "pygments_lexer": "ipython3",
   "version": "3.8.12"
  }
 },
 "nbformat": 4,
 "nbformat_minor": 5
}
