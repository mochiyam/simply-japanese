{
 "cells": [
  {
   "cell_type": "markdown",
   "id": "f540c396-1fff-4f24-ad50-19a849fe0046",
   "metadata": {
    "tags": []
   },
   "source": [
    "# 1.) Useful Information"
   ]
  },
  {
   "cell_type": "markdown",
   "id": "ce65c844-abf0-4c23-8d23-dcf126b2f8e1",
   "metadata": {
    "tags": []
   },
   "source": [
    "## 1.1) \n",
    "- Feature Engineering (Japanese)<br>\n",
    "https://ie.u-ryukyu.ac.jp/~tnal/2021/dm/static/4-nlp/nlp1.html\n",
    "\n",
    "- Practical First Step To NLP Japanese (English) <br>\n",
    "https://medium.com/in-pursuit-of-artificial-intelligence/practical-first-steps-to-nlp-in-japanese-18e08b88d906\n",
    "\n",
    "- Overview of Japanese Libraries\n",
    "https://towardsdatascience.com/an-overview-of-nlp-libraries-for-japanese-be1805837143\n",
    "\n",
    "- T5 Text-To-Text (Japanese) : Recommended by the dataset Maintainer\n",
    "https://www.ogis-ri.co.jp/otc/hiroba/technical/similar-document-search/part7.html"
   ]
  },
  {
   "cell_type": "markdown",
   "id": "bf43cd62-8932-4c22-b5a0-427625d84250",
   "metadata": {
    "tags": []
   },
   "source": [
    "## 1.2) Research papers\n",
    "\n",
    "- Transformer https://arxiv.org/pdf/1706.03762.pdf\n",
    "- Attention - description with code http://nlp.seas.harvard.edu/2018/04/03/attention.html#attention\n",
    "- Seq2Seq T5 file:///C:/Users/dania/OneDrive/Desktop/simply-Japanese/T5.pdf\n"
   ]
  },
  {
   "cell_type": "markdown",
   "id": "41da9e3a-a01f-4585-8e94-de7cbbb1be89",
   "metadata": {
    "tags": []
   },
   "source": [
    "# 2.) Resources"
   ]
  },
  {
   "cell_type": "markdown",
   "id": "73961184-96a7-4773-89e0-e3d41270c874",
   "metadata": {
    "jp-MarkdownHeadingCollapsed": true,
    "tags": []
   },
   "source": [
    "## 2.1) Code Resources\n",
    "\n",
    "- List of Python libraries, pre-trained models, dictionaries, and corpora of NLP for Japanese: <br>\n",
    "https://github.com/taishi-i/awesome-japanese-nlp-resources\n",
    "\n",
    "- Used multilingual pre-trained text-to-text transformer on SNOWs dataset (Japanese)<br>\n",
    "https://tech.fusic.co.jp/posts/2020-11-20-multilingual-t5/ <br>\n",
    "Result was meh.. guesses that greater FINE_TUNE_STEPS=3000 should make it better"
   ]
  },
  {
   "cell_type": "markdown",
   "id": "3c31da39-3a96-4d0a-ba6a-7633cffbb50b",
   "metadata": {},
   "source": [
    "## 2.2) Available Corpus\n",
    "- Free web text corpus <br>\n",
    "https://github.com/ikegami-yukino/dataset-list/blob/master/free_text_corpus.md"
   ]
  },
  {
   "cell_type": "markdown",
   "id": "491f86ff-8ac4-4686-b5c5-04e2fed713dc",
   "metadata": {
    "tags": []
   },
   "source": [
    "# 3.) Models (Transfer Learning)\n",
    "Pre-trained models that can be possible used.\n",
    "\n",
    "- https://huggingface.co/cl-tohoku\n",
    "- SpaCy\n",
    "- HuggingFace\n",
    "\n",
    "\n",
    "# Pretrained model word2Vec\n",
    "https://github.com/shiroyagicorp/japanese-word2vec-model-builder"
   ]
  },
  {
   "cell_type": "markdown",
   "id": "11130fd4-7c5a-41a2-b92f-d4f698b26e19",
   "metadata": {},
   "source": [
    "# 4.) Evaluation\n",
    "\n",
    "- BLEU\n",
    "https://github.com/chakki-works/sumeval\n",
    "- SARI"
   ]
  },
  {
   "cell_type": "markdown",
   "id": "ff76a3ab-24c0-46f1-bae0-23c5055d904c",
   "metadata": {},
   "source": [
    "### Cosine Similarity\n",
    "\n",
    "\n"
   ]
  },
  {
   "cell_type": "code",
   "execution_count": null,
   "id": "663843fa-1528-43f8-a865-904d42417e50",
   "metadata": {},
   "outputs": [],
   "source": []
  }
 ],
 "metadata": {
  "kernelspec": {
   "display_name": "Python 3 (ipykernel)",
   "language": "python",
   "name": "python3"
  },
  "language_info": {
   "codemirror_mode": {
    "name": "ipython",
    "version": 3
   },
   "file_extension": ".py",
   "mimetype": "text/x-python",
   "name": "python",
   "nbconvert_exporter": "python",
   "pygments_lexer": "ipython3",
   "version": "3.8.12"
  },
  "vscode": {
   "interpreter": {
    "hash": "eb2145ed41b1af7fe232120fa962063b18150619d590444428e8892237256527"
   }
  }
 },
 "nbformat": 4,
 "nbformat_minor": 5
}
