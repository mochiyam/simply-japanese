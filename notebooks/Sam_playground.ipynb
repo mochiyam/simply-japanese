{
 "cells": [
  {
   "cell_type": "code",
   "execution_count": 1,
   "id": "e04d0d4a-eb59-412e-badf-dff1a1b74c02",
   "metadata": {
    "tags": []
   },
   "outputs": [],
   "source": [
    "# !pip install mecab-python3\n",
    "#These wheels include a copy of the MeCab library, but not a dictionary. \n",
    "#In order to use MeCab you'll need to install a dictionary. unidic-lite is a good one to start with:\n",
    "# !pip install unidic-lite"
   ]
  },
  {
   "cell_type": "code",
   "execution_count": 2,
   "id": "dd0ba96a-a4ac-4a45-9a0f-48de5898e38b",
   "metadata": {
    "tags": []
   },
   "outputs": [],
   "source": [
    "# normalization tool\n",
    "# !pip install neologdn"
   ]
  },
  {
   "cell_type": "code",
   "execution_count": 3,
   "id": "e4abbff6-adb4-474e-b92a-6d59c744aa8d",
   "metadata": {
    "tags": []
   },
   "outputs": [],
   "source": [
    "# !pip install openpyxl"
   ]
  },
  {
   "cell_type": "code",
   "execution_count": 4,
   "id": "757ad56a-eede-439b-9581-0b940dff1ada",
   "metadata": {
    "tags": []
   },
   "outputs": [],
   "source": [
    "# # To be able to see Japanese!\n",
    "# !pip install japanize_matplotlib"
   ]
  },
  {
   "cell_type": "markdown",
   "id": "23be0b4b-4e1e-42db-935b-100e95db2407",
   "metadata": {
    "tags": []
   },
   "source": [
    "everything was deleted what a christmas miracle....\n",
    "lets start again ...\n",
    "\n",
    "\n",
    "## Librarys"
   ]
  },
  {
   "cell_type": "code",
   "execution_count": 5,
   "id": "dba8a53d-8b81-449d-83da-d9d94f726dcb",
   "metadata": {
    "tags": []
   },
   "outputs": [],
   "source": [
    "import sklearn\n",
    "from sklearn.metrics.pairwise import cosine_similarity\n",
    "import pandas as pd\n",
    "import numpy as np\n",
    "\n",
    "import os\n",
    "import pandas as pd\n",
    "\n",
    "# Preprocessing\n",
    "import MeCab\n",
    "import neologdn\n",
    "import collections\n",
    "from nltk import FreqDist\n",
    "from nltk.corpus import stopwords\n",
    "\n",
    "# Visualization\n",
    "import matplotlib.pyplot as plt\n",
    "import japanize_matplotlib\n",
    "#import seaborn as sns # REMINDER: make sure to remove if not using!"
   ]
  },
  {
   "cell_type": "code",
   "execution_count": 6,
   "id": "83dc8467-21cf-4d4b-abf7-07fb4be1df4c",
   "metadata": {
    "tags": []
   },
   "outputs": [
    {
     "data": {
      "text/html": [
       "<div>\n",
       "<style scoped>\n",
       "    .dataframe tbody tr th:only-of-type {\n",
       "        vertical-align: middle;\n",
       "    }\n",
       "\n",
       "    .dataframe tbody tr th {\n",
       "        vertical-align: top;\n",
       "    }\n",
       "\n",
       "    .dataframe thead th {\n",
       "        text-align: right;\n",
       "    }\n",
       "</style>\n",
       "<table border=\"1\" class=\"dataframe\">\n",
       "  <thead>\n",
       "    <tr style=\"text-align: right;\">\n",
       "      <th></th>\n",
       "      <th>#日本語(原文)</th>\n",
       "      <th>#やさしい日本語</th>\n",
       "      <th>#英語(原文)</th>\n",
       "    </tr>\n",
       "  </thead>\n",
       "  <tbody>\n",
       "    <tr>\n",
       "      <th>0</th>\n",
       "      <td>彼女は通りを横切った。</td>\n",
       "      <td>彼女は通りを横に通っていった。</td>\n",
       "      <td>she came across the street .</td>\n",
       "    </tr>\n",
       "    <tr>\n",
       "      <th>1</th>\n",
       "      <td>私が知るかぎり彼女は大変よい人だ。</td>\n",
       "      <td>私が知る限り彼女は大変よい人だ。</td>\n",
       "      <td>as far as i know , she is a very good person .</td>\n",
       "    </tr>\n",
       "    <tr>\n",
       "      <th>2</th>\n",
       "      <td>私のクラスの少女たちはみんな親切だ。</td>\n",
       "      <td>私のクラスの少女たちはみんな親切だ。</td>\n",
       "      <td>all the girls in my class are kind .</td>\n",
       "    </tr>\n",
       "    <tr>\n",
       "      <th>3</th>\n",
       "      <td>彼は試験に合格できなかった。</td>\n",
       "      <td>彼は試験に合格できなかった。</td>\n",
       "      <td>he couldn 't pass the examination .</td>\n",
       "    </tr>\n",
       "    <tr>\n",
       "      <th>4</th>\n",
       "      <td>彼女はあなたにあえて喜ぶでしょうね。</td>\n",
       "      <td>彼女はあなたに会うことができて喜ぶでしょうね。</td>\n",
       "      <td>she 'll be glad to see you , won 't she ?</td>\n",
       "    </tr>\n",
       "    <tr>\n",
       "      <th>...</th>\n",
       "      <td>...</td>\n",
       "      <td>...</td>\n",
       "      <td>...</td>\n",
       "    </tr>\n",
       "    <tr>\n",
       "      <th>145</th>\n",
       "      <td>いとこは私を町中案内してくれた。</td>\n",
       "      <td>いとこは私に町の中を案内してくれた。</td>\n",
       "      <td>My cousin took me around the town.</td>\n",
       "    </tr>\n",
       "    <tr>\n",
       "      <th>146</th>\n",
       "      <td>木の葉が赤や黄色になり始めた。</td>\n",
       "      <td>森が赤い色や黄色になりはじめた。</td>\n",
       "      <td>The leaves began to turn red and yellow.</td>\n",
       "    </tr>\n",
       "    <tr>\n",
       "      <th>147</th>\n",
       "      <td>今頃ロンドンは寒いに違いない。</td>\n",
       "      <td>今の季節ロンドンは寒いに違いない。</td>\n",
       "      <td>London must be cold now.</td>\n",
       "    </tr>\n",
       "    <tr>\n",
       "      <th>148</th>\n",
       "      <td>このスープは何か足した方がいいんじゃないかしら。</td>\n",
       "      <td>このスープは何か加えたほうがいいのではないですか。</td>\n",
       "      <td>This soup needs something to pick it up.</td>\n",
       "    </tr>\n",
       "    <tr>\n",
       "      <th>149</th>\n",
       "      <td>その手紙には強制的なひびきがあるし、さらに悪いことには、思いやりがない。</td>\n",
       "      <td>その手紙は命令だけで優しさがない。</td>\n",
       "      <td>The letter sounds forced, what is worse, insin...</td>\n",
       "    </tr>\n",
       "  </tbody>\n",
       "</table>\n",
       "<p>150 rows × 3 columns</p>\n",
       "</div>"
      ],
      "text/plain": [
       "                                 #日本語(原文)                   #やさしい日本語  \\\n",
       "0                             彼女は通りを横切った。            彼女は通りを横に通っていった。   \n",
       "1                       私が知るかぎり彼女は大変よい人だ。           私が知る限り彼女は大変よい人だ。   \n",
       "2                      私のクラスの少女たちはみんな親切だ。         私のクラスの少女たちはみんな親切だ。   \n",
       "3                          彼は試験に合格できなかった。             彼は試験に合格できなかった。   \n",
       "4                      彼女はあなたにあえて喜ぶでしょうね。    彼女はあなたに会うことができて喜ぶでしょうね。   \n",
       "..                                    ...                        ...   \n",
       "145                      いとこは私を町中案内してくれた。         いとこは私に町の中を案内してくれた。   \n",
       "146                       木の葉が赤や黄色になり始めた。           森が赤い色や黄色になりはじめた。   \n",
       "147                       今頃ロンドンは寒いに違いない。          今の季節ロンドンは寒いに違いない。   \n",
       "148              このスープは何か足した方がいいんじゃないかしら。  このスープは何か加えたほうがいいのではないですか。   \n",
       "149  その手紙には強制的なひびきがあるし、さらに悪いことには、思いやりがない。          その手紙は命令だけで優しさがない。   \n",
       "\n",
       "                                               #英語(原文)  \n",
       "0                         she came across the street .  \n",
       "1       as far as i know , she is a very good person .  \n",
       "2                 all the girls in my class are kind .  \n",
       "3                  he couldn 't pass the examination .  \n",
       "4            she 'll be glad to see you , won 't she ?  \n",
       "..                                                 ...  \n",
       "145                 My cousin took me around the town.  \n",
       "146           The leaves began to turn red and yellow.  \n",
       "147                           London must be cold now.  \n",
       "148           This soup needs something to pick it up.  \n",
       "149  The letter sounds forced, what is worse, insin...  \n",
       "\n",
       "[150 rows x 3 columns]"
      ]
     },
     "execution_count": 6,
     "metadata": {},
     "output_type": "execute_result"
    }
   ],
   "source": [
    "file_name = 'Combined_85K_150.xlsx'\n",
    "df = pd.read_excel(r'/home/samuelhenderson/code/simply-japanese/data/2_RawData/' + file_name)\n",
    "df"
   ]
  },
  {
   "cell_type": "code",
   "execution_count": 7,
   "id": "808b348b-92ef-4e5c-a78a-fc58e71187fe",
   "metadata": {
    "tags": []
   },
   "outputs": [
    {
     "data": {
      "text/html": [
       "<div>\n",
       "<style scoped>\n",
       "    .dataframe tbody tr th:only-of-type {\n",
       "        vertical-align: middle;\n",
       "    }\n",
       "\n",
       "    .dataframe tbody tr th {\n",
       "        vertical-align: top;\n",
       "    }\n",
       "\n",
       "    .dataframe thead th {\n",
       "        text-align: right;\n",
       "    }\n",
       "</style>\n",
       "<table border=\"1\" class=\"dataframe\">\n",
       "  <thead>\n",
       "    <tr style=\"text-align: right;\">\n",
       "      <th></th>\n",
       "      <th>#日本語(原文)</th>\n",
       "      <th>#やさしい日本語</th>\n",
       "    </tr>\n",
       "  </thead>\n",
       "  <tbody>\n",
       "    <tr>\n",
       "      <th>0</th>\n",
       "      <td>彼女は通りを横切った。</td>\n",
       "      <td>彼女は通りを横に通っていった。</td>\n",
       "    </tr>\n",
       "    <tr>\n",
       "      <th>1</th>\n",
       "      <td>私が知るかぎり彼女は大変よい人だ。</td>\n",
       "      <td>私が知る限り彼女は大変よい人だ。</td>\n",
       "    </tr>\n",
       "    <tr>\n",
       "      <th>2</th>\n",
       "      <td>私のクラスの少女たちはみんな親切だ。</td>\n",
       "      <td>私のクラスの少女たちはみんな親切だ。</td>\n",
       "    </tr>\n",
       "    <tr>\n",
       "      <th>3</th>\n",
       "      <td>彼は試験に合格できなかった。</td>\n",
       "      <td>彼は試験に合格できなかった。</td>\n",
       "    </tr>\n",
       "    <tr>\n",
       "      <th>4</th>\n",
       "      <td>彼女はあなたにあえて喜ぶでしょうね。</td>\n",
       "      <td>彼女はあなたに会うことができて喜ぶでしょうね。</td>\n",
       "    </tr>\n",
       "  </tbody>\n",
       "</table>\n",
       "</div>"
      ],
      "text/plain": [
       "             #日本語(原文)                 #やさしい日本語\n",
       "0         彼女は通りを横切った。          彼女は通りを横に通っていった。\n",
       "1   私が知るかぎり彼女は大変よい人だ。         私が知る限り彼女は大変よい人だ。\n",
       "2  私のクラスの少女たちはみんな親切だ。       私のクラスの少女たちはみんな親切だ。\n",
       "3      彼は試験に合格できなかった。           彼は試験に合格できなかった。\n",
       "4  彼女はあなたにあえて喜ぶでしょうね。  彼女はあなたに会うことができて喜ぶでしょうね。"
      ]
     },
     "execution_count": 7,
     "metadata": {},
     "output_type": "execute_result"
    }
   ],
   "source": [
    "df.drop(columns=['#英語(原文)'], inplace=True)\n",
    "df.head()"
   ]
  },
  {
   "cell_type": "code",
   "execution_count": 8,
   "id": "abfaf0e4-46c6-4584-9c36-19e7bb3f9963",
   "metadata": {
    "tags": []
   },
   "outputs": [
    {
     "data": {
      "text/html": [
       "<div>\n",
       "<style scoped>\n",
       "    .dataframe tbody tr th:only-of-type {\n",
       "        vertical-align: middle;\n",
       "    }\n",
       "\n",
       "    .dataframe tbody tr th {\n",
       "        vertical-align: top;\n",
       "    }\n",
       "\n",
       "    .dataframe thead th {\n",
       "        text-align: right;\n",
       "    }\n",
       "</style>\n",
       "<table border=\"1\" class=\"dataframe\">\n",
       "  <thead>\n",
       "    <tr style=\"text-align: right;\">\n",
       "      <th></th>\n",
       "      <th>original</th>\n",
       "      <th>simplified</th>\n",
       "    </tr>\n",
       "  </thead>\n",
       "  <tbody>\n",
       "    <tr>\n",
       "      <th>0</th>\n",
       "      <td>彼女は通りを横切った。</td>\n",
       "      <td>彼女は通りを横に通っていった。</td>\n",
       "    </tr>\n",
       "    <tr>\n",
       "      <th>1</th>\n",
       "      <td>私が知るかぎり彼女は大変よい人だ。</td>\n",
       "      <td>私が知る限り彼女は大変よい人だ。</td>\n",
       "    </tr>\n",
       "    <tr>\n",
       "      <th>2</th>\n",
       "      <td>私のクラスの少女たちはみんな親切だ。</td>\n",
       "      <td>私のクラスの少女たちはみんな親切だ。</td>\n",
       "    </tr>\n",
       "    <tr>\n",
       "      <th>3</th>\n",
       "      <td>彼は試験に合格できなかった。</td>\n",
       "      <td>彼は試験に合格できなかった。</td>\n",
       "    </tr>\n",
       "    <tr>\n",
       "      <th>4</th>\n",
       "      <td>彼女はあなたにあえて喜ぶでしょうね。</td>\n",
       "      <td>彼女はあなたに会うことができて喜ぶでしょうね。</td>\n",
       "    </tr>\n",
       "  </tbody>\n",
       "</table>\n",
       "</div>"
      ],
      "text/plain": [
       "             original               simplified\n",
       "0         彼女は通りを横切った。          彼女は通りを横に通っていった。\n",
       "1   私が知るかぎり彼女は大変よい人だ。         私が知る限り彼女は大変よい人だ。\n",
       "2  私のクラスの少女たちはみんな親切だ。       私のクラスの少女たちはみんな親切だ。\n",
       "3      彼は試験に合格できなかった。           彼は試験に合格できなかった。\n",
       "4  彼女はあなたにあえて喜ぶでしょうね。  彼女はあなたに会うことができて喜ぶでしょうね。"
      ]
     },
     "execution_count": 8,
     "metadata": {},
     "output_type": "execute_result"
    }
   ],
   "source": [
    "df.rename(columns={\"#日本語(原文)\": \"original\", \"#やさしい日本語\": \"simplified\"}, inplace=True)\n",
    "df.head()"
   ]
  },
  {
   "cell_type": "code",
   "execution_count": 9,
   "id": "c54cfef5-d120-4fca-81fd-49486d035817",
   "metadata": {
    "tags": []
   },
   "outputs": [],
   "source": [
    "# cosine similarity \n",
    "# X= df['original']\n",
    "# y= df['simplified']\n",
    "\n",
    "# cosine_similarity(X, y)"
   ]
  },
  {
   "cell_type": "code",
   "execution_count": 10,
   "id": "b99331bc-d05b-4cce-ae4a-450771e18aec",
   "metadata": {
    "tags": []
   },
   "outputs": [],
   "source": [
    "#testing out stuff from github repository : \n",
    "# https://github.com/ZHAOTING/Japanese-sentence-similarity-scorer"
   ]
  },
  {
   "cell_type": "code",
   "execution_count": 11,
   "id": "2b1c206c-99d3-4d6e-aba1-c4a4b9cdcc18",
   "metadata": {},
   "outputs": [
    {
     "name": "stdout",
     "output_type": "stream",
     "text": [
      "/home/samuelhenderson/.pyenv/versions/simply-japanese/bin/python: No module named unidic\n"
     ]
    }
   ],
   "source": [
    "!python -m unidic download\n"
   ]
  },
  {
   "cell_type": "code",
   "execution_count": 12,
   "id": "7f1dd08b-ea4f-43b8-9974-4811e95b3061",
   "metadata": {
    "tags": []
   },
   "outputs": [],
   "source": [
    "# #fast text\n",
    "# import fasttext\n",
    "# import fasttext.util"
   ]
  },
  {
   "cell_type": "code",
   "execution_count": 13,
   "id": "f253da11-b0fa-4cd5-8606-8bd17d9ca319",
   "metadata": {},
   "outputs": [
    {
     "ename": "NameError",
     "evalue": "name 'fasttext' is not defined",
     "output_type": "error",
     "traceback": [
      "\u001b[0;31m---------------------------------------------------------------------------\u001b[0m",
      "\u001b[0;31mNameError\u001b[0m                                 Traceback (most recent call last)",
      "Cell \u001b[0;32mIn[13], line 1\u001b[0m\n\u001b[0;32m----> 1\u001b[0m \u001b[43mfasttext\u001b[49m\u001b[38;5;241m.\u001b[39mutil\u001b[38;5;241m.\u001b[39mdownload_model(\u001b[38;5;124m'\u001b[39m\u001b[38;5;124mjp\u001b[39m\u001b[38;5;124m'\u001b[39m, if_exists\u001b[38;5;241m=\u001b[39m\u001b[38;5;124m'\u001b[39m\u001b[38;5;124mignore\u001b[39m\u001b[38;5;124m'\u001b[39m)  \u001b[38;5;66;03m# English\u001b[39;00m\n\u001b[1;32m      2\u001b[0m ft \u001b[38;5;241m=\u001b[39m fasttext\u001b[38;5;241m.\u001b[39mload_model(\u001b[38;5;124m'\u001b[39m\u001b[38;5;124mcc.en.300.bin\u001b[39m\u001b[38;5;124m'\u001b[39m)\n",
      "\u001b[0;31mNameError\u001b[0m: name 'fasttext' is not defined"
     ]
    }
   ],
   "source": [
    "fasttext.util.download_model('jp', if_exists='ignore')  # English\n",
    "ft = fasttext.load_model('cc.en.300.bin')"
   ]
  },
  {
   "cell_type": "markdown",
   "id": "c3640525-e8e0-48d7-a40c-f26d2fb1b221",
   "metadata": {},
   "source": [
    "## SumEval\n",
    "https://github.com/chakki-works/sumeval#welcome-contribution-tada"
   ]
  },
  {
   "cell_type": "code",
   "execution_count": null,
   "id": "db0a8ac1-6eb7-4e1c-9af5-26d103f3bd53",
   "metadata": {
    "tags": []
   },
   "outputs": [],
   "source": [
    "# !pip install -U pip setuptools wheel\n",
    "# !pip install -U spacy\n",
    "# !python -m spacy download en_core_web_sm"
   ]
  },
  {
   "cell_type": "code",
   "execution_count": null,
   "id": "418221e2-8c98-4066-b6b1-4f7f269b5492",
   "metadata": {
    "tags": []
   },
   "outputs": [],
   "source": [
    "# pip install sumeval==0.1.5"
   ]
  },
  {
   "cell_type": "code",
   "execution_count": null,
   "id": "45fcfda2-645b-43d6-8f58-1535ed0ae7be",
   "metadata": {
    "tags": []
   },
   "outputs": [],
   "source": [
    "# pip uninstall sumeval"
   ]
  },
  {
   "cell_type": "code",
   "execution_count": null,
   "id": "f2de4c4b-4954-4bb9-abdb-c2fef23976b5",
   "metadata": {
    "tags": []
   },
   "outputs": [],
   "source": [
    "# pip install janome"
   ]
  },
  {
   "cell_type": "code",
   "execution_count": null,
   "id": "8190ab8c-a2c5-4e05-8658-2e029aaca2ec",
   "metadata": {
    "tags": []
   },
   "outputs": [],
   "source": [
    "import sacrebleu"
   ]
  },
  {
   "cell_type": "code",
   "execution_count": null,
   "id": "1eea230c-87f0-4d3e-85cb-b33acd30775a",
   "metadata": {
    "tags": []
   },
   "outputs": [],
   "source": [
    "from sacrebleu import corpus_bleu, DEFAULT_TOKENIZER"
   ]
  },
  {
   "cell_type": "code",
   "execution_count": null,
   "id": "08bc3c6b-c7b4-4c6a-a566-aefe500905aa",
   "metadata": {
    "tags": []
   },
   "outputs": [],
   "source": [
    "type(df.iloc[0][0])"
   ]
  },
  {
   "cell_type": "code",
   "execution_count": null,
   "id": "ac8b694d-4296-4e21-8127-bb10b9e767e9",
   "metadata": {
    "tags": []
   },
   "outputs": [],
   "source": [
    "from sumeval.metrics.bleu import BLEUCalculator\n",
    "# https://github.com/chakki-works/sumeval\n",
    "from janome.tokenizer import Tokenizer\n",
    "\n",
    "\n",
    "# bleu = BLEUCalculator()\n",
    "# score = bleu.bleu(\"I am waiting on the beach\",\n",
    "#                   \"He is walking on the beach\")\n",
    "\n",
    "bleu_ja = BLEUCalculator(lang=\"ja\")\n",
    "score_ja = bleu_ja.bleu(df.iloc[0][0], df.iloc[0][1])\n",
    "tokenizer_ja()"
   ]
  },
  {
   "cell_type": "code",
   "execution_count": 18,
   "id": "6329473b-35b7-403e-b8cb-4d493969fa2f",
   "metadata": {
    "tags": []
   },
   "outputs": [],
   "source": [
    "from sumeval.metrics.bleu import BLEUCalculator\n",
    "\n",
    "\n",
    "bleu = BLEUCalculator()\n",
    "score = bleu.bleu(\"I am waiting on the beach\",\n",
    "                  \"He is walking on the beach\")\n",
    "\n",
    "# bleu_ja = BLEUCalculator(lang=\"ja\")\n",
    "# score_ja = bleu_ja.bleu(\"私はビーチで待ってる\", \"彼がベンチで待ってる\")"
   ]
  },
  {
   "cell_type": "code",
   "execution_count": null,
   "id": "73ab5d0e-497d-4dcf-a0e7-6618faca3219",
   "metadata": {},
   "outputs": [],
   "source": []
  },
  {
   "cell_type": "code",
   "execution_count": 15,
   "id": "d6095541-ba51-4936-82b0-e405b62a9f84",
   "metadata": {
    "tags": []
   },
   "outputs": [
    {
     "ename": "ImportError",
     "evalue": "cannot import name 'ja_mecab' from 'sacrebleu' (/home/samuelhenderson/.pyenv/versions/3.8.12/envs/simply-japanese/lib/python3.8/site-packages/sacrebleu/__init__.py)",
     "output_type": "error",
     "traceback": [
      "\u001b[0;31m---------------------------------------------------------------------------\u001b[0m",
      "\u001b[0;31mImportError\u001b[0m                               Traceback (most recent call last)",
      "Cell \u001b[0;32mIn[15], line 1\u001b[0m\n\u001b[0;32m----> 1\u001b[0m \u001b[38;5;28;01mfrom\u001b[39;00m \u001b[38;5;21;01msacrebleu\u001b[39;00m \u001b[38;5;28;01mimport\u001b[39;00m ja_mecab\n",
      "\u001b[0;31mImportError\u001b[0m: cannot import name 'ja_mecab' from 'sacrebleu' (/home/samuelhenderson/.pyenv/versions/3.8.12/envs/simply-japanese/lib/python3.8/site-packages/sacrebleu/__init__.py)"
     ]
    }
   ],
   "source": [
    "from sacrebleu import ja_mecab"
   ]
  },
  {
   "cell_type": "code",
   "execution_count": null,
   "id": "729e3ca2-8166-4352-9708-2a654c3eab47",
   "metadata": {
    "tags": []
   },
   "outputs": [],
   "source": [
    "bleu = BLEUCalculator()"
   ]
  },
  {
   "cell_type": "code",
   "execution_count": null,
   "id": "25114726-fd99-4add-ba04-1bc24041cab3",
   "metadata": {
    "tags": []
   },
   "outputs": [],
   "source": [
    "df.iloc[0][0]"
   ]
  },
  {
   "cell_type": "code",
   "execution_count": 17,
   "id": "cb3aec6c-1e5c-496e-b889-7540da0e0075",
   "metadata": {
    "tags": []
   },
   "outputs": [
    {
     "ename": "TypeError",
     "evalue": "tokenizer_ja() missing 1 required positional argument: 'text'",
     "output_type": "error",
     "traceback": [
      "\u001b[0;31m---------------------------------------------------------------------------\u001b[0m",
      "\u001b[0;31mTypeError\u001b[0m                                 Traceback (most recent call last)",
      "Cell \u001b[0;32mIn[17], line 4\u001b[0m\n\u001b[1;32m      1\u001b[0m \u001b[38;5;28;01mfrom\u001b[39;00m \u001b[38;5;21;01msacrebleu\u001b[39;00m\u001b[38;5;21;01m.\u001b[39;00m\u001b[38;5;21;01mmetrics\u001b[39;00m \u001b[38;5;28;01mimport\u001b[39;00m BLEU, CHRF, TER\n\u001b[1;32m      3\u001b[0m bleu_ja \u001b[38;5;241m=\u001b[39m BLEUCalculator(lang\u001b[38;5;241m=\u001b[39m\u001b[38;5;124m\"\u001b[39m\u001b[38;5;124mja\u001b[39m\u001b[38;5;124m\"\u001b[39m)\n\u001b[0;32m----> 4\u001b[0m score_ja \u001b[38;5;241m=\u001b[39m \u001b[43mbleu_ja\u001b[49m\u001b[38;5;241;43m.\u001b[39;49m\u001b[43mbleu\u001b[49m\u001b[43m(\u001b[49m\u001b[43mdf\u001b[49m\u001b[38;5;241;43m.\u001b[39;49m\u001b[43miloc\u001b[49m\u001b[43m[\u001b[49m\u001b[38;5;241;43m0\u001b[39;49m\u001b[43m]\u001b[49m\u001b[43m[\u001b[49m\u001b[38;5;241;43m0\u001b[39;49m\u001b[43m]\u001b[49m\u001b[43m,\u001b[49m\u001b[43m \u001b[49m\u001b[43mdf\u001b[49m\u001b[38;5;241;43m.\u001b[39;49m\u001b[43miloc\u001b[49m\u001b[43m[\u001b[49m\u001b[38;5;241;43m0\u001b[39;49m\u001b[43m]\u001b[49m\u001b[43m[\u001b[49m\u001b[38;5;241;43m1\u001b[39;49m\u001b[43m]\u001b[49m\u001b[43m)\u001b[49m\n",
      "File \u001b[0;32m~/.pyenv/versions/3.8.12/envs/simply-japanese/lib/python3.8/site-packages/sumeval/metrics/bleu.py:57\u001b[0m, in \u001b[0;36mBLEUCalculator.bleu\u001b[0;34m(self, summary, references, score_only)\u001b[0m\n\u001b[1;32m     55\u001b[0m         _s \u001b[38;5;241m=\u001b[39m [_s]\n\u001b[1;32m     56\u001b[0m         _refs \u001b[38;5;241m=\u001b[39m [references]\n\u001b[0;32m---> 57\u001b[0m     bleu \u001b[38;5;241m=\u001b[39m \u001b[43mcorpus_bleu\u001b[49m\u001b[43m(\u001b[49m\n\u001b[1;32m     58\u001b[0m \u001b[43m            \u001b[49m\u001b[43m_s\u001b[49m\u001b[43m,\u001b[49m\u001b[43m \u001b[49m\u001b[43m_refs\u001b[49m\u001b[43m,\u001b[49m\n\u001b[1;32m     59\u001b[0m \u001b[43m            \u001b[49m\u001b[43msmooth_method\u001b[49m\u001b[38;5;241;43m=\u001b[39;49m\u001b[38;5;28;43mself\u001b[39;49m\u001b[38;5;241;43m.\u001b[39;49m\u001b[43msmooth_method\u001b[49m\u001b[43m,\u001b[49m\n\u001b[1;32m     60\u001b[0m \u001b[43m            \u001b[49m\u001b[43msmooth_value\u001b[49m\u001b[38;5;241;43m=\u001b[39;49m\u001b[38;5;28;43mself\u001b[39;49m\u001b[38;5;241;43m.\u001b[39;49m\u001b[43msmooth_value\u001b[49m\u001b[43m,\u001b[49m\n\u001b[1;32m     61\u001b[0m \u001b[43m            \u001b[49m\u001b[43mforce\u001b[49m\u001b[38;5;241;43m=\u001b[39;49m\u001b[38;5;28;43;01mFalse\u001b[39;49;00m\u001b[43m,\u001b[49m\u001b[43m \u001b[49m\u001b[43mlowercase\u001b[49m\u001b[38;5;241;43m=\u001b[39;49m\u001b[38;5;28;43mself\u001b[39;49m\u001b[38;5;241;43m.\u001b[39;49m\u001b[43mlowercase\u001b[49m\u001b[43m,\u001b[49m\n\u001b[1;32m     62\u001b[0m \u001b[43m            \u001b[49m\u001b[43mtokenize\u001b[49m\u001b[38;5;241;43m=\u001b[39;49m\u001b[38;5;28;43mself\u001b[39;49m\u001b[38;5;241;43m.\u001b[39;49m\u001b[43m_tokenizer\u001b[49m\u001b[43m,\u001b[49m\n\u001b[1;32m     63\u001b[0m \u001b[43m            \u001b[49m\u001b[43muse_effective_order\u001b[49m\u001b[38;5;241;43m=\u001b[39;49m\u001b[38;5;28;43mself\u001b[39;49m\u001b[38;5;241;43m.\u001b[39;49m\u001b[43muse_effective_order\u001b[49m\u001b[43m)\u001b[49m\n\u001b[1;32m     64\u001b[0m \u001b[38;5;28;01melse\u001b[39;00m:\n\u001b[1;32m     65\u001b[0m     _s \u001b[38;5;241m=\u001b[39m \u001b[38;5;124m\"\u001b[39m\u001b[38;5;124m \u001b[39m\u001b[38;5;124m\"\u001b[39m\u001b[38;5;241m.\u001b[39mjoin(summary)\n",
      "File \u001b[0;32m~/.pyenv/versions/3.8.12/envs/simply-japanese/lib/python3.8/site-packages/sacrebleu/compat.py:34\u001b[0m, in \u001b[0;36mcorpus_bleu\u001b[0;34m(sys_stream, ref_streams, smooth_method, smooth_value, force, lowercase, tokenize, use_effective_order)\u001b[0m\n\u001b[1;32m     19\u001b[0m \u001b[38;5;250m\u001b[39m\u001b[38;5;124;03m\"\"\"Produces BLEU scores along with its sufficient statistics from a source against one or more references.\u001b[39;00m\n\u001b[1;32m     20\u001b[0m \n\u001b[1;32m     21\u001b[0m \u001b[38;5;124;03m:param sys_stream: The system stream (a sequence of segments)\u001b[39;00m\n\u001b[0;32m   (...)\u001b[0m\n\u001b[1;32m     28\u001b[0m \u001b[38;5;124;03m:return: a `BLEUScore` object\u001b[39;00m\n\u001b[1;32m     29\u001b[0m \u001b[38;5;124;03m\"\"\"\u001b[39;00m\n\u001b[1;32m     30\u001b[0m args \u001b[38;5;241m=\u001b[39m Namespace(\n\u001b[1;32m     31\u001b[0m     smooth_method\u001b[38;5;241m=\u001b[39msmooth_method, smooth_value\u001b[38;5;241m=\u001b[39msmooth_value, force\u001b[38;5;241m=\u001b[39mforce,\n\u001b[1;32m     32\u001b[0m     short\u001b[38;5;241m=\u001b[39m\u001b[38;5;28;01mFalse\u001b[39;00m, lc\u001b[38;5;241m=\u001b[39mlowercase, tokenize\u001b[38;5;241m=\u001b[39mtokenize)\n\u001b[0;32m---> 34\u001b[0m metric \u001b[38;5;241m=\u001b[39m \u001b[43mBLEU\u001b[49m\u001b[43m(\u001b[49m\u001b[43margs\u001b[49m\u001b[43m)\u001b[49m\n\u001b[1;32m     35\u001b[0m \u001b[38;5;28;01mreturn\u001b[39;00m metric\u001b[38;5;241m.\u001b[39mcorpus_score(\n\u001b[1;32m     36\u001b[0m     sys_stream, ref_streams, use_effective_order\u001b[38;5;241m=\u001b[39muse_effective_order)\n",
      "File \u001b[0;32m~/.pyenv/versions/3.8.12/envs/simply-japanese/lib/python3.8/site-packages/sacrebleu/metrics/bleu.py:98\u001b[0m, in \u001b[0;36mBLEU.__init__\u001b[0;34m(self, args)\u001b[0m\n\u001b[1;32m     96\u001b[0m \u001b[38;5;28mself\u001b[39m\u001b[38;5;241m.\u001b[39msmooth_value \u001b[38;5;241m=\u001b[39m args\u001b[38;5;241m.\u001b[39msmooth_value\n\u001b[1;32m     97\u001b[0m \u001b[38;5;28mself\u001b[39m\u001b[38;5;241m.\u001b[39msmooth_method \u001b[38;5;241m=\u001b[39m args\u001b[38;5;241m.\u001b[39msmooth_method\n\u001b[0;32m---> 98\u001b[0m \u001b[38;5;28mself\u001b[39m\u001b[38;5;241m.\u001b[39mtokenizer \u001b[38;5;241m=\u001b[39m \u001b[43mTOKENIZERS\u001b[49m\u001b[43m[\u001b[49m\u001b[43margs\u001b[49m\u001b[38;5;241;43m.\u001b[39;49m\u001b[43mtokenize\u001b[49m\u001b[43m]\u001b[49m\u001b[43m(\u001b[49m\u001b[43m)\u001b[49m\n\u001b[1;32m     99\u001b[0m \u001b[38;5;28mself\u001b[39m\u001b[38;5;241m.\u001b[39msignature \u001b[38;5;241m=\u001b[39m BLEUSignature(args)\n\u001b[1;32m    101\u001b[0m \u001b[38;5;66;03m# Sanity check\u001b[39;00m\n",
      "\u001b[0;31mTypeError\u001b[0m: tokenizer_ja() missing 1 required positional argument: 'text'"
     ]
    }
   ],
   "source": [
    "from sacrebleu.metrics import BLEU, CHRF, TER\n",
    "\n",
    "bleu_ja = BLEUCalculator(lang=\"ja\")\n",
    "score_ja = bleu_ja.bleu(df.iloc[0][0], df.iloc[0][1])\n"
   ]
  },
  {
   "cell_type": "code",
   "execution_count": null,
   "id": "9ae464aa-626e-47fb-bfef-9d961e674c52",
   "metadata": {
    "tags": []
   },
   "outputs": [],
   "source": [
    "import sacrebleu"
   ]
  },
  {
   "cell_type": "code",
   "execution_count": null,
   "id": "b110f30e-94d8-4007-b6fc-011e8066d670",
   "metadata": {
    "tags": []
   },
   "outputs": [],
   "source": [
    "sacrebleu.info()"
   ]
  },
  {
   "cell_type": "code",
   "execution_count": 16,
   "id": "be24b895-bcd9-4771-9e39-72e2e33fc172",
   "metadata": {
    "tags": []
   },
   "outputs": [
    {
     "ename": "TypeError",
     "evalue": "__init__() missing 1 required positional argument: 'args'",
     "output_type": "error",
     "traceback": [
      "\u001b[0;31m---------------------------------------------------------------------------\u001b[0m",
      "\u001b[0;31mTypeError\u001b[0m                                 Traceback (most recent call last)",
      "Cell \u001b[0;32mIn[16], line 10\u001b[0m\n\u001b[1;32m      3\u001b[0m refs \u001b[38;5;241m=\u001b[39m [ \u001b[38;5;66;03m# First set of references\u001b[39;00m\n\u001b[1;32m      4\u001b[0m           [\u001b[38;5;124m'\u001b[39m\u001b[38;5;124mThe dog bit the man.\u001b[39m\u001b[38;5;124m'\u001b[39m, \u001b[38;5;124m'\u001b[39m\u001b[38;5;124mIt was not unexpected.\u001b[39m\u001b[38;5;124m'\u001b[39m, \u001b[38;5;124m'\u001b[39m\u001b[38;5;124mThe man bit him first.\u001b[39m\u001b[38;5;124m'\u001b[39m],\n\u001b[1;32m      5\u001b[0m           \u001b[38;5;66;03m# Second set of references\u001b[39;00m\n\u001b[1;32m      6\u001b[0m           [\u001b[38;5;124m'\u001b[39m\u001b[38;5;124mThe dog had bit the man.\u001b[39m\u001b[38;5;124m'\u001b[39m, \u001b[38;5;124m'\u001b[39m\u001b[38;5;124mNo one was surprised.\u001b[39m\u001b[38;5;124m'\u001b[39m, \u001b[38;5;124m'\u001b[39m\u001b[38;5;124mThe man had bitten the dog.\u001b[39m\u001b[38;5;124m'\u001b[39m],\n\u001b[1;32m      7\u001b[0m         ]\n\u001b[1;32m      8\u001b[0m sys \u001b[38;5;241m=\u001b[39m [\u001b[38;5;124m'\u001b[39m\u001b[38;5;124mThe dog bit the man.\u001b[39m\u001b[38;5;124m'\u001b[39m, \u001b[38;5;124m\"\u001b[39m\u001b[38;5;124mIt wasn\u001b[39m\u001b[38;5;124m'\u001b[39m\u001b[38;5;124mt surprising.\u001b[39m\u001b[38;5;124m\"\u001b[39m, \u001b[38;5;124m'\u001b[39m\u001b[38;5;124mThe man had just bitten him.\u001b[39m\u001b[38;5;124m'\u001b[39m]\n\u001b[0;32m---> 10\u001b[0m bleu \u001b[38;5;241m=\u001b[39m \u001b[43mBLEU\u001b[49m\u001b[43m(\u001b[49m\u001b[43m)\u001b[49m\n\u001b[1;32m     12\u001b[0m bleu\u001b[38;5;241m.\u001b[39mcorpus_score(sys, refs)\n\u001b[1;32m     13\u001b[0m \u001b[38;5;66;03m# BLEU = 48.53 82.4/50.0/45.5/37.5 (BP = 0.943 ratio = 0.944 hyp_len = 17 ref_len = 18)\u001b[39;00m\n",
      "\u001b[0;31mTypeError\u001b[0m: __init__() missing 1 required positional argument: 'args'"
     ]
    }
   ],
   "source": [
    "from sacrebleu.metrics import BLEU, CHRF, TER\n",
    "\n",
    "refs = [ # First set of references\n",
    "          ['The dog bit the man.', 'It was not unexpected.', 'The man bit him first.'],\n",
    "          # Second set of references\n",
    "          ['The dog had bit the man.', 'No one was surprised.', 'The man had bitten the dog.'],\n",
    "        ]\n",
    "sys = ['The dog bit the man.', \"It wasn't surprising.\", 'The man had just bitten him.']\n",
    "\n",
    "bleu = BLEU()\n",
    "\n",
    "bleu.corpus_score(sys, refs)\n",
    "# BLEU = 48.53 82.4/50.0/45.5/37.5 (BP = 0.943 ratio = 0.944 hyp_len = 17 ref_len = 18)\n",
    "\n",
    "bleu.get_signature()\n",
    "# nrefs:2|case:mixed|eff:no|tok:13a|smooth:exp|version:2.0.0\n",
    "\n",
    "chrf = CHRF()\n",
    "\n",
    "chrf.corpus_score(sys, refs)\n",
    "# chrF2 = 59.73"
   ]
  },
  {
   "cell_type": "code",
   "execution_count": null,
   "id": "f4fea000-cb5e-492b-98a5-69f44b0bf64c",
   "metadata": {
    "tags": []
   },
   "outputs": [],
   "source": [
    "!pip list"
   ]
  },
  {
   "cell_type": "code",
   "execution_count": null,
   "id": "9e3e1eff-60dd-4c9c-8f48-95779d21d9f4",
   "metadata": {},
   "outputs": [],
   "source": []
  }
 ],
 "metadata": {
  "kernelspec": {
   "display_name": "Python 3 (ipykernel)",
   "language": "python",
   "name": "python3"
  },
  "language_info": {
   "codemirror_mode": {
    "name": "ipython",
    "version": 3
   },
   "file_extension": ".py",
   "mimetype": "text/x-python",
   "name": "python",
   "nbconvert_exporter": "python",
   "pygments_lexer": "ipython3",
   "version": "3.8.12"
  }
 },
 "nbformat": 4,
 "nbformat_minor": 5
}
