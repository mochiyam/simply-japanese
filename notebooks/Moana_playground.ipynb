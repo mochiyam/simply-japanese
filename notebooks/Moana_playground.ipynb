{
 "cells": [
  {
   "cell_type": "markdown",
   "id": "315f2705-9f10-4e2e-84a3-40179a9c0434",
   "metadata": {},
   "source": [
    "# Installations!"
   ]
  },
  {
   "cell_type": "code",
   "execution_count": 1,
   "id": "9d03455e-5133-4a15-b83c-8549dfcb8f06",
   "metadata": {},
   "outputs": [
    {
     "name": "stdout",
     "output_type": "stream",
     "text": [
      "Requirement already satisfied: mecab-python3 in /root/.pyenv/versions/3.8.12/envs/simply-japanese/lib/python3.8/site-packages (1.0.6)\n"
     ]
    }
   ],
   "source": [
    "!pip install mecab-python3"
   ]
  },
  {
   "cell_type": "code",
   "execution_count": 2,
   "id": "f0029a90-a95f-456e-a85a-d48b4e21e703",
   "metadata": {
    "tags": []
   },
   "outputs": [
    {
     "name": "stdout",
     "output_type": "stream",
     "text": [
      "Requirement already satisfied: unidic-lite in /root/.pyenv/versions/3.8.12/envs/simply-japanese/lib/python3.8/site-packages (1.0.8)\n"
     ]
    }
   ],
   "source": [
    "#These wheels include a copy of the MeCab library, but not a dictionary. \n",
    "#In order to use MeCab you'll need to install a dictionary. unidic-lite is a good one to start with:\n",
    "!pip install unidic-lite"
   ]
  },
  {
   "cell_type": "code",
   "execution_count": 3,
   "id": "2a61c655-fca4-4ca7-8284-aeb4a1832012",
   "metadata": {
    "tags": []
   },
   "outputs": [
    {
     "name": "stdout",
     "output_type": "stream",
     "text": [
      "Requirement already satisfied: neologdn in /root/.pyenv/versions/3.8.12/envs/simply-japanese/lib/python3.8/site-packages (0.5.1)\n"
     ]
    }
   ],
   "source": [
    "# normalization tool\n",
    "!pip install neologdn"
   ]
  },
  {
   "cell_type": "code",
   "execution_count": 4,
   "id": "98247d2a-0bde-4094-9746-31b824c9cc58",
   "metadata": {
    "tags": []
   },
   "outputs": [
    {
     "name": "stdout",
     "output_type": "stream",
     "text": [
      "Requirement already satisfied: openpyxl in /root/.pyenv/versions/3.8.12/envs/simply-japanese/lib/python3.8/site-packages (3.1.0)\n",
      "Requirement already satisfied: et-xmlfile in /root/.pyenv/versions/3.8.12/envs/simply-japanese/lib/python3.8/site-packages (from openpyxl) (1.1.0)\n"
     ]
    }
   ],
   "source": [
    "!pip install openpyxl"
   ]
  },
  {
   "cell_type": "code",
   "execution_count": 5,
   "id": "59adeeaf-d7ee-4bce-b8dc-720ca4e04d3d",
   "metadata": {},
   "outputs": [
    {
     "name": "stdout",
     "output_type": "stream",
     "text": [
      "Requirement already satisfied: japanize_matplotlib in /root/.pyenv/versions/3.8.12/envs/simply-japanese/lib/python3.8/site-packages (1.1.3)\n",
      "Requirement already satisfied: matplotlib in /root/.pyenv/versions/3.8.12/envs/simply-japanese/lib/python3.8/site-packages (from japanize_matplotlib) (3.6.3)\n",
      "Requirement already satisfied: contourpy>=1.0.1 in /root/.pyenv/versions/3.8.12/envs/simply-japanese/lib/python3.8/site-packages (from matplotlib->japanize_matplotlib) (1.0.7)\n",
      "Requirement already satisfied: kiwisolver>=1.0.1 in /root/.pyenv/versions/3.8.12/envs/simply-japanese/lib/python3.8/site-packages (from matplotlib->japanize_matplotlib) (1.4.4)\n",
      "Requirement already satisfied: fonttools>=4.22.0 in /root/.pyenv/versions/3.8.12/envs/simply-japanese/lib/python3.8/site-packages (from matplotlib->japanize_matplotlib) (4.38.0)\n",
      "Requirement already satisfied: packaging>=20.0 in /root/.pyenv/versions/3.8.12/envs/simply-japanese/lib/python3.8/site-packages (from matplotlib->japanize_matplotlib) (22.0)\n",
      "Requirement already satisfied: pyparsing>=2.2.1 in /root/.pyenv/versions/3.8.12/envs/simply-japanese/lib/python3.8/site-packages (from matplotlib->japanize_matplotlib) (3.0.9)\n",
      "Requirement already satisfied: pillow>=6.2.0 in /root/.pyenv/versions/3.8.12/envs/simply-japanese/lib/python3.8/site-packages (from matplotlib->japanize_matplotlib) (9.4.0)\n",
      "Requirement already satisfied: numpy>=1.19 in /root/.pyenv/versions/3.8.12/envs/simply-japanese/lib/python3.8/site-packages (from matplotlib->japanize_matplotlib) (1.23.5)\n",
      "Requirement already satisfied: cycler>=0.10 in /root/.pyenv/versions/3.8.12/envs/simply-japanese/lib/python3.8/site-packages (from matplotlib->japanize_matplotlib) (0.11.0)\n",
      "Requirement already satisfied: python-dateutil>=2.7 in /root/.pyenv/versions/3.8.12/envs/simply-japanese/lib/python3.8/site-packages (from matplotlib->japanize_matplotlib) (2.8.2)\n",
      "Requirement already satisfied: six>=1.5 in /root/.pyenv/versions/3.8.12/envs/simply-japanese/lib/python3.8/site-packages (from python-dateutil>=2.7->matplotlib->japanize_matplotlib) (1.16.0)\n"
     ]
    }
   ],
   "source": [
    "# To be able to see Japanese!\n",
    "!pip install japanize_matplotlib"
   ]
  },
  {
   "cell_type": "markdown",
   "id": "63f62505-0939-4237-ab1d-c8910f324506",
   "metadata": {},
   "source": [
    "# Libraries"
   ]
  },
  {
   "cell_type": "code",
   "execution_count": 47,
   "id": "0ca6f550-d324-4e2c-b3f5-519c2b87dd02",
   "metadata": {
    "tags": []
   },
   "outputs": [],
   "source": [
    "import os\n",
    "import pandas as pd\n",
    "\n",
    "# Preprocessing\n",
    "import MeCab\n",
    "import neologdn\n",
    "import collections\n",
    "from nltk import FreqDist\n",
    "from nltk.corpus import stopwords\n",
    "\n",
    "# Visualization\n",
    "import matplotlib.pyplot as plt\n",
    "import japanize_matplotlib\n",
    "#import seaborn as sns # REMINDER: make sure to remove if not using!"
   ]
  },
  {
   "cell_type": "markdown",
   "id": "f67ab98f-2432-4694-bf22-c671dd7bc913",
   "metadata": {},
   "source": [
    "# Just having fun"
   ]
  },
  {
   "cell_type": "code",
   "execution_count": 7,
   "id": "c89616cf-a1e9-45ab-8389-9a9dd056ddca",
   "metadata": {
    "tags": []
   },
   "outputs": [
    {
     "data": {
      "text/html": [
       "<div>\n",
       "<style scoped>\n",
       "    .dataframe tbody tr th:only-of-type {\n",
       "        vertical-align: middle;\n",
       "    }\n",
       "\n",
       "    .dataframe tbody tr th {\n",
       "        vertical-align: top;\n",
       "    }\n",
       "\n",
       "    .dataframe thead th {\n",
       "        text-align: right;\n",
       "    }\n",
       "</style>\n",
       "<table border=\"1\" class=\"dataframe\">\n",
       "  <thead>\n",
       "    <tr style=\"text-align: right;\">\n",
       "      <th></th>\n",
       "      <th>#日本語(原文)</th>\n",
       "      <th>#やさしい日本語</th>\n",
       "      <th>#英語(原文)</th>\n",
       "    </tr>\n",
       "  </thead>\n",
       "  <tbody>\n",
       "    <tr>\n",
       "      <th>0</th>\n",
       "      <td>月曜日までにこの仕事を終えて下さい。</td>\n",
       "      <td>月曜日までにこの仕事を終わらせてください。</td>\n",
       "      <td>please get this work finished by monday .</td>\n",
       "    </tr>\n",
       "    <tr>\n",
       "      <th>1</th>\n",
       "      <td>失敗してもあきらめてはいけない。</td>\n",
       "      <td>失敗してもダメと思ってはならない。</td>\n",
       "      <td>don 't give up if you fail .</td>\n",
       "    </tr>\n",
       "    <tr>\n",
       "      <th>2</th>\n",
       "      <td>あなたは何を見つめているのですか。</td>\n",
       "      <td>あなたは何を見ているのですか。</td>\n",
       "      <td>what are you gazing at ?</td>\n",
       "    </tr>\n",
       "    <tr>\n",
       "      <th>3</th>\n",
       "      <td>その女の子は母と似ていた。</td>\n",
       "      <td>その少女は母と似ていた。</td>\n",
       "      <td>the girl resembled her mother .</td>\n",
       "    </tr>\n",
       "    <tr>\n",
       "      <th>4</th>\n",
       "      <td>彼は貧しかったので、大学へ行けなかった。</td>\n",
       "      <td>彼はお金がなかったので、大学へ行くことができなかった。</td>\n",
       "      <td>poor as he was , couldn 't go to college .</td>\n",
       "    </tr>\n",
       "  </tbody>\n",
       "</table>\n",
       "</div>"
      ],
      "text/plain": [
       "               #日本語(原文)                     #やさしい日本語  \\\n",
       "0    月曜日までにこの仕事を終えて下さい。        月曜日までにこの仕事を終わらせてください。   \n",
       "1      失敗してもあきらめてはいけない。            失敗してもダメと思ってはならない。   \n",
       "2     あなたは何を見つめているのですか。              あなたは何を見ているのですか。   \n",
       "3         その女の子は母と似ていた。                 その少女は母と似ていた。   \n",
       "4  彼は貧しかったので、大学へ行けなかった。  彼はお金がなかったので、大学へ行くことができなかった。   \n",
       "\n",
       "                                      #英語(原文)  \n",
       "0   please get this work finished by monday .  \n",
       "1                don 't give up if you fail .  \n",
       "2                    what are you gazing at ?  \n",
       "3             the girl resembled her mother .  \n",
       "4  poor as he was , couldn 't go to college .  "
      ]
     },
     "execution_count": 7,
     "metadata": {},
     "output_type": "execute_result"
    }
   ],
   "source": [
    "path = \"/root/code/mochiyam/simply-japanese/data/2_RawData\"\n",
    "df = pd.read_excel(os.path.join(path, 'SNOW_T15_150.xlsx'))\n",
    "df.head()"
   ]
  },
  {
   "cell_type": "code",
   "execution_count": 8,
   "id": "ee66411f-b4db-4785-853f-0cfc309b26d0",
   "metadata": {
    "tags": []
   },
   "outputs": [
    {
     "data": {
      "text/html": [
       "<div>\n",
       "<style scoped>\n",
       "    .dataframe tbody tr th:only-of-type {\n",
       "        vertical-align: middle;\n",
       "    }\n",
       "\n",
       "    .dataframe tbody tr th {\n",
       "        vertical-align: top;\n",
       "    }\n",
       "\n",
       "    .dataframe thead th {\n",
       "        text-align: right;\n",
       "    }\n",
       "</style>\n",
       "<table border=\"1\" class=\"dataframe\">\n",
       "  <thead>\n",
       "    <tr style=\"text-align: right;\">\n",
       "      <th></th>\n",
       "      <th>#日本語(原文)</th>\n",
       "      <th>#やさしい日本語</th>\n",
       "    </tr>\n",
       "  </thead>\n",
       "  <tbody>\n",
       "    <tr>\n",
       "      <th>0</th>\n",
       "      <td>月曜日までにこの仕事を終えて下さい。</td>\n",
       "      <td>月曜日までにこの仕事を終わらせてください。</td>\n",
       "    </tr>\n",
       "    <tr>\n",
       "      <th>1</th>\n",
       "      <td>失敗してもあきらめてはいけない。</td>\n",
       "      <td>失敗してもダメと思ってはならない。</td>\n",
       "    </tr>\n",
       "    <tr>\n",
       "      <th>2</th>\n",
       "      <td>あなたは何を見つめているのですか。</td>\n",
       "      <td>あなたは何を見ているのですか。</td>\n",
       "    </tr>\n",
       "    <tr>\n",
       "      <th>3</th>\n",
       "      <td>その女の子は母と似ていた。</td>\n",
       "      <td>その少女は母と似ていた。</td>\n",
       "    </tr>\n",
       "    <tr>\n",
       "      <th>4</th>\n",
       "      <td>彼は貧しかったので、大学へ行けなかった。</td>\n",
       "      <td>彼はお金がなかったので、大学へ行くことができなかった。</td>\n",
       "    </tr>\n",
       "  </tbody>\n",
       "</table>\n",
       "</div>"
      ],
      "text/plain": [
       "               #日本語(原文)                     #やさしい日本語\n",
       "0    月曜日までにこの仕事を終えて下さい。        月曜日までにこの仕事を終わらせてください。\n",
       "1      失敗してもあきらめてはいけない。            失敗してもダメと思ってはならない。\n",
       "2     あなたは何を見つめているのですか。              あなたは何を見ているのですか。\n",
       "3         その女の子は母と似ていた。                 その少女は母と似ていた。\n",
       "4  彼は貧しかったので、大学へ行けなかった。  彼はお金がなかったので、大学へ行くことができなかった。"
      ]
     },
     "execution_count": 8,
     "metadata": {},
     "output_type": "execute_result"
    }
   ],
   "source": [
    "df.drop(columns=['#英語(原文)'], inplace=True)\n",
    "df.head()"
   ]
  },
  {
   "cell_type": "code",
   "execution_count": 9,
   "id": "62ccc51b-a9ef-4b91-b7a7-d75fc04d9436",
   "metadata": {
    "tags": []
   },
   "outputs": [
    {
     "data": {
      "text/html": [
       "<div>\n",
       "<style scoped>\n",
       "    .dataframe tbody tr th:only-of-type {\n",
       "        vertical-align: middle;\n",
       "    }\n",
       "\n",
       "    .dataframe tbody tr th {\n",
       "        vertical-align: top;\n",
       "    }\n",
       "\n",
       "    .dataframe thead th {\n",
       "        text-align: right;\n",
       "    }\n",
       "</style>\n",
       "<table border=\"1\" class=\"dataframe\">\n",
       "  <thead>\n",
       "    <tr style=\"text-align: right;\">\n",
       "      <th></th>\n",
       "      <th>original</th>\n",
       "      <th>simplified</th>\n",
       "    </tr>\n",
       "  </thead>\n",
       "  <tbody>\n",
       "    <tr>\n",
       "      <th>0</th>\n",
       "      <td>月曜日までにこの仕事を終えて下さい。</td>\n",
       "      <td>月曜日までにこの仕事を終わらせてください。</td>\n",
       "    </tr>\n",
       "    <tr>\n",
       "      <th>1</th>\n",
       "      <td>失敗してもあきらめてはいけない。</td>\n",
       "      <td>失敗してもダメと思ってはならない。</td>\n",
       "    </tr>\n",
       "    <tr>\n",
       "      <th>2</th>\n",
       "      <td>あなたは何を見つめているのですか。</td>\n",
       "      <td>あなたは何を見ているのですか。</td>\n",
       "    </tr>\n",
       "    <tr>\n",
       "      <th>3</th>\n",
       "      <td>その女の子は母と似ていた。</td>\n",
       "      <td>その少女は母と似ていた。</td>\n",
       "    </tr>\n",
       "    <tr>\n",
       "      <th>4</th>\n",
       "      <td>彼は貧しかったので、大学へ行けなかった。</td>\n",
       "      <td>彼はお金がなかったので、大学へ行くことができなかった。</td>\n",
       "    </tr>\n",
       "  </tbody>\n",
       "</table>\n",
       "</div>"
      ],
      "text/plain": [
       "               original                   simplified\n",
       "0    月曜日までにこの仕事を終えて下さい。        月曜日までにこの仕事を終わらせてください。\n",
       "1      失敗してもあきらめてはいけない。            失敗してもダメと思ってはならない。\n",
       "2     あなたは何を見つめているのですか。              あなたは何を見ているのですか。\n",
       "3         その女の子は母と似ていた。                 その少女は母と似ていた。\n",
       "4  彼は貧しかったので、大学へ行けなかった。  彼はお金がなかったので、大学へ行くことができなかった。"
      ]
     },
     "execution_count": 9,
     "metadata": {},
     "output_type": "execute_result"
    }
   ],
   "source": [
    "df.rename(columns={\"#日本語(原文)\": \"original\", \"#やさしい日本語\": \"simplified\"}, inplace=True)\n",
    "df.head()"
   ]
  },
  {
   "cell_type": "code",
   "execution_count": 10,
   "id": "bd96de15-7c9d-4f6d-ba5c-7a3c343fca53",
   "metadata": {
    "tags": []
   },
   "outputs": [
    {
     "name": "stdout",
     "output_type": "stream",
     "text": [
      "月曜\tゲツヨー\tゲツヨウ\t月曜\t名詞-普通名詞-副詞可能\t\t\t3,0\n",
      "日\tヒ\tヒ\t日\t名詞-普通名詞-副詞可能\t\t\t0,1\n",
      "まで\tマデ\tマデ\tまで\t助詞-副助詞\t\t\t\n",
      "に\tニ\tニ\tに\t助詞-格助詞\t\t\t\n",
      "この\tコノ\tコノ\t此の\t連体詞\t\t\t0\n",
      "仕事\tシゴト\tシゴト\t仕事\t名詞-普通名詞-サ変可能\t\t\t0\n",
      "を\tオ\tヲ\tを\t助詞-格助詞\t\t\t\n",
      "終え\tオエ\tオエル\t終える\t動詞-非自立可能\t下一段-ア行\t連用形-一般\t0\n",
      "て\tテ\tテ\tて\t助詞-接続助詞\t\t\t\n",
      "下さい\tクダサイ\tクダサル\t下さる\t動詞-非自立可能\t五段-ラ行\t命令形\t3\n",
      "。\t\t\t。\t補助記号-句点\t\t\t\n",
      "EOS\n",
      "\n"
     ]
    }
   ],
   "source": [
    "tagger = MeCab.Tagger()\n",
    "text = df['original'][0]\n",
    "parsed = tagger.parse(text)\n",
    "print(parsed)"
   ]
  },
  {
   "cell_type": "markdown",
   "id": "7a2e0d53-c1fd-460e-b5be-f6431ccb3f96",
   "metadata": {},
   "source": [
    "名詞 - noun\n",
    "助詞 - particle\n",
    "連体詞 - \n",
    "動詞\n",
    "補助記号"
   ]
  },
  {
   "cell_type": "code",
   "execution_count": 11,
   "id": "9b8b5832-6f89-4944-a2f4-73dda1c596ad",
   "metadata": {
    "tags": []
   },
   "outputs": [
    {
     "name": "stdout",
     "output_type": "stream",
     "text": [
      "['月曜', '日', 'まで', 'に', 'この', '仕事', 'を', '終え', 'て', '下さい', '。']\n"
     ]
    }
   ],
   "source": [
    "# Just testing stuff out\n",
    "test = MeCab.Tagger(\"-O wakati\")\n",
    "text = neologdn.normalize(text, repeat=2)\n",
    "parsed = test.parse(text)\n",
    "print(parsed.split())"
   ]
  },
  {
   "cell_type": "code",
   "execution_count": 12,
   "id": "7898134a-c7ed-4bc1-accd-82952939bf4d",
   "metadata": {
    "tags": []
   },
   "outputs": [
    {
     "name": "stdout",
     "output_type": "stream",
     "text": [
      "Name: unidic-lite\n",
      "Version: 1.0.8\n",
      "Summary: A small version of UniDic packaged for Python\n",
      "Home-page: https://github.com/polm/unidic-lite\n",
      "Author: Paul O'Leary McCann\n",
      "Author-email: polm@dampfkraft.com\n",
      "License: UNKNOWN\n",
      "Location: /root/.pyenv/versions/3.8.12/envs/simply-japanese/lib/python3.8/site-packages\n",
      "Requires: \n",
      "Required-by: \n"
     ]
    }
   ],
   "source": [
    "!pip show unidic-lite"
   ]
  },
  {
   "cell_type": "code",
   "execution_count": 13,
   "id": "db857a77-0bef-4b8a-bcc2-ce3fb8cb4c04",
   "metadata": {
    "tags": []
   },
   "outputs": [
    {
     "name": "stdout",
     "output_type": "stream",
     "text": [
      "月曜\tゲツヨー\tゲツヨウ\t月曜\t名詞-普通名詞-副詞可能\t\t\t3,0\n",
      "日\tヒ\tヒ\t日\t名詞-普通名詞-副詞可能\t\t\t0,1\n",
      "まで\tマデ\tマデ\tまで\t助詞-副助詞\t\t\t\n",
      "に\tニ\tニ\tに\t助詞-格助詞\t\t\t\n",
      "この\tコノ\tコノ\t此の\t連体詞\t\t\t0\n",
      "仕事\tシゴト\tシゴト\t仕事\t名詞-普通名詞-サ変可能\t\t\t0\n",
      "を\tオ\tヲ\tを\t助詞-格助詞\t\t\t\n",
      "終え\tオエ\tオエル\t終える\t動詞-非自立可能\t下一段-ア行\t連用形-一般\t0\n",
      "て\tテ\tテ\tて\t助詞-接続助詞\t\t\t\n",
      "下さい\tクダサイ\tクダサル\t下さる\t動詞-非自立可能\t五段-ラ行\t命令形\t3\n",
      "。\t\t\t。\t補助記号-句点\t\t\t\n",
      "EOS\n",
      "\n"
     ]
    }
   ],
   "source": [
    "test = MeCab.Tagger(\"r'-d /root/.pyenv/versions/3.8.12/envs/simply-japanese/lib/python3.8/site-packages'\")\n",
    "text = neologdn.normalize(text, repeat=2)\n",
    "parsed = test.parse(text)\n",
    "print(parsed)"
   ]
  },
  {
   "cell_type": "code",
   "execution_count": 14,
   "id": "620f5a7d-39bb-4459-9d88-cd262d623da7",
   "metadata": {
    "tags": []
   },
   "outputs": [
    {
     "name": "stdout",
     "output_type": "stream",
     "text": [
      "[('', 300), ('。', 147), ('は', 113), ('た', 60), ('を', 52), ('に', 50), ('の', 49), ('て', 48), ('彼', 48), ('私', 42), ('が', 41), ('し', 28), ('で', 23), ('か', 21), ('ない', 17), ('と', 16), ('だ', 16), ('ます', 16), ('です', 15), ('いる', 13), ('い', 13), ('彼女', 13), ('その', 11), ('も', 8), ('こと', 8)]\n"
     ]
    }
   ],
   "source": [
    "# Super dumb dumb method\n",
    "def count_all_word_frequency():\n",
    "    all_words = collections.Counter()\n",
    "    t = MeCab.Tagger()\n",
    "    for idx, row in df.iterrows():\n",
    "        text = row['original']\n",
    "        node = t.parseToNode(text)\n",
    "        while node:\n",
    "            all_words[node.surface] += 1\n",
    "            node = node.next\n",
    "    return all_words\n",
    "all_words = count_all_word_frequency()\n",
    "# tuples in a list\n",
    "print(all_words.most_common(25))"
   ]
  },
  {
   "cell_type": "code",
   "execution_count": 15,
   "id": "d9a106d0-2ddd-413c-b6eb-8c2987ed3512",
   "metadata": {},
   "outputs": [
    {
     "name": "stdout",
     "output_type": "stream",
     "text": [
      "Requirement already satisfied: nltk in /root/.pyenv/versions/3.8.12/envs/simply-japanese/lib/python3.8/site-packages (3.8.1)\n",
      "Requirement already satisfied: regex>=2021.8.3 in /root/.pyenv/versions/3.8.12/envs/simply-japanese/lib/python3.8/site-packages (from nltk) (2022.10.31)\n",
      "Requirement already satisfied: tqdm in /root/.pyenv/versions/3.8.12/envs/simply-japanese/lib/python3.8/site-packages (from nltk) (4.64.1)\n",
      "Requirement already satisfied: joblib in /root/.pyenv/versions/3.8.12/envs/simply-japanese/lib/python3.8/site-packages (from nltk) (1.2.0)\n",
      "Requirement already satisfied: click in /root/.pyenv/versions/3.8.12/envs/simply-japanese/lib/python3.8/site-packages (from nltk) (8.1.3)\n"
     ]
    }
   ],
   "source": [
    "!pip install nltk"
   ]
  },
  {
   "cell_type": "code",
   "execution_count": 43,
   "id": "6756c156-9908-438d-b7e6-4c25f434fde0",
   "metadata": {
    "tags": []
   },
   "outputs": [
    {
     "data": {
      "image/png": "[encoded data removed]",
      "text/plain": [
       "<Figure size 640x480 with 1 Axes>"
      ]
     },
     "metadata": {},
     "output_type": "display_data"
    }
   ],
   "source": [
    "def plot_word_frequency(word_freq, most_common_num):\n",
    "    freq_dist = FreqDist(word_freq)\n",
    "    freq_dist.plot(most_common_num,cumulative=False)\n",
    "plot_word_frequency(all_words, 25)"
   ]
  },
  {
   "cell_type": "code",
   "execution_count": 17,
   "id": "382e25be-c729-4ba7-8c7c-9d5d416cf222",
   "metadata": {},
   "outputs": [
    {
     "name": "stdout",
     "output_type": "stream",
     "text": [
      "[('', 300), ('。', 147), ('は', 113), ('た', 60), ('を', 52), ('に', 50), ('の', 49), ('て', 48), ('彼', 48), ('私', 42), ('が', 41), ('し', 28), ('で', 23), ('か', 21), ('ない', 17), ('と', 16), ('だ', 16), ('ます', 16), ('です', 15), ('いる', 13), ('い', 13), ('彼女', 13), ('その', 11), ('も', 8), ('こと', 8)]\n"
     ]
    }
   ],
   "source": [
    "# Super dumb dumb method\n",
    "def count_all_word_frequency():\n",
    "    all_words = collections.Counter()\n",
    "    t = MeCab.Tagger()\n",
    "    for idx, row in df.iterrows():\n",
    "        text = row['original']\n",
    "        node = t.parseToNode(text)\n",
    "        while node:\n",
    "            all_words[node.surface] += 1\n",
    "            node = node.next\n",
    "    return all_words\n",
    "all_words = count_all_word_frequency()\n",
    "# tuples in a list\n",
    "print(all_words.most_common(25))"
   ]
  },
  {
   "cell_type": "code",
   "execution_count": 38,
   "id": "3d496b27-2583-4485-81e2-d81045a648bc",
   "metadata": {
    "tags": []
   },
   "outputs": [
    {
     "name": "stdout",
     "output_type": "stream",
     "text": [
      "月曜日までにこの仕事を終えて下さい。\n",
      "あなた 代名詞\n",
      "は 助詞\n",
      "何 代名詞\n",
      "を 助詞\n",
      "見つめ 動詞\n",
      "て 助詞\n",
      "いる 動詞\n",
      "の 助詞\n",
      "です 助動詞\n",
      "か 助詞\n",
      "。 補助記号\n"
     ]
    }
   ],
   "source": [
    "test = MeCab.Tagger(\"-O wakati\")\n",
    "print(text)\n",
    "text = \"あなたは何を見つめているのですか。\"\n",
    "parsed = test.parse(text)\n",
    "node = test.parseToNode(text).next\n",
    "while node.next:\n",
    "    print(node.surface, node.feature.split(',')[0])\n",
    "    node = node.next\n",
    "#node.surface.decode(\"utf-8\", \"ignore\")\n"
   ]
  },
  {
   "cell_type": "code",
   "execution_count": 31,
   "id": "74b65bc2-121d-4ed8-9fb5-85a9c0dc7930",
   "metadata": {
    "tags": []
   },
   "outputs": [],
   "source": [
    "#               助詞           \n",
    "#              /\n",
    "# Remove 付属語 \n",
    "#　　　　　　　 \\\n",
    "#             　 助動詞\n",
    "\n",
    "#月 が｜きれいな｜晩 でし た 。\n",
    "#付属語 : が　・　でした"
   ]
  },
  {
   "cell_type": "markdown",
   "id": "15707b5b-6e9b-4a77-b5b9-53742c43bab7",
   "metadata": {},
   "source": [
    "# With 10_000 Data!\n"
   ]
  },
  {
   "cell_type": "code",
   "execution_count": 54,
   "id": "cfa144e1-fee7-4e81-948c-208ddf12a95a",
   "metadata": {
    "tags": []
   },
   "outputs": [
    {
     "data": {
      "text/html": [
       "<div>\n",
       "<style scoped>\n",
       "    .dataframe tbody tr th:only-of-type {\n",
       "        vertical-align: middle;\n",
       "    }\n",
       "\n",
       "    .dataframe tbody tr th {\n",
       "        vertical-align: top;\n",
       "    }\n",
       "\n",
       "    .dataframe thead th {\n",
       "        text-align: right;\n",
       "    }\n",
       "</style>\n",
       "<table border=\"1\" class=\"dataframe\">\n",
       "  <thead>\n",
       "    <tr style=\"text-align: right;\">\n",
       "      <th></th>\n",
       "      <th>#日本語(原文)</th>\n",
       "      <th>#やさしい日本語</th>\n",
       "      <th>#英語(原文)</th>\n",
       "    </tr>\n",
       "  </thead>\n",
       "  <tbody>\n",
       "    <tr>\n",
       "      <th>0</th>\n",
       "      <td>父は私が外国へ行くことを承知した。</td>\n",
       "      <td>父は私が外国へ行くことを許した。</td>\n",
       "      <td>my father consented to my going abroad .</td>\n",
       "    </tr>\n",
       "    <tr>\n",
       "      <th>1</th>\n",
       "      <td>卑屈な奴。</td>\n",
       "      <td>自分のことをダメだと考える人。</td>\n",
       "      <td>don 't be a dog .</td>\n",
       "    </tr>\n",
       "    <tr>\n",
       "      <th>2</th>\n",
       "      <td>それは本当のはずはない。</td>\n",
       "      <td>それは本当のはずはない。</td>\n",
       "      <td>it cannot be true .</td>\n",
       "    </tr>\n",
       "    <tr>\n",
       "      <th>3</th>\n",
       "      <td>車がそんなに混んでなければ問題ないでしょう。</td>\n",
       "      <td>車がそんなに混んでなければ問題ないでしょう。</td>\n",
       "      <td>we shouldn 't have any trouble if the traffic ...</td>\n",
       "    </tr>\n",
       "    <tr>\n",
       "      <th>4</th>\n",
       "      <td>２時間も待たされた。</td>\n",
       "      <td>２時間も待った。</td>\n",
       "      <td>i was kept waiting for as long as two hours .</td>\n",
       "    </tr>\n",
       "  </tbody>\n",
       "</table>\n",
       "</div>"
      ],
      "text/plain": [
       "                 #日本語(原文)                #やさしい日本語  \\\n",
       "0       父は私が外国へ行くことを承知した。        父は私が外国へ行くことを許した。   \n",
       "1                   卑屈な奴。         自分のことをダメだと考える人。   \n",
       "2            それは本当のはずはない。            それは本当のはずはない。   \n",
       "3  車がそんなに混んでなければ問題ないでしょう。  車がそんなに混んでなければ問題ないでしょう。   \n",
       "4              ２時間も待たされた。                ２時間も待った。   \n",
       "\n",
       "                                             #英語(原文)  \n",
       "0           my father consented to my going abroad .  \n",
       "1                                  don 't be a dog .  \n",
       "2                                it cannot be true .  \n",
       "3  we shouldn 't have any trouble if the traffic ...  \n",
       "4      i was kept waiting for as long as two hours .  "
      ]
     },
     "execution_count": 54,
     "metadata": {},
     "output_type": "execute_result"
    }
   ],
   "source": [
    "path = \"/root/code/mochiyam/simply-japanese/data/2_RawData\"\n",
    "df = pd.read_excel(os.path.join(path, 'SNOW_T15_10000.xlsx'))\n",
    "df.head()"
   ]
  },
  {
   "cell_type": "code",
   "execution_count": 56,
   "id": "d32fe375-71f2-4dd6-b289-843017d49610",
   "metadata": {
    "tags": []
   },
   "outputs": [
    {
     "data": {
      "text/html": [
       "<div>\n",
       "<style scoped>\n",
       "    .dataframe tbody tr th:only-of-type {\n",
       "        vertical-align: middle;\n",
       "    }\n",
       "\n",
       "    .dataframe tbody tr th {\n",
       "        vertical-align: top;\n",
       "    }\n",
       "\n",
       "    .dataframe thead th {\n",
       "        text-align: right;\n",
       "    }\n",
       "</style>\n",
       "<table border=\"1\" class=\"dataframe\">\n",
       "  <thead>\n",
       "    <tr style=\"text-align: right;\">\n",
       "      <th></th>\n",
       "      <th>original</th>\n",
       "      <th>simplified</th>\n",
       "    </tr>\n",
       "  </thead>\n",
       "  <tbody>\n",
       "    <tr>\n",
       "      <th>0</th>\n",
       "      <td>父は私が外国へ行くことを承知した。</td>\n",
       "      <td>父は私が外国へ行くことを許した。</td>\n",
       "    </tr>\n",
       "    <tr>\n",
       "      <th>1</th>\n",
       "      <td>卑屈な奴。</td>\n",
       "      <td>自分のことをダメだと考える人。</td>\n",
       "    </tr>\n",
       "    <tr>\n",
       "      <th>2</th>\n",
       "      <td>それは本当のはずはない。</td>\n",
       "      <td>それは本当のはずはない。</td>\n",
       "    </tr>\n",
       "    <tr>\n",
       "      <th>3</th>\n",
       "      <td>車がそんなに混んでなければ問題ないでしょう。</td>\n",
       "      <td>車がそんなに混んでなければ問題ないでしょう。</td>\n",
       "    </tr>\n",
       "    <tr>\n",
       "      <th>4</th>\n",
       "      <td>２時間も待たされた。</td>\n",
       "      <td>２時間も待った。</td>\n",
       "    </tr>\n",
       "  </tbody>\n",
       "</table>\n",
       "</div>"
      ],
      "text/plain": [
       "                 original              simplified\n",
       "0       父は私が外国へ行くことを承知した。        父は私が外国へ行くことを許した。\n",
       "1                   卑屈な奴。         自分のことをダメだと考える人。\n",
       "2            それは本当のはずはない。            それは本当のはずはない。\n",
       "3  車がそんなに混んでなければ問題ないでしょう。  車がそんなに混んでなければ問題ないでしょう。\n",
       "4              ２時間も待たされた。                ２時間も待った。"
      ]
     },
     "execution_count": 56,
     "metadata": {},
     "output_type": "execute_result"
    }
   ],
   "source": [
    "df.drop(columns=['#英語(原文)'], inplace=True)\n",
    "df.rename(columns={\"#日本語(原文)\": \"original\", \"#やさしい日本語\": \"simplified\"}, inplace=True)\n",
    "df.head()"
   ]
  },
  {
   "cell_type": "code",
   "execution_count": 82,
   "id": "918856f2-9d73-4bff-9290-4f44c2cd369e",
   "metadata": {
    "tags": []
   },
   "outputs": [
    {
     "data": {
      "image/png": "[encoded data removed]",
      "text/plain": [
       "<Figure size 640x480 with 1 Axes>"
      ]
     },
     "metadata": {},
     "output_type": "display_data"
    }
   ],
   "source": [
    "# Counts all the independent word 自立語\n",
    "_stopwords = stopwords.words('japanese')\n",
    "\n",
    "def count_all_words(docs, col='original'):\n",
    "    all_words = collections.Counter()\n",
    "    t = MeCab.Tagger(\"-O wakati\")\n",
    "    for idx, row in docs.iterrows():\n",
    "        text = row[col]\n",
    "        node = t.parseToNode(text).next\n",
    "        while node.next:\n",
    "            part_of_speech = node.feature.split(',')[0]\n",
    "            if part_of_speech in [\"助動詞\", \"助詞\", \"補助記号\"] or node.surface in _stopwords:\n",
    "                node = node.next\n",
    "                continue\n",
    "            all_words[node.surface] += 1\n",
    "            node = node.next\n",
    "    return all_words\n",
    "ind_word_freq = count_all_words(df)\n",
    "plot_word_frequency(ind_word_freq, 25)"
   ]
  },
  {
   "cell_type": "code",
   "execution_count": 68,
   "id": "bb50c4db-7fbc-41d8-8570-61eee145858d",
   "metadata": {
    "tags": []
   },
   "outputs": [
    {
     "data": {
      "text/plain": [
       "[('がた', 2),\n",
       " ('冷め', 2),\n",
       " ('この世', 2),\n",
       " ('暑く', 2),\n",
       " ('けっして', 2),\n",
       " ('受かっ', 2),\n",
       " ('睡眠', 2),\n",
       " ('おもしろく', 2),\n",
       " ('失業', 2),\n",
       " ('青ざめ', 2),\n",
       " ('打っ', 2),\n",
       " ('白', 2),\n",
       " ('奈良', 2),\n",
       " ('消さ', 2),\n",
       " ('野菜', 2),\n",
       " ('運ぶ', 2),\n",
       " ('止める', 2),\n",
       " ('損なっ', 2),\n",
       " ('カ国', 2),\n",
       " ('至急', 2),\n",
       " ('予報', 2),\n",
       " ('式', 2),\n",
       " ('捨て', 2),\n",
       " ('物事', 2),\n",
       " ('メニュー', 2)]"
      ]
     },
     "execution_count": 68,
     "metadata": {},
     "output_type": "execute_result"
    }
   ],
   "source": [
    "top_2000_word_freq = ind_word_freq.most_common(2000)\n",
    "top_2000_word_freq[-25:]"
   ]
  },
  {
   "cell_type": "code",
   "execution_count": null,
   "id": "d0fe1af4-2a80-49c9-a13b-af3b1d3bb3e8",
   "metadata": {},
   "outputs": [],
   "source": [
    "# 1. Find sentences that are exactly the same \n",
    "# 2. temp_list of tokens for sentence original and simplified\n",
    "# 3. Compare the two temp_list\n",
    "# 4. two global_lists of deleted and added(simplified)"
   ]
  },
  {
   "cell_type": "code",
   "execution_count": 118,
   "id": "a89fc1f9-1bf6-48bb-a71c-e803a8096d3e",
   "metadata": {
    "tags": []
   },
   "outputs": [],
   "source": [
    "# temp = df.head(10)\n",
    "# temp"
   ]
  },
  {
   "cell_type": "code",
   "execution_count": 119,
   "id": "59b78a53-173a-4579-9245-07a85336c2a1",
   "metadata": {
    "tags": []
   },
   "outputs": [
    {
     "data": {
      "text/html": [
       "<div>\n",
       "<style scoped>\n",
       "    .dataframe tbody tr th:only-of-type {\n",
       "        vertical-align: middle;\n",
       "    }\n",
       "\n",
       "    .dataframe tbody tr th {\n",
       "        vertical-align: top;\n",
       "    }\n",
       "\n",
       "    .dataframe thead th {\n",
       "        text-align: right;\n",
       "    }\n",
       "</style>\n",
       "<table border=\"1\" class=\"dataframe\">\n",
       "  <thead>\n",
       "    <tr style=\"text-align: right;\">\n",
       "      <th></th>\n",
       "      <th>original</th>\n",
       "      <th>simplified</th>\n",
       "    </tr>\n",
       "  </thead>\n",
       "  <tbody>\n",
       "    <tr>\n",
       "      <th>0</th>\n",
       "      <td>父は私が外国へ行くことを承知した。</td>\n",
       "      <td>父は私が外国へ行くことを許した。</td>\n",
       "    </tr>\n",
       "    <tr>\n",
       "      <th>1</th>\n",
       "      <td>卑屈な奴。</td>\n",
       "      <td>自分のことをダメだと考える人。</td>\n",
       "    </tr>\n",
       "    <tr>\n",
       "      <th>4</th>\n",
       "      <td>２時間も待たされた。</td>\n",
       "      <td>２時間も待った。</td>\n",
       "    </tr>\n",
       "    <tr>\n",
       "      <th>6</th>\n",
       "      <td>彼はいつも父親の陰口を言います。</td>\n",
       "      <td>彼はいつも父のいないところで悪いことを言います。</td>\n",
       "    </tr>\n",
       "    <tr>\n",
       "      <th>7</th>\n",
       "      <td>彼女はもう少しで遅刻するところだった。</td>\n",
       "      <td>彼女はもう少しで遅れるところだった。</td>\n",
       "    </tr>\n",
       "    <tr>\n",
       "      <th>...</th>\n",
       "      <td>...</td>\n",
       "      <td>...</td>\n",
       "    </tr>\n",
       "    <tr>\n",
       "      <th>9993</th>\n",
       "      <td>わたしは犬と猫を飼っています。</td>\n",
       "      <td>私は犬と猫と一緒に住んでいます。</td>\n",
       "    </tr>\n",
       "    <tr>\n",
       "      <th>9994</th>\n",
       "      <td>何と平山先生は良い先生でしょう。</td>\n",
       "      <td>何と平山先生はいい先生でしょう。</td>\n",
       "    </tr>\n",
       "    <tr>\n",
       "      <th>9995</th>\n",
       "      <td>彼女は服にたくさん金を使う。</td>\n",
       "      <td>彼女は服に多くの金を使う。</td>\n",
       "    </tr>\n",
       "    <tr>\n",
       "      <th>9996</th>\n",
       "      <td>彼は長年、腰痛で困っている。</td>\n",
       "      <td>彼は長い間、腰が痛くて困っている。</td>\n",
       "    </tr>\n",
       "    <tr>\n",
       "      <th>9999</th>\n",
       "      <td>私は時間を持て余している。</td>\n",
       "      <td>私は時間がたくさんある。</td>\n",
       "    </tr>\n",
       "  </tbody>\n",
       "</table>\n",
       "<p>5764 rows × 2 columns</p>\n",
       "</div>"
      ],
      "text/plain": [
       "                 original                simplified\n",
       "0       父は私が外国へ行くことを承知した。          父は私が外国へ行くことを許した。\n",
       "1                   卑屈な奴。           自分のことをダメだと考える人。\n",
       "4              ２時間も待たされた。                  ２時間も待った。\n",
       "6        彼はいつも父親の陰口を言います。  彼はいつも父のいないところで悪いことを言います。\n",
       "7     彼女はもう少しで遅刻するところだった。        彼女はもう少しで遅れるところだった。\n",
       "...                   ...                       ...\n",
       "9993      わたしは犬と猫を飼っています。          私は犬と猫と一緒に住んでいます。\n",
       "9994     何と平山先生は良い先生でしょう。          何と平山先生はいい先生でしょう。\n",
       "9995       彼女は服にたくさん金を使う。             彼女は服に多くの金を使う。\n",
       "9996       彼は長年、腰痛で困っている。         彼は長い間、腰が痛くて困っている。\n",
       "9999        私は時間を持て余している。              私は時間がたくさんある。\n",
       "\n",
       "[5764 rows x 2 columns]"
      ]
     },
     "execution_count": 119,
     "metadata": {},
     "output_type": "execute_result"
    }
   ],
   "source": [
    "# Step 1.  Get the corpuses that are different from original and simplified \n",
    "diff_corpus_df = df[df['original'] != df['simplified']]\n",
    "diff_corpus_df"
   ]
  },
  {
   "cell_type": "code",
   "execution_count": 120,
   "id": "6fa90c26-f8b4-4d25-8681-952e90af9d4a",
   "metadata": {
    "tags": []
   },
   "outputs": [],
   "source": [
    "# 2. Create a temp_list of tokens for sentence original and simplified\n",
    "original_temp_list = count_all_words(diff_corpus_df, 'original')\n",
    "simplified_temp_list = count_all_words(diff_corpus_df, 'simplified')"
   ]
  },
  {
   "cell_type": "code",
   "execution_count": 99,
   "id": "c67456dc-5cdf-400f-a019-6baa95bf35d2",
   "metadata": {
    "tags": []
   },
   "outputs": [],
   "source": [
    "# simplified_temp_list"
   ]
  },
  {
   "cell_type": "code",
   "execution_count": 121,
   "id": "a622171e-99a0-45fd-8954-be66c9081ed7",
   "metadata": {
    "tags": []
   },
   "outputs": [],
   "source": [
    "# dict(original_temp_list)"
   ]
  },
  {
   "cell_type": "code",
   "execution_count": 122,
   "id": "431e5072-9be0-4bd4-91d5-01b3307be918",
   "metadata": {
    "tags": []
   },
   "outputs": [],
   "source": [
    "# pd.DataFrame(dict(original_temp_list).items(), columns=['word', 'count'])"
   ]
  },
  {
   "cell_type": "code",
   "execution_count": 124,
   "id": "91a0b23b-a639-4c98-b3df-d2148d8c2e2f",
   "metadata": {
    "tags": []
   },
   "outputs": [],
   "source": [
    "# 3. Compare the two temp_list\n",
    "\n",
    "# Collections library\n",
    "# Elements are subtracted from an iterable or from another mapping (or counter). \n",
    "# Like dict.update() but subtracts counts instead of replacing them. Both inputs and outputs may be zero or negative.\n",
    "diff_temp = simplified_temp_list\n",
    "diff_temp.subtract(original_temp_list)"
   ]
  },
  {
   "cell_type": "code",
   "execution_count": 134,
   "id": "0be54158-304a-4ddc-ac26-249acab854f5",
   "metadata": {
    "tags": []
   },
   "outputs": [
    {
     "data": {
      "text/html": [
       "<div>\n",
       "<style scoped>\n",
       "    .dataframe tbody tr th:only-of-type {\n",
       "        vertical-align: middle;\n",
       "    }\n",
       "\n",
       "    .dataframe tbody tr th {\n",
       "        vertical-align: top;\n",
       "    }\n",
       "\n",
       "    .dataframe thead th {\n",
       "        text-align: right;\n",
       "    }\n",
       "</style>\n",
       "<table border=\"1\" class=\"dataframe\">\n",
       "  <thead>\n",
       "    <tr style=\"text-align: right;\">\n",
       "      <th></th>\n",
       "      <th>word</th>\n",
       "      <th>count</th>\n",
       "    </tr>\n",
       "  </thead>\n",
       "  <tbody>\n",
       "    <tr>\n",
       "      <th>305</th>\n",
       "      <td>君</td>\n",
       "      <td>-683</td>\n",
       "    </tr>\n",
       "    <tr>\n",
       "      <th>1920</th>\n",
       "      <td>下さい</td>\n",
       "      <td>-250</td>\n",
       "    </tr>\n",
       "    <tr>\n",
       "      <th>1927</th>\n",
       "      <td>達</td>\n",
       "      <td>-226</td>\n",
       "    </tr>\n",
       "    <tr>\n",
       "      <th>1926</th>\n",
       "      <td>一</td>\n",
       "      <td>-216</td>\n",
       "    </tr>\n",
       "    <tr>\n",
       "      <th>1818</th>\n",
       "      <td>いけ</td>\n",
       "      <td>-165</td>\n",
       "    </tr>\n",
       "  </tbody>\n",
       "</table>\n",
       "</div>"
      ],
      "text/plain": [
       "     word  count\n",
       "305     君   -683\n",
       "1920  下さい   -250\n",
       "1927    達   -226\n",
       "1926    一   -216\n",
       "1818   いけ   -165"
      ]
     },
     "execution_count": 134,
     "metadata": {},
     "output_type": "execute_result"
    }
   ],
   "source": [
    "diff_temp_df[diff_temp_df['count'] < 0].sort_values(by='count').head()"
   ]
  },
  {
   "cell_type": "code",
   "execution_count": 125,
   "id": "0466fbae-3cf8-44f0-a53e-9ccfdbb7785f",
   "metadata": {
    "tags": []
   },
   "outputs": [],
   "source": [
    "# 4. two global_lists of deleted and added(simplified)\n",
    "deleted = []\n",
    "added = []\n",
    "\n",
    "diff_temp_df = pd.DataFrame(dict(diff_temp).items(), columns=['word', 'count'])\n",
    "deleted =  diff_temp_df[diff_temp_df['count'] >= 0]['word'].tolist()\n",
    "added = diff_temp_df[diff_temp_df['count'] < 0]['word'].tolist()"
   ]
  },
  {
   "cell_type": "code",
   "execution_count": 128,
   "id": "add5dae2-6d5f-4fe4-a65d-67521ed09333",
   "metadata": {
    "tags": []
   },
   "outputs": [
    {
     "data": {
      "text/plain": [
       "(944, 3772)"
      ]
     },
     "execution_count": 128,
     "metadata": {},
     "output_type": "execute_result"
    }
   ],
   "source": [
    "len(deleted), len(added)"
   ]
  }
 ],
 "metadata": {
  "kernelspec": {
   "display_name": "Python 3 (ipykernel)",
   "language": "python",
   "name": "python3"
  },
  "language_info": {
   "codemirror_mode": {
    "name": "ipython",
    "version": 3
   },
   "file_extension": ".py",
   "mimetype": "text/x-python",
   "name": "python",
   "nbconvert_exporter": "python",
   "pygments_lexer": "ipython3",
   "version": "3.8.12"
  }
 },
 "nbformat": 4,
 "nbformat_minor": 5
}
