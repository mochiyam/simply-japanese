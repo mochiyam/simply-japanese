{
 "cells": [
  {
   "cell_type": "code",
   "execution_count": 1,
   "id": "9d03455e-5133-4a15-b83c-8549dfcb8f06",
   "metadata": {
    "tags": []
   },
   "outputs": [
    {
     "name": "stdout",
     "output_type": "stream",
     "text": [
      "Collecting mecab-python3\n",
      "  Downloading mecab_python3-1.0.6-cp38-cp38-manylinux_2_17_x86_64.manylinux2014_x86_64.whl (577 kB)\n",
      "\u001b[2K     \u001b[90m━━━━━━━━━━━━━━━━━━━━━━━━━━━━━━━━━━━━━━━\u001b[0m \u001b[32m577.8/577.8 kB\u001b[0m \u001b[31m9.9 MB/s\u001b[0m eta \u001b[36m0:00:00\u001b[0ma \u001b[36m0:00:01\u001b[0m\n",
      "\u001b[?25hInstalling collected packages: mecab-python3\n",
      "Successfully installed mecab-python3-1.0.6\n"
     ]
    }
   ],
   "source": [
    "!pip install mecab-python3"
   ]
  },
  {
   "cell_type": "code",
   "execution_count": 2,
   "id": "f0029a90-a95f-456e-a85a-d48b4e21e703",
   "metadata": {
    "tags": []
   },
   "outputs": [
    {
     "name": "stdout",
     "output_type": "stream",
     "text": [
      "Collecting unidic-lite\n",
      "  Downloading unidic-lite-1.0.8.tar.gz (47.4 MB)\n",
      "\u001b[2K     \u001b[90m━━━━━━━━━━━━━━━━━━━━━━━━━━━━━━━━━━━━━━━━\u001b[0m \u001b[32m47.4/47.4 MB\u001b[0m \u001b[31m19.2 MB/s\u001b[0m eta \u001b[36m0:00:00\u001b[0m00:01\u001b[0m00:01\u001b[0m\n",
      "\u001b[?25h  Preparing metadata (setup.py) ... \u001b[?25ldone\n",
      "\u001b[?25hBuilding wheels for collected packages: unidic-lite\n",
      "  Building wheel for unidic-lite (setup.py) ... \u001b[?25ldone\n",
      "\u001b[?25h  Created wheel for unidic-lite: filename=unidic_lite-1.0.8-py3-none-any.whl size=47658822 sha256=73d3791f0c46ea4961c73e93b678b36c1bab41a7ddb51a871ba7aa0bbc7abde2\n",
      "  Stored in directory: /root/.cache/pip/wheels/8c/dd/8f/e21fc192dcd38ae31e1185ce4e66e12df4e811e3d469866e15\n",
      "Successfully built unidic-lite\n",
      "Installing collected packages: unidic-lite\n",
      "Successfully installed unidic-lite-1.0.8\n"
     ]
    }
   ],
   "source": [
    "#These wheels include a copy of the MeCab library, but not a dictionary. \n",
    "#In order to use MeCab you'll need to install a dictionary. unidic-lite is a good one to start with:\n",
    "!pip install unidic-lite"
   ]
  },
  {
   "cell_type": "code",
   "execution_count": 24,
   "id": "2a61c655-fca4-4ca7-8284-aeb4a1832012",
   "metadata": {
    "tags": []
   },
   "outputs": [
    {
     "name": "stdout",
     "output_type": "stream",
     "text": [
      "Collecting neologdn\n",
      "  Downloading neologdn-0.5.1.tar.gz (57 kB)\n",
      "\u001b[2K     \u001b[90m━━━━━━━━━━━━━━━━━━━━━━━━━━━━━━━━━━━━━━━━\u001b[0m \u001b[32m57.2/57.2 kB\u001b[0m \u001b[31m6.0 MB/s\u001b[0m eta \u001b[36m0:00:00\u001b[0m\n",
      "\u001b[?25h  Preparing metadata (setup.py) ... \u001b[?25ldone\n",
      "\u001b[?25hBuilding wheels for collected packages: neologdn\n",
      "  Building wheel for neologdn (setup.py) ... \u001b[?25ldone\n",
      "\u001b[?25h  Created wheel for neologdn: filename=neologdn-0.5.1-cp38-cp38-linux_x86_64.whl size=212884 sha256=c10de6f86be22b77a18698ba4d548a42fe1daffa950dac5f19e91a4f8a3c7900\n",
      "  Stored in directory: /root/.cache/pip/wheels/3e/db/10/b3b26caa63c5da86ea3a25043cc4379a66bb3dd30d6f060a37\n",
      "Successfully built neologdn\n",
      "Installing collected packages: neologdn\n",
      "Successfully installed neologdn-0.5.1\n"
     ]
    }
   ],
   "source": [
    "# normalization tool\n",
    "!pip install neologdn"
   ]
  },
  {
   "cell_type": "code",
   "execution_count": 11,
   "id": "98247d2a-0bde-4094-9746-31b824c9cc58",
   "metadata": {
    "tags": []
   },
   "outputs": [
    {
     "name": "stdout",
     "output_type": "stream",
     "text": [
      "Collecting openpyxl\n",
      "  Downloading openpyxl-3.1.0-py2.py3-none-any.whl (250 kB)\n",
      "\u001b[2K     \u001b[90m━━━━━━━━━━━━━━━━━━━━━━━━━━━━━━━━━━━━━━━\u001b[0m \u001b[32m250.0/250.0 kB\u001b[0m \u001b[31m9.7 MB/s\u001b[0m eta \u001b[36m0:00:00\u001b[0m\n",
      "\u001b[?25hCollecting et-xmlfile\n",
      "  Using cached et_xmlfile-1.1.0-py3-none-any.whl (4.7 kB)\n",
      "Installing collected packages: et-xmlfile, openpyxl\n",
      "Successfully installed et-xmlfile-1.1.0 openpyxl-3.1.0\n"
     ]
    }
   ],
   "source": [
    "!pip install openpyxl"
   ]
  },
  {
   "cell_type": "code",
   "execution_count": 25,
   "id": "0ca6f550-d324-4e2c-b3f5-519c2b87dd02",
   "metadata": {
    "tags": []
   },
   "outputs": [],
   "source": [
    "import os\n",
    "import pandas as pd\n",
    "\n",
    "import MeCab\n",
    "import neologdn"
   ]
  },
  {
   "cell_type": "code",
   "execution_count": 12,
   "id": "c89616cf-a1e9-45ab-8389-9a9dd056ddca",
   "metadata": {
    "tags": []
   },
   "outputs": [
    {
     "data": {
      "text/html": [
       "<div>\n",
       "<style scoped>\n",
       "    .dataframe tbody tr th:only-of-type {\n",
       "        vertical-align: middle;\n",
       "    }\n",
       "\n",
       "    .dataframe tbody tr th {\n",
       "        vertical-align: top;\n",
       "    }\n",
       "\n",
       "    .dataframe thead th {\n",
       "        text-align: right;\n",
       "    }\n",
       "</style>\n",
       "<table border=\"1\" class=\"dataframe\">\n",
       "  <thead>\n",
       "    <tr style=\"text-align: right;\">\n",
       "      <th></th>\n",
       "      <th>#日本語(原文)</th>\n",
       "      <th>#やさしい日本語</th>\n",
       "      <th>#英語(原文)</th>\n",
       "    </tr>\n",
       "  </thead>\n",
       "  <tbody>\n",
       "    <tr>\n",
       "      <th>0</th>\n",
       "      <td>月曜日までにこの仕事を終えて下さい。</td>\n",
       "      <td>月曜日までにこの仕事を終わらせてください。</td>\n",
       "      <td>please get this work finished by monday .</td>\n",
       "    </tr>\n",
       "    <tr>\n",
       "      <th>1</th>\n",
       "      <td>失敗してもあきらめてはいけない。</td>\n",
       "      <td>失敗してもダメと思ってはならない。</td>\n",
       "      <td>don 't give up if you fail .</td>\n",
       "    </tr>\n",
       "    <tr>\n",
       "      <th>2</th>\n",
       "      <td>あなたは何を見つめているのですか。</td>\n",
       "      <td>あなたは何を見ているのですか。</td>\n",
       "      <td>what are you gazing at ?</td>\n",
       "    </tr>\n",
       "    <tr>\n",
       "      <th>3</th>\n",
       "      <td>その女の子は母と似ていた。</td>\n",
       "      <td>その少女は母と似ていた。</td>\n",
       "      <td>the girl resembled her mother .</td>\n",
       "    </tr>\n",
       "    <tr>\n",
       "      <th>4</th>\n",
       "      <td>彼は貧しかったので、大学へ行けなかった。</td>\n",
       "      <td>彼はお金がなかったので、大学へ行くことができなかった。</td>\n",
       "      <td>poor as he was , couldn 't go to college .</td>\n",
       "    </tr>\n",
       "  </tbody>\n",
       "</table>\n",
       "</div>"
      ],
      "text/plain": [
       "               #日本語(原文)                     #やさしい日本語  \\\n",
       "0    月曜日までにこの仕事を終えて下さい。        月曜日までにこの仕事を終わらせてください。   \n",
       "1      失敗してもあきらめてはいけない。            失敗してもダメと思ってはならない。   \n",
       "2     あなたは何を見つめているのですか。              あなたは何を見ているのですか。   \n",
       "3         その女の子は母と似ていた。                 その少女は母と似ていた。   \n",
       "4  彼は貧しかったので、大学へ行けなかった。  彼はお金がなかったので、大学へ行くことができなかった。   \n",
       "\n",
       "                                      #英語(原文)  \n",
       "0   please get this work finished by monday .  \n",
       "1                don 't give up if you fail .  \n",
       "2                    what are you gazing at ?  \n",
       "3             the girl resembled her mother .  \n",
       "4  poor as he was , couldn 't go to college .  "
      ]
     },
     "execution_count": 12,
     "metadata": {},
     "output_type": "execute_result"
    }
   ],
   "source": [
    "path = \"/root/code/mochiyam/simply-japanese/data/2_RawData\"\n",
    "df = pd.read_excel(os.path.join(path, 'SNOW_T15_150.xlsx'))\n",
    "df.head()"
   ]
  },
  {
   "cell_type": "code",
   "execution_count": 16,
   "id": "ee66411f-b4db-4785-853f-0cfc309b26d0",
   "metadata": {
    "tags": []
   },
   "outputs": [
    {
     "data": {
      "text/html": [
       "<div>\n",
       "<style scoped>\n",
       "    .dataframe tbody tr th:only-of-type {\n",
       "        vertical-align: middle;\n",
       "    }\n",
       "\n",
       "    .dataframe tbody tr th {\n",
       "        vertical-align: top;\n",
       "    }\n",
       "\n",
       "    .dataframe thead th {\n",
       "        text-align: right;\n",
       "    }\n",
       "</style>\n",
       "<table border=\"1\" class=\"dataframe\">\n",
       "  <thead>\n",
       "    <tr style=\"text-align: right;\">\n",
       "      <th></th>\n",
       "      <th>#日本語(原文)</th>\n",
       "      <th>#やさしい日本語</th>\n",
       "    </tr>\n",
       "  </thead>\n",
       "  <tbody>\n",
       "    <tr>\n",
       "      <th>0</th>\n",
       "      <td>月曜日までにこの仕事を終えて下さい。</td>\n",
       "      <td>月曜日までにこの仕事を終わらせてください。</td>\n",
       "    </tr>\n",
       "    <tr>\n",
       "      <th>1</th>\n",
       "      <td>失敗してもあきらめてはいけない。</td>\n",
       "      <td>失敗してもダメと思ってはならない。</td>\n",
       "    </tr>\n",
       "    <tr>\n",
       "      <th>2</th>\n",
       "      <td>あなたは何を見つめているのですか。</td>\n",
       "      <td>あなたは何を見ているのですか。</td>\n",
       "    </tr>\n",
       "    <tr>\n",
       "      <th>3</th>\n",
       "      <td>その女の子は母と似ていた。</td>\n",
       "      <td>その少女は母と似ていた。</td>\n",
       "    </tr>\n",
       "    <tr>\n",
       "      <th>4</th>\n",
       "      <td>彼は貧しかったので、大学へ行けなかった。</td>\n",
       "      <td>彼はお金がなかったので、大学へ行くことができなかった。</td>\n",
       "    </tr>\n",
       "  </tbody>\n",
       "</table>\n",
       "</div>"
      ],
      "text/plain": [
       "               #日本語(原文)                     #やさしい日本語\n",
       "0    月曜日までにこの仕事を終えて下さい。        月曜日までにこの仕事を終わらせてください。\n",
       "1      失敗してもあきらめてはいけない。            失敗してもダメと思ってはならない。\n",
       "2     あなたは何を見つめているのですか。              あなたは何を見ているのですか。\n",
       "3         その女の子は母と似ていた。                 その少女は母と似ていた。\n",
       "4  彼は貧しかったので、大学へ行けなかった。  彼はお金がなかったので、大学へ行くことができなかった。"
      ]
     },
     "execution_count": 16,
     "metadata": {},
     "output_type": "execute_result"
    }
   ],
   "source": [
    "df.drop(columns=['#英語(原文)'], inplace=True)\n",
    "df.head()"
   ]
  },
  {
   "cell_type": "code",
   "execution_count": 18,
   "id": "62ccc51b-a9ef-4b91-b7a7-d75fc04d9436",
   "metadata": {
    "tags": []
   },
   "outputs": [
    {
     "data": {
      "text/html": [
       "<div>\n",
       "<style scoped>\n",
       "    .dataframe tbody tr th:only-of-type {\n",
       "        vertical-align: middle;\n",
       "    }\n",
       "\n",
       "    .dataframe tbody tr th {\n",
       "        vertical-align: top;\n",
       "    }\n",
       "\n",
       "    .dataframe thead th {\n",
       "        text-align: right;\n",
       "    }\n",
       "</style>\n",
       "<table border=\"1\" class=\"dataframe\">\n",
       "  <thead>\n",
       "    <tr style=\"text-align: right;\">\n",
       "      <th></th>\n",
       "      <th>original</th>\n",
       "      <th>simplified</th>\n",
       "    </tr>\n",
       "  </thead>\n",
       "  <tbody>\n",
       "    <tr>\n",
       "      <th>0</th>\n",
       "      <td>月曜日までにこの仕事を終えて下さい。</td>\n",
       "      <td>月曜日までにこの仕事を終わらせてください。</td>\n",
       "    </tr>\n",
       "    <tr>\n",
       "      <th>1</th>\n",
       "      <td>失敗してもあきらめてはいけない。</td>\n",
       "      <td>失敗してもダメと思ってはならない。</td>\n",
       "    </tr>\n",
       "    <tr>\n",
       "      <th>2</th>\n",
       "      <td>あなたは何を見つめているのですか。</td>\n",
       "      <td>あなたは何を見ているのですか。</td>\n",
       "    </tr>\n",
       "    <tr>\n",
       "      <th>3</th>\n",
       "      <td>その女の子は母と似ていた。</td>\n",
       "      <td>その少女は母と似ていた。</td>\n",
       "    </tr>\n",
       "    <tr>\n",
       "      <th>4</th>\n",
       "      <td>彼は貧しかったので、大学へ行けなかった。</td>\n",
       "      <td>彼はお金がなかったので、大学へ行くことができなかった。</td>\n",
       "    </tr>\n",
       "  </tbody>\n",
       "</table>\n",
       "</div>"
      ],
      "text/plain": [
       "               original                   simplified\n",
       "0    月曜日までにこの仕事を終えて下さい。        月曜日までにこの仕事を終わらせてください。\n",
       "1      失敗してもあきらめてはいけない。            失敗してもダメと思ってはならない。\n",
       "2     あなたは何を見つめているのですか。              あなたは何を見ているのですか。\n",
       "3         その女の子は母と似ていた。                 その少女は母と似ていた。\n",
       "4  彼は貧しかったので、大学へ行けなかった。  彼はお金がなかったので、大学へ行くことができなかった。"
      ]
     },
     "execution_count": 18,
     "metadata": {},
     "output_type": "execute_result"
    }
   ],
   "source": [
    "df.rename(columns={\"#日本語(原文)\": \"original\", \"#やさしい日本語\": \"simplified\"}, inplace=True)\n",
    "df.head()"
   ]
  },
  {
   "cell_type": "code",
   "execution_count": 28,
   "id": "bd96de15-7c9d-4f6d-ba5c-7a3c343fca53",
   "metadata": {
    "tags": []
   },
   "outputs": [
    {
     "name": "stdout",
     "output_type": "stream",
     "text": [
      "月曜\tゲツヨー\tゲツヨウ\t月曜\t名詞-普通名詞-副詞可能\t\t\t3,0\n",
      "日\tヒ\tヒ\t日\t名詞-普通名詞-副詞可能\t\t\t0,1\n",
      "まで\tマデ\tマデ\tまで\t助詞-副助詞\t\t\t\n",
      "に\tニ\tニ\tに\t助詞-格助詞\t\t\t\n",
      "この\tコノ\tコノ\t此の\t連体詞\t\t\t0\n",
      "仕事\tシゴト\tシゴト\t仕事\t名詞-普通名詞-サ変可能\t\t\t0\n",
      "を\tオ\tヲ\tを\t助詞-格助詞\t\t\t\n",
      "終え\tオエ\tオエル\t終える\t動詞-非自立可能\t下一段-ア行\t連用形-一般\t0\n",
      "て\tテ\tテ\tて\t助詞-接続助詞\t\t\t\n",
      "下さい\tクダサイ\tクダサル\t下さる\t動詞-非自立可能\t五段-ラ行\t命令形\t3\n",
      "。\t\t\t。\t補助記号-句点\t\t\t\n",
      "EOS\n",
      "\n"
     ]
    }
   ],
   "source": [
    "tagger = MeCab.Tagger()\n",
    "text = df['original'][0]\n",
    "parsed = tagger.parse(text)\n",
    "print(parsed)"
   ]
  },
  {
   "cell_type": "markdown",
   "id": "7a2e0d53-c1fd-460e-b5be-f6431ccb3f96",
   "metadata": {},
   "source": [
    "名詞 - noun\n",
    "助詞 - particle\n",
    "連体詞 - \n",
    "動詞\n",
    "補助記号"
   ]
  },
  {
   "cell_type": "code",
   "execution_count": 32,
   "id": "9b8b5832-6f89-4944-a2f4-73dda1c596ad",
   "metadata": {
    "tags": []
   },
   "outputs": [
    {
     "name": "stdout",
     "output_type": "stream",
     "text": [
      "['月曜', '日', 'まで', 'に', 'この', '仕事', 'を', '終え', 'て', '下さい', '。']\n"
     ]
    }
   ],
   "source": [
    "# Just testing stuff out\n",
    "test = MeCab.Tagger(\"-O wakati\")\n",
    "text = neologdn.normalize(text, repeat=2)\n",
    "parsed = test.parse(text)\n",
    "print(parsed.split())"
   ]
  },
  {
   "cell_type": "code",
   "execution_count": 33,
   "id": "7898134a-c7ed-4bc1-accd-82952939bf4d",
   "metadata": {
    "tags": []
   },
   "outputs": [
    {
     "name": "stdout",
     "output_type": "stream",
     "text": [
      "Name: unidic-lite\n",
      "Version: 1.0.8\n",
      "Summary: A small version of UniDic packaged for Python\n",
      "Home-page: https://github.com/polm/unidic-lite\n",
      "Author: Paul O'Leary McCann\n",
      "Author-email: polm@dampfkraft.com\n",
      "License: UNKNOWN\n",
      "Location: /root/.pyenv/versions/3.8.12/envs/simply-japanese/lib/python3.8/site-packages\n",
      "Requires: \n",
      "Required-by: \n"
     ]
    }
   ],
   "source": [
    "!pip show unidic-lite"
   ]
  },
  {
   "cell_type": "code",
   "execution_count": 36,
   "id": "db857a77-0bef-4b8a-bcc2-ce3fb8cb4c04",
   "metadata": {
    "tags": []
   },
   "outputs": [
    {
     "name": "stdout",
     "output_type": "stream",
     "text": [
      "月曜\tゲツヨー\tゲツヨウ\t月曜\t名詞-普通名詞-副詞可能\t\t\t3,0\n",
      "日\tヒ\tヒ\t日\t名詞-普通名詞-副詞可能\t\t\t0,1\n",
      "まで\tマデ\tマデ\tまで\t助詞-副助詞\t\t\t\n",
      "に\tニ\tニ\tに\t助詞-格助詞\t\t\t\n",
      "この\tコノ\tコノ\t此の\t連体詞\t\t\t0\n",
      "仕事\tシゴト\tシゴト\t仕事\t名詞-普通名詞-サ変可能\t\t\t0\n",
      "を\tオ\tヲ\tを\t助詞-格助詞\t\t\t\n",
      "終え\tオエ\tオエル\t終える\t動詞-非自立可能\t下一段-ア行\t連用形-一般\t0\n",
      "て\tテ\tテ\tて\t助詞-接続助詞\t\t\t\n",
      "下さい\tクダサイ\tクダサル\t下さる\t動詞-非自立可能\t五段-ラ行\t命令形\t3\n",
      "。\t\t\t。\t補助記号-句点\t\t\t\n",
      "EOS\n",
      "\n"
     ]
    }
   ],
   "source": [
    "test = MeCab.Tagger(\"r'-d /root/.pyenv/versions/3.8.12/envs/simply-japanese/lib/python3.8/site-packages'\")\n",
    "text = neologdn.normalize(text, repeat=2)\n",
    "parsed = test.parse(text)\n",
    "print(parsed)"
   ]
  },
  {
   "cell_type": "code",
   "execution_count": 39,
   "id": "620f5a7d-39bb-4459-9d88-cd262d623da7",
   "metadata": {
    "tags": []
   },
   "outputs": [
    {
     "name": "stdout",
     "output_type": "stream",
     "text": [
      "BOS/EOS,*,*,*,*,*,*,*,*,*,*,*,*,*,*,*,*,*,*,*,*,*,*,*,*,*\n",
      "名詞,普通名詞,副詞可能,*,*,*,ゲツヨウ,月曜,月曜,ゲツヨー,月曜,ゲツヨー,漢,*,*,*,*,ゲツヨウ,ゲツヨウ,ゲツヨウ,ゲツヨウ,*,*,\"3,0\",C2,*\n",
      "名詞,普通名詞,副詞可能,*,*,*,ヒ,日,日,ヒ,日,ヒ,和,ヒ混合,基本形,*,*,ヒ,ヒ,ヒ,ヒ,*,*,\"0,1\",C3,*\n",
      "助詞,副助詞,*,*,*,*,マデ,まで,まで,マデ,まで,マデ,和,*,*,*,*,マデ,マデ,マデ,マデ,*,*,*,\"名詞%F2@1,形容詞%F2@1,動詞%F2@1\",*\n",
      "助詞,格助詞,*,*,*,*,ニ,に,に,ニ,に,ニ,和,*,*,*,*,ニ,ニ,ニ,ニ,*,*,*,名詞%F1,*\n",
      "連体詞,*,*,*,*,*,コノ,此の,この,コノ,この,コノ,和,*,*,*,*,コノ,コノ,コノ,コノ,*,*,0,*,*\n",
      "名詞,普通名詞,サ変可能,*,*,*,シゴト,仕事,仕事,シゴト,仕事,シゴト,和,*,*,*,*,シゴト,シゴト,シゴト,シゴト,*,*,0,C2,*\n",
      "助詞,格助詞,*,*,*,*,ヲ,を,を,オ,を,オ,和,*,*,*,*,ヲ,ヲ,ヲ,ヲ,*,*,*,\"動詞%F2@0,名詞%F1,形容詞%F2@-1\",*\n",
      "動詞,非自立可能,*,*,下一段-ア行,連用形-一般,オエル,終える,終え,オエ,終える,オエル,和,*,*,*,*,オエ,オエル,オエ,オエル,*,*,0,C2,*\n",
      "助詞,接続助詞,*,*,*,*,テ,て,て,テ,て,テ,和,*,*,*,*,テ,テ,テ,テ,*,*,*,\"動詞%F1,形容詞%F2@-1\",*\n",
      "動詞,非自立可能,*,*,五段-ラ行,命令形,クダサル,下さる,下さい,クダサイ,下さる,クダサル,和,*,*,*,*,クダサイ,クダサル,クダサイ,クダサル,*,*,3,C1,*\n",
      "補助記号,句点,*,*,*,*,,。,。,,。,,記号,*,*,*,*,,,,,*,*,*,*,*\n",
      "BOS/EOS,*,*,*,*,*,*,*,*,*,*,*,*,*,*,*,*,*,*,*,*,*,*,*,*,*\n"
     ]
    }
   ],
   "source": [
    "t = MeCab.Tagger()\n",
    "node = t.parseToNode(text)\n",
    "while node:\n",
    "    print(node.feature)\n",
    "    node = node.next"
   ]
  },
  {
   "cell_type": "code",
   "execution_count": null,
   "id": "6756c156-9908-438d-b7e6-4c25f434fde0",
   "metadata": {},
   "outputs": [],
   "source": []
  }
 ],
 "metadata": {
  "kernelspec": {
   "display_name": "Python 3 (ipykernel)",
   "language": "python",
   "name": "python3"
  },
  "language_info": {
   "codemirror_mode": {
    "name": "ipython",
    "version": 3
   },
   "file_extension": ".py",
   "mimetype": "text/x-python",
   "name": "python",
   "nbconvert_exporter": "python",
   "pygments_lexer": "ipython3",
   "version": "3.8.12"
  }
 },
 "nbformat": 4,
 "nbformat_minor": 5
}
