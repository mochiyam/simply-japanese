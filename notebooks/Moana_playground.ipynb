{
 "cells": [
  {
   "cell_type": "markdown",
   "id": "315f2705-9f10-4e2e-84a3-40179a9c0434",
   "metadata": {},
   "source": [
    "# Installations!"
   ]
  },
  {
   "cell_type": "code",
   "execution_count": null,
   "id": "9d03455e-5133-4a15-b83c-8549dfcb8f06",
   "metadata": {},
   "outputs": [],
   "source": [
    "!pip install mecab-python3"
   ]
  },
  {
   "cell_type": "code",
   "execution_count": null,
   "id": "f0029a90-a95f-456e-a85a-d48b4e21e703",
   "metadata": {
    "tags": []
   },
   "outputs": [],
   "source": [
    "#These wheels include a copy of the MeCab library, but not a dictionary. \n",
    "#In order to use MeCab you'll need to install a dictionary. unidic-lite is a good one to start with:\n",
    "!pip install unidic-lite"
   ]
  },
  {
   "cell_type": "code",
   "execution_count": null,
   "id": "2a61c655-fca4-4ca7-8284-aeb4a1832012",
   "metadata": {
    "tags": []
   },
   "outputs": [],
   "source": [
    "# normalization tool\n",
    "!pip install neologdn"
   ]
  },
  {
   "cell_type": "code",
   "execution_count": null,
   "id": "98247d2a-0bde-4094-9746-31b824c9cc58",
   "metadata": {
    "tags": []
   },
   "outputs": [],
   "source": [
    "!pip install openpyxl"
   ]
  },
  {
   "cell_type": "code",
   "execution_count": null,
   "id": "59adeeaf-d7ee-4bce-b8dc-720ca4e04d3d",
   "metadata": {},
   "outputs": [],
   "source": [
    "# To be able to see Japanese!\n",
    "!pip install japanize_matplotlib"
   ]
  },
  {
   "cell_type": "markdown",
   "id": "63f62505-0939-4237-ab1d-c8910f324506",
   "metadata": {},
   "source": [
    "# Libraries"
   ]
  },
  {
   "cell_type": "code",
   "execution_count": 1,
   "id": "0ca6f550-d324-4e2c-b3f5-519c2b87dd02",
   "metadata": {
    "tags": []
   },
   "outputs": [],
   "source": [
    "import os\n",
    "import pandas as pd\n",
    "\n",
    "# Preprocessing\n",
    "import MeCab\n",
    "import neologdn\n",
    "import collections\n",
    "from nltk import FreqDist\n",
    "from nltk.corpus import stopwords\n",
    "\n",
    "# Visualization\n",
    "import matplotlib.pyplot as plt\n",
    "import japanize_matplotlib\n",
    "#import seaborn as sns # REMINDER: make sure to remove if not using!"
   ]
  },
  {
   "cell_type": "markdown",
   "id": "f67ab98f-2432-4694-bf22-c671dd7bc913",
   "metadata": {},
   "source": [
    "# Just having fun"
   ]
  },
  {
   "cell_type": "code",
   "execution_count": null,
   "id": "c89616cf-a1e9-45ab-8389-9a9dd056ddca",
   "metadata": {
    "tags": []
   },
   "outputs": [],
   "source": [
    "path = \"/root/code/mochiyam/simply-japanese/data/2_RawData\"\n",
    "df = pd.read_excel(os.path.join(path, 'SNOW_T15_150.xlsx'))\n",
    "df.head()"
   ]
  },
  {
   "cell_type": "code",
   "execution_count": null,
   "id": "ee66411f-b4db-4785-853f-0cfc309b26d0",
   "metadata": {
    "tags": []
   },
   "outputs": [],
   "source": [
    "df.drop(columns=['#英語(原文)'], inplace=True)\n",
    "df.head()"
   ]
  },
  {
   "cell_type": "code",
   "execution_count": null,
   "id": "62ccc51b-a9ef-4b91-b7a7-d75fc04d9436",
   "metadata": {
    "tags": []
   },
   "outputs": [],
   "source": [
    "df.rename(columns={\"#日本語(原文)\": \"original\", \"#やさしい日本語\": \"simplified\"}, inplace=True)\n",
    "df.head()"
   ]
  },
  {
   "cell_type": "code",
   "execution_count": null,
   "id": "bd96de15-7c9d-4f6d-ba5c-7a3c343fca53",
   "metadata": {
    "tags": []
   },
   "outputs": [],
   "source": [
    "tagger = MeCab.Tagger()\n",
    "text = df['original'][0]\n",
    "parsed = tagger.parse(text)\n",
    "print(parsed)"
   ]
  },
  {
   "cell_type": "markdown",
   "id": "7a2e0d53-c1fd-460e-b5be-f6431ccb3f96",
   "metadata": {},
   "source": [
    "名詞 - noun\n",
    "助詞 - particle\n",
    "連体詞 - \n",
    "動詞\n",
    "補助記号"
   ]
  },
  {
   "cell_type": "code",
   "execution_count": null,
   "id": "9b8b5832-6f89-4944-a2f4-73dda1c596ad",
   "metadata": {
    "tags": []
   },
   "outputs": [],
   "source": [
    "# Just testing stuff out\n",
    "test = MeCab.Tagger(\"-O wakati\") \n",
    "text = neologdn.normalize(text, repeat=2)\n",
    "parsed = test.parse(text)\n",
    "print(parsed.split())"
   ]
  },
  {
   "cell_type": "code",
   "execution_count": null,
   "id": "7898134a-c7ed-4bc1-accd-82952939bf4d",
   "metadata": {
    "tags": []
   },
   "outputs": [],
   "source": [
    "!pip show unidic-lite"
   ]
  },
  {
   "cell_type": "code",
   "execution_count": null,
   "id": "db857a77-0bef-4b8a-bcc2-ce3fb8cb4c04",
   "metadata": {
    "tags": []
   },
   "outputs": [],
   "source": [
    "test = MeCab.Tagger(\"r'-d /root/.pyenv/versions/3.8.12/envs/simply-japanese/lib/python3.8/site-packages'\")\n",
    "text = neologdn.normalize(text, repeat=2)\n",
    "parsed = test.parse(text)\n",
    "print(parsed)"
   ]
  },
  {
   "cell_type": "code",
   "execution_count": null,
   "id": "620f5a7d-39bb-4459-9d88-cd262d623da7",
   "metadata": {
    "tags": []
   },
   "outputs": [],
   "source": [
    "# Super dumb dumb method\n",
    "def count_all_word_frequency():\n",
    "    all_words = collections.Counter()\n",
    "    t = MeCab.Tagger()\n",
    "    for idx, row in df.iterrows():\n",
    "        text = row['original']\n",
    "        node = t.parseToNode(text)\n",
    "        while node:\n",
    "            all_words[node.surface] += 1\n",
    "            node = node.next\n",
    "    return all_words\n",
    "all_words = count_all_word_frequency()\n",
    "# tuples in a list\n",
    "print(all_words.most_common(25))"
   ]
  },
  {
   "cell_type": "code",
   "execution_count": null,
   "id": "d9a106d0-2ddd-413c-b6eb-8c2987ed3512",
   "metadata": {},
   "outputs": [],
   "source": [
    "!pip install nltk"
   ]
  },
  {
   "cell_type": "code",
   "execution_count": 23,
   "id": "6756c156-9908-438d-b7e6-4c25f434fde0",
   "metadata": {
    "tags": []
   },
   "outputs": [],
   "source": [
    "def plot_word_frequency(word_freq, most_common_num):\n",
    "    freq_dist = FreqDist(word_freq)\n",
    "    freq_dist.plot(most_common_num,cumulative=False)\n",
    "#plot_word_frequency(all_words, 25)"
   ]
  },
  {
   "cell_type": "code",
   "execution_count": null,
   "id": "382e25be-c729-4ba7-8c7c-9d5d416cf222",
   "metadata": {},
   "outputs": [],
   "source": [
    "# Super dumb dumb method\n",
    "def count_all_word_frequency():\n",
    "    all_words = collections.Counter()\n",
    "    t = MeCab.Tagger()\n",
    "    for idx, row in df.iterrows():\n",
    "        text = row['original']\n",
    "        node = t.parseToNode(text)\n",
    "        while node:\n",
    "            all_words[node.surface] += 1\n",
    "            node = node.next\n",
    "    return all_words\n",
    "all_words = count_all_word_frequency()\n",
    "# tuples in a list\n",
    "print(all_words.most_common(25))"
   ]
  },
  {
   "cell_type": "code",
   "execution_count": null,
   "id": "3d496b27-2583-4485-81e2-d81045a648bc",
   "metadata": {
    "tags": []
   },
   "outputs": [],
   "source": [
    "test = MeCab.Tagger(\"-O wakati\")\n",
    "print(text)\n",
    "text = \"あなたは何を見つめているのですか。\"\n",
    "parsed = test.parse(text)\n",
    "node = test.parseToNode(text).next\n",
    "while node.next:\n",
    "    print(node.surface, node.feature.split(',')[0])\n",
    "    node = node.next\n",
    "#node.surface.decode(\"utf-8\", \"ignore\")\n"
   ]
  },
  {
   "cell_type": "code",
   "execution_count": null,
   "id": "74b65bc2-121d-4ed8-9fb5-85a9c0dc7930",
   "metadata": {
    "tags": []
   },
   "outputs": [],
   "source": [
    "#               助詞           \n",
    "#              /\n",
    "# Remove 付属語 \n",
    "#　　　　　　　 \\\n",
    "#             　 助動詞\n",
    "\n",
    "#月 が｜きれいな｜晩 でし た 。\n",
    "#付属語 : が　・　でした"
   ]
  },
  {
   "cell_type": "markdown",
   "id": "15707b5b-6e9b-4a77-b5b9-53742c43bab7",
   "metadata": {},
   "source": [
    "# With 10_000 Data!\n"
   ]
  },
  {
   "cell_type": "code",
   "execution_count": 18,
   "id": "cfa144e1-fee7-4e81-948c-208ddf12a95a",
   "metadata": {
    "tags": []
   },
   "outputs": [
    {
     "data": {
      "text/html": [
       "<div>\n",
       "<style scoped>\n",
       "    .dataframe tbody tr th:only-of-type {\n",
       "        vertical-align: middle;\n",
       "    }\n",
       "\n",
       "    .dataframe tbody tr th {\n",
       "        vertical-align: top;\n",
       "    }\n",
       "\n",
       "    .dataframe thead th {\n",
       "        text-align: right;\n",
       "    }\n",
       "</style>\n",
       "<table border=\"1\" class=\"dataframe\">\n",
       "  <thead>\n",
       "    <tr style=\"text-align: right;\">\n",
       "      <th></th>\n",
       "      <th>#日本語(原文)</th>\n",
       "      <th>#やさしい日本語</th>\n",
       "      <th>#英語(原文)</th>\n",
       "    </tr>\n",
       "  </thead>\n",
       "  <tbody>\n",
       "    <tr>\n",
       "      <th>0</th>\n",
       "      <td>父は私が外国へ行くことを承知した。</td>\n",
       "      <td>父は私が外国へ行くことを許した。</td>\n",
       "      <td>my father consented to my going abroad .</td>\n",
       "    </tr>\n",
       "    <tr>\n",
       "      <th>1</th>\n",
       "      <td>卑屈な奴。</td>\n",
       "      <td>自分のことをダメだと考える人。</td>\n",
       "      <td>don 't be a dog .</td>\n",
       "    </tr>\n",
       "    <tr>\n",
       "      <th>2</th>\n",
       "      <td>それは本当のはずはない。</td>\n",
       "      <td>それは本当のはずはない。</td>\n",
       "      <td>it cannot be true .</td>\n",
       "    </tr>\n",
       "    <tr>\n",
       "      <th>3</th>\n",
       "      <td>車がそんなに混んでなければ問題ないでしょう。</td>\n",
       "      <td>車がそんなに混んでなければ問題ないでしょう。</td>\n",
       "      <td>we shouldn 't have any trouble if the traffic ...</td>\n",
       "    </tr>\n",
       "    <tr>\n",
       "      <th>4</th>\n",
       "      <td>２時間も待たされた。</td>\n",
       "      <td>２時間も待った。</td>\n",
       "      <td>i was kept waiting for as long as two hours .</td>\n",
       "    </tr>\n",
       "  </tbody>\n",
       "</table>\n",
       "</div>"
      ],
      "text/plain": [
       "                 #日本語(原文)                #やさしい日本語  \\\n",
       "0       父は私が外国へ行くことを承知した。        父は私が外国へ行くことを許した。   \n",
       "1                   卑屈な奴。         自分のことをダメだと考える人。   \n",
       "2            それは本当のはずはない。            それは本当のはずはない。   \n",
       "3  車がそんなに混んでなければ問題ないでしょう。  車がそんなに混んでなければ問題ないでしょう。   \n",
       "4              ２時間も待たされた。                ２時間も待った。   \n",
       "\n",
       "                                             #英語(原文)  \n",
       "0           my father consented to my going abroad .  \n",
       "1                                  don 't be a dog .  \n",
       "2                                it cannot be true .  \n",
       "3  we shouldn 't have any trouble if the traffic ...  \n",
       "4      i was kept waiting for as long as two hours .  "
      ]
     },
     "execution_count": 18,
     "metadata": {},
     "output_type": "execute_result"
    }
   ],
   "source": [
    "path = \"/root/code/mochiyam/simply-japanese/data/2_RawData\"\n",
    "df = pd.read_excel(os.path.join(path, 'SNOW_T15_10000.xlsx'))\n",
    "df.head()"
   ]
  },
  {
   "cell_type": "code",
   "execution_count": null,
   "id": "8f14a209-db7c-4e8a-9731-52b6ca1e2385",
   "metadata": {},
   "outputs": [],
   "source": []
  },
  {
   "cell_type": "code",
   "execution_count": 19,
   "id": "d32fe375-71f2-4dd6-b289-843017d49610",
   "metadata": {
    "tags": []
   },
   "outputs": [
    {
     "data": {
      "text/html": [
       "<div>\n",
       "<style scoped>\n",
       "    .dataframe tbody tr th:only-of-type {\n",
       "        vertical-align: middle;\n",
       "    }\n",
       "\n",
       "    .dataframe tbody tr th {\n",
       "        vertical-align: top;\n",
       "    }\n",
       "\n",
       "    .dataframe thead th {\n",
       "        text-align: right;\n",
       "    }\n",
       "</style>\n",
       "<table border=\"1\" class=\"dataframe\">\n",
       "  <thead>\n",
       "    <tr style=\"text-align: right;\">\n",
       "      <th></th>\n",
       "      <th>original</th>\n",
       "      <th>simplified</th>\n",
       "    </tr>\n",
       "  </thead>\n",
       "  <tbody>\n",
       "    <tr>\n",
       "      <th>0</th>\n",
       "      <td>父は私が外国へ行くことを承知した。</td>\n",
       "      <td>父は私が外国へ行くことを許した。</td>\n",
       "    </tr>\n",
       "    <tr>\n",
       "      <th>1</th>\n",
       "      <td>卑屈な奴。</td>\n",
       "      <td>自分のことをダメだと考える人。</td>\n",
       "    </tr>\n",
       "    <tr>\n",
       "      <th>2</th>\n",
       "      <td>それは本当のはずはない。</td>\n",
       "      <td>それは本当のはずはない。</td>\n",
       "    </tr>\n",
       "    <tr>\n",
       "      <th>3</th>\n",
       "      <td>車がそんなに混んでなければ問題ないでしょう。</td>\n",
       "      <td>車がそんなに混んでなければ問題ないでしょう。</td>\n",
       "    </tr>\n",
       "    <tr>\n",
       "      <th>4</th>\n",
       "      <td>２時間も待たされた。</td>\n",
       "      <td>２時間も待った。</td>\n",
       "    </tr>\n",
       "  </tbody>\n",
       "</table>\n",
       "</div>"
      ],
      "text/plain": [
       "                 original              simplified\n",
       "0       父は私が外国へ行くことを承知した。        父は私が外国へ行くことを許した。\n",
       "1                   卑屈な奴。         自分のことをダメだと考える人。\n",
       "2            それは本当のはずはない。            それは本当のはずはない。\n",
       "3  車がそんなに混んでなければ問題ないでしょう。  車がそんなに混んでなければ問題ないでしょう。\n",
       "4              ２時間も待たされた。                ２時間も待った。"
      ]
     },
     "execution_count": 19,
     "metadata": {},
     "output_type": "execute_result"
    }
   ],
   "source": [
    "df.drop(columns=['#英語(原文)'], inplace=True)\n",
    "df.rename(columns={\"#日本語(原文)\": \"original\", \"#やさしい日本語\": \"simplified\"}, inplace=True)\n",
    "df.head()"
   ]
  },
  {
   "cell_type": "code",
   "execution_count": 24,
   "id": "918856f2-9d73-4bff-9290-4f44c2cd369e",
   "metadata": {
    "tags": []
   },
   "outputs": [
    {
     "data": {
      "image/png": "[encoded data removed]",
      "text/plain": [
       "<Figure size 640x480 with 1 Axes>"
      ]
     },
     "metadata": {},
     "output_type": "display_data"
    }
   ],
   "source": [
    "# Counts all the independent word 自立語\n",
    "_stopwords = stopwords.words('japanese')\n",
    "\n",
    "def count_all_words(docs, col='original'):\n",
    "    all_words = collections.Counter()\n",
    "    t = MeCab.Tagger(\"-O wakati\")\n",
    "    for idx, row in docs.iterrows():\n",
    "        text = row[col]\n",
    "        node = t.parseToNode(text).next\n",
    "        while node.next:\n",
    "            part_of_speech = node.feature.split(',')[0]\n",
    "            # REPLACE_WORD_POS = (\"名詞\", \"動詞\", \"形容詞\", \"副詞\", \"未知語\") # TBD\n",
    "            # IGNORE = (\"接尾\", \"非自立\", \"代名詞\")    \n",
    "            if part_of_speech in [\"助動詞\", \"助詞\", \"補助記号\"] or node.surface in _stopwords:\n",
    "                node = node.next\n",
    "                continue\n",
    "            all_words[node.surface] += 1\n",
    "            node = node.next\n",
    "    return all_words\n",
    "ind_word_freq = count_all_words(df)\n",
    "plot_word_frequency(ind_word_freq, 25)"
   ]
  },
  {
   "cell_type": "code",
   "execution_count": 21,
   "id": "bb50c4db-7fbc-41d8-8570-61eee145858d",
   "metadata": {
    "tags": []
   },
   "outputs": [
    {
     "data": {
      "text/plain": [
       "[('暑く', 2),\n",
       " ('けっして', 2),\n",
       " ('受かっ', 2),\n",
       " ('睡眠', 2),\n",
       " ('おもしろく', 2),\n",
       " ('失業', 2),\n",
       " ('青ざめ', 2),\n",
       " ('打っ', 2),\n",
       " ('白', 2),\n",
       " ('奈良', 2),\n",
       " ('消さ', 2),\n",
       " ('野菜', 2),\n",
       " ('運ぶ', 2),\n",
       " ('止める', 2),\n",
       " ('損なっ', 2),\n",
       " ('カ国', 2),\n",
       " ('至急', 2),\n",
       " ('予報', 2),\n",
       " ('式', 2),\n",
       " ('捨て', 2),\n",
       " ('物事', 2),\n",
       " ('メニュー', 2),\n",
       " ('上げ', 2),\n",
       " ('認める', 2),\n",
       " ('命じ', 2)]"
      ]
     },
     "execution_count": 21,
     "metadata": {},
     "output_type": "execute_result"
    }
   ],
   "source": [
    "top_2000_word_freq = ind_word_freq.most_common(2000)\n",
    "top_2000_word_freq[-25:]"
   ]
  },
  {
   "cell_type": "code",
   "execution_count": null,
   "id": "d0fe1af4-2a80-49c9-a13b-af3b1d3bb3e8",
   "metadata": {},
   "outputs": [],
   "source": [
    "# 1. Find sentences that are exactly the same \n",
    "# 2. temp_list of tokens for sentence original and simplified\n",
    "# 3. Compare the two temp_list\n",
    "# 4. two global_lists of deleted and added(simplified)"
   ]
  },
  {
   "cell_type": "code",
   "execution_count": null,
   "id": "a89fc1f9-1bf6-48bb-a71c-e803a8096d3e",
   "metadata": {
    "tags": []
   },
   "outputs": [],
   "source": [
    "# temp = df.head(10)\n",
    "# temp"
   ]
  },
  {
   "cell_type": "code",
   "execution_count": 27,
   "id": "59b78a53-173a-4579-9245-07a85336c2a1",
   "metadata": {
    "tags": []
   },
   "outputs": [
    {
     "data": {
      "text/html": [
       "<div>\n",
       "<style scoped>\n",
       "    .dataframe tbody tr th:only-of-type {\n",
       "        vertical-align: middle;\n",
       "    }\n",
       "\n",
       "    .dataframe tbody tr th {\n",
       "        vertical-align: top;\n",
       "    }\n",
       "\n",
       "    .dataframe thead th {\n",
       "        text-align: right;\n",
       "    }\n",
       "</style>\n",
       "<table border=\"1\" class=\"dataframe\">\n",
       "  <thead>\n",
       "    <tr style=\"text-align: right;\">\n",
       "      <th></th>\n",
       "      <th>original</th>\n",
       "      <th>simplified</th>\n",
       "    </tr>\n",
       "  </thead>\n",
       "  <tbody>\n",
       "    <tr>\n",
       "      <th>0</th>\n",
       "      <td>父は私が外国へ行くことを承知した。</td>\n",
       "      <td>父は私が外国へ行くことを許した。</td>\n",
       "    </tr>\n",
       "    <tr>\n",
       "      <th>1</th>\n",
       "      <td>卑屈な奴。</td>\n",
       "      <td>自分のことをダメだと考える人。</td>\n",
       "    </tr>\n",
       "    <tr>\n",
       "      <th>4</th>\n",
       "      <td>２時間も待たされた。</td>\n",
       "      <td>２時間も待った。</td>\n",
       "    </tr>\n",
       "    <tr>\n",
       "      <th>6</th>\n",
       "      <td>彼はいつも父親の陰口を言います。</td>\n",
       "      <td>彼はいつも父のいないところで悪いことを言います。</td>\n",
       "    </tr>\n",
       "    <tr>\n",
       "      <th>7</th>\n",
       "      <td>彼女はもう少しで遅刻するところだった。</td>\n",
       "      <td>彼女はもう少しで遅れるところだった。</td>\n",
       "    </tr>\n",
       "    <tr>\n",
       "      <th>...</th>\n",
       "      <td>...</td>\n",
       "      <td>...</td>\n",
       "    </tr>\n",
       "    <tr>\n",
       "      <th>9993</th>\n",
       "      <td>わたしは犬と猫を飼っています。</td>\n",
       "      <td>私は犬と猫と一緒に住んでいます。</td>\n",
       "    </tr>\n",
       "    <tr>\n",
       "      <th>9994</th>\n",
       "      <td>何と平山先生は良い先生でしょう。</td>\n",
       "      <td>何と平山先生はいい先生でしょう。</td>\n",
       "    </tr>\n",
       "    <tr>\n",
       "      <th>9995</th>\n",
       "      <td>彼女は服にたくさん金を使う。</td>\n",
       "      <td>彼女は服に多くの金を使う。</td>\n",
       "    </tr>\n",
       "    <tr>\n",
       "      <th>9996</th>\n",
       "      <td>彼は長年、腰痛で困っている。</td>\n",
       "      <td>彼は長い間、腰が痛くて困っている。</td>\n",
       "    </tr>\n",
       "    <tr>\n",
       "      <th>9999</th>\n",
       "      <td>私は時間を持て余している。</td>\n",
       "      <td>私は時間がたくさんある。</td>\n",
       "    </tr>\n",
       "  </tbody>\n",
       "</table>\n",
       "<p>5764 rows × 2 columns</p>\n",
       "</div>"
      ],
      "text/plain": [
       "                 original                simplified\n",
       "0       父は私が外国へ行くことを承知した。          父は私が外国へ行くことを許した。\n",
       "1                   卑屈な奴。           自分のことをダメだと考える人。\n",
       "4              ２時間も待たされた。                  ２時間も待った。\n",
       "6        彼はいつも父親の陰口を言います。  彼はいつも父のいないところで悪いことを言います。\n",
       "7     彼女はもう少しで遅刻するところだった。        彼女はもう少しで遅れるところだった。\n",
       "...                   ...                       ...\n",
       "9993      わたしは犬と猫を飼っています。          私は犬と猫と一緒に住んでいます。\n",
       "9994     何と平山先生は良い先生でしょう。          何と平山先生はいい先生でしょう。\n",
       "9995       彼女は服にたくさん金を使う。             彼女は服に多くの金を使う。\n",
       "9996       彼は長年、腰痛で困っている。         彼は長い間、腰が痛くて困っている。\n",
       "9999        私は時間を持て余している。              私は時間がたくさんある。\n",
       "\n",
       "[5764 rows x 2 columns]"
      ]
     },
     "execution_count": 27,
     "metadata": {},
     "output_type": "execute_result"
    }
   ],
   "source": [
    "# Step 1.  Get the corpuses that are different from original and simplified \n",
    "diff_corpus_df = df[df['original'] != df['simplified']]\n",
    "diff_corpus_df"
   ]
  },
  {
   "cell_type": "code",
   "execution_count": 28,
   "id": "6fa90c26-f8b4-4d25-8681-952e90af9d4a",
   "metadata": {
    "tags": []
   },
   "outputs": [],
   "source": [
    "# 2. Create a temp_list of tokens for sentence original and simplified\n",
    "original_temp_list = count_all_words(diff_corpus_df, 'original')\n",
    "simplified_temp_list = count_all_words(diff_corpus_df, 'simplified')"
   ]
  },
  {
   "cell_type": "code",
   "execution_count": null,
   "id": "c67456dc-5cdf-400f-a019-6baa95bf35d2",
   "metadata": {
    "tags": []
   },
   "outputs": [],
   "source": [
    "# simplified_temp_list"
   ]
  },
  {
   "cell_type": "code",
   "execution_count": null,
   "id": "a622171e-99a0-45fd-8954-be66c9081ed7",
   "metadata": {
    "tags": []
   },
   "outputs": [],
   "source": [
    "# original_temp_list"
   ]
  },
  {
   "cell_type": "code",
   "execution_count": null,
   "id": "431e5072-9be0-4bd4-91d5-01b3307be918",
   "metadata": {
    "tags": []
   },
   "outputs": [],
   "source": [
    "# pd.DataFrame(dict(original_temp_list).items(), columns=['word', 'count'])"
   ]
  },
  {
   "cell_type": "code",
   "execution_count": 33,
   "id": "91a0b23b-a639-4c98-b3df-d2148d8c2e2f",
   "metadata": {
    "tags": []
   },
   "outputs": [],
   "source": [
    "# 3. Compare the two temp_list\n",
    "\n",
    "# Collections library\n",
    "# Elements are subtracted from an iterable or from another mapping (or counter). \n",
    "# Like dict.update() but subtracts counts instead of replacing them. Both inputs and outputs may be zero or negative.\n",
    "diff_temp_df = simplified_temp_list\n",
    "diff_temp_df.subtract(original_temp_list)"
   ]
  },
  {
   "cell_type": "code",
   "execution_count": 30,
   "id": "0be54158-304a-4ddc-ac26-249acab854f5",
   "metadata": {
    "tags": []
   },
   "outputs": [
    {
     "ename": "AttributeError",
     "evalue": "'int' object has no attribute 'sort_values'",
     "output_type": "error",
     "traceback": [
      "\u001b[0;31m---------------------------------------------------------------------------\u001b[0m",
      "\u001b[0;31mAttributeError\u001b[0m                            Traceback (most recent call last)",
      "Cell \u001b[0;32mIn[32], line 1\u001b[0m\n\u001b[0;32m----> 1\u001b[0m \u001b[43mdiff_temp_df\u001b[49m\u001b[43m[\u001b[49m\u001b[43mdiff_temp_df\u001b[49m\u001b[43m[\u001b[49m\u001b[38;5;124;43m'\u001b[39;49m\u001b[38;5;124;43mcount\u001b[39;49m\u001b[38;5;124;43m'\u001b[39;49m\u001b[43m]\u001b[49m\u001b[43m \u001b[49m\u001b[38;5;241;43m<\u001b[39;49m\u001b[43m \u001b[49m\u001b[38;5;241;43m0\u001b[39;49m\u001b[43m]\u001b[49m\u001b[38;5;241;43m.\u001b[39;49m\u001b[43msort_values\u001b[49m(by\u001b[38;5;241m=\u001b[39m\u001b[38;5;124m'\u001b[39m\u001b[38;5;124mcount\u001b[39m\u001b[38;5;124m'\u001b[39m)\u001b[38;5;241m.\u001b[39mhead(\u001b[38;5;241m10\u001b[39m)\n",
      "\u001b[0;31mAttributeError\u001b[0m: 'int' object has no attribute 'sort_values'"
     ]
    }
   ],
   "source": [
    "diff_temp_df[diff_temp_df['count'] < 0].sort_values(by='count').head(10)"
   ]
  },
  {
   "cell_type": "code",
   "execution_count": 34,
   "id": "2d5059e4-b979-4ebf-bbbf-9fa66e970a96",
   "metadata": {
    "tags": []
   },
   "outputs": [],
   "source": [
    "# 4. two global_lists of deleted and added(simplified)\n",
    "deleted = []\n",
    "added = []\n",
    "\n",
    "diff_temp_df = pd.DataFrame(dict(diff_temp).items(), columns=['word', 'count'])\n",
    "deleted =  diff_temp_df[diff_temp_df['count'] < 0]['word'].tolist()\n",
    "added = diff_temp_df[diff_temp_df['count'] >= 0]['word'].tolist()"
   ]
  },
  {
   "cell_type": "code",
   "execution_count": null,
   "id": "b0e38ab0-0745-4a40-94da-cc5e37065a4a",
   "metadata": {
    "tags": []
   },
   "outputs": [],
   "source": [
    "# added"
   ]
  },
  {
   "cell_type": "code",
   "execution_count": 35,
   "id": "add5dae2-6d5f-4fe4-a65d-67521ed09333",
   "metadata": {
    "tags": []
   },
   "outputs": [
    {
     "data": {
      "text/plain": [
       "(3988, 723)"
      ]
     },
     "execution_count": 35,
     "metadata": {},
     "output_type": "execute_result"
    }
   ],
   "source": [
    "len(deleted), len(added)"
   ]
  },
  {
   "cell_type": "code",
   "execution_count": null,
   "id": "585661b7-72de-40e7-9a8c-d7eec4684138",
   "metadata": {
    "tags": []
   },
   "outputs": [],
   "source": []
  },
  {
   "cell_type": "code",
   "execution_count": null,
   "id": "a18f4a9a-2f5d-4955-9e9f-bf0c1ebad0bd",
   "metadata": {},
   "outputs": [],
   "source": []
  },
  {
   "cell_type": "code",
   "execution_count": 80,
   "id": "45642c23-3bda-4cb1-b067-472e7ce4abc9",
   "metadata": {
    "tags": []
   },
   "outputs": [],
   "source": [
    "path = \"/root/code/mochiyam/simply-japanese/data/2_RawData\"\n",
    "df = pd.read_excel(os.path.join(path, 'SNOW_T15_10000.xlsx'))\n",
    "df.drop(columns=['#英語(原文)'], inplace=True)\n",
    "df.rename(columns={\"#日本語(原文)\": \"original\", \"#やさしい日本語\": \"simplified\"}, inplace=True)"
   ]
  },
  {
   "cell_type": "code",
   "execution_count": 80,
   "id": "6f745acf-cb82-43c6-9060-043752f5706a",
   "metadata": {
    "tags": []
   },
   "outputs": [],
   "source": [
    "df.iloc[47]"
   ]
  },
  {
   "cell_type": "code",
   "execution_count": 80,
   "id": "e827197b-1c22-4a9e-a963-602656648cba",
   "metadata": {
    "tags": []
   },
   "outputs": [
    {
     "data": {
      "text/plain": [
       "original      実を言うと彼女はぼくの妹なんだ。\n",
       "simplified     実を言うと彼女は僕の妹なんだ。\n",
       "Name: 47, dtype: object"
      ]
     },
     "execution_count": 80,
     "metadata": {},
     "output_type": "execute_result"
    }
   ],
   "source": []
  },
  {
   "cell_type": "markdown",
   "id": "bda8ed35-eb62-47b3-a6ed-fe3837290ddb",
   "metadata": {
    "tags": []
   },
   "source": [
    "# Exploring DNN"
   ]
  },
  {
   "cell_type": "code",
   "execution_count": null,
   "id": "1909cc3b-3366-479f-b452-ede5bfc20c6a",
   "metadata": {},
   "outputs": [],
   "source": []
  },
  {
   "cell_type": "code",
   "execution_count": 5,
   "id": "71e7e921-f425-4959-b8d7-055cdba75e70",
   "metadata": {},
   "outputs": [],
   "source": [
    "DATA_LENGTH = len(df)\n",
    "BATCH_SIZE = 64\n",
    "EPOCHS = 20\n",
    "LSTM_NODES =256\n",
    "NUM_SENTENCES = DATA_LENGTH\n",
    "MAX_SENTENCE_LENGTH = 50\n",
    "MAX_NUM_WORDS = DATA_LENGTH\n",
    "EMBEDDING_SIZE = 0"
   ]
  },
  {
   "cell_type": "code",
   "execution_count": 6,
   "id": "0107de50-777d-4577-a3a7-12effb8905d0",
   "metadata": {},
   "outputs": [],
   "source": [
    "#Seq2Seq : Encoder LSTM -Decoder LSTM architecture\n",
    "\n",
    "original_sentence = df['original'].to_list()\n",
    "sos_simplified_sentence = [f'<sos> {sentence}' for sentence in df['simplified'].to_list()]\n",
    "eof_simplified_sentence = df['simplified'].str.cat(['<eof>' for _ in range(DATA_LENGTH)], sep =' ').to_list()"
   ]
  },
  {
   "cell_type": "code",
   "execution_count": 7,
   "id": "d09bf2d1-c297-41c1-a2c9-903b9884aaeb",
   "metadata": {
    "tags": []
   },
   "outputs": [
    {
     "name": "stdout",
     "output_type": "stream",
     "text": [
      "gensim==4.3.0\n"
     ]
    }
   ],
   "source": [
    "! pip freeze | grep gensim"
   ]
  },
  {
   "cell_type": "code",
   "execution_count": null,
   "id": "f6ebac0f-84f7-4ccd-87f3-bcc2365d3a41",
   "metadata": {},
   "outputs": [],
   "source": []
  },
  {
   "cell_type": "code",
   "execution_count": null,
   "id": "f048755c-2432-4782-a842-cf1f2fb8fd77",
   "metadata": {},
   "outputs": [],
   "source": []
  },
  {
   "cell_type": "code",
   "execution_count": null,
   "id": "992e1345-1743-4cfa-a757-8a1fa3ecf5b8",
   "metadata": {},
   "outputs": [],
   "source": []
  },
  {
   "cell_type": "code",
   "execution_count": null,
   "id": "9e181a05-60ce-41fa-a715-41147a9a6b5d",
   "metadata": {},
   "outputs": [],
   "source": []
  },
  {
   "cell_type": "code",
   "execution_count": 8,
   "id": "b4200a01-810c-4f68-b2de-8dea95ba7be1",
   "metadata": {
    "tags": []
   },
   "outputs": [],
   "source": [
    "from gensim.models import word2vec"
   ]
  },
  {
   "cell_type": "code",
   "execution_count": 10,
   "id": "2c174087-2120-488e-92ba-1ad4a5768193",
   "metadata": {
    "tags": []
   },
   "outputs": [],
   "source": [
    "# please work\n",
    "model = word2vec.Word2Vec.load('word2vec.gensim.model')"
   ]
  },
  {
   "cell_type": "code",
   "execution_count": 12,
   "id": "58775d20-3c56-42b3-84ef-9c5302ed46b7",
   "metadata": {
    "tags": []
   },
   "outputs": [
    {
     "data": {
      "text/plain": [
       "array([ 0.01991528, -0.16895553, -0.0005631 , -0.07544424, -0.2785315 ,\n",
       "        0.24721201, -0.06918625,  0.10299557,  0.00116522,  0.06181549,\n",
       "       -0.01447577,  0.18434595,  0.08120248,  0.04302993, -0.0846712 ,\n",
       "        0.24196617,  0.1394672 ,  0.10917841, -0.10591616,  0.11584023,\n",
       "        0.26747116, -0.19388063, -0.10076082,  0.04102563,  0.07777748,\n",
       "       -0.00689773, -0.03633595,  0.17408828,  0.25311628, -0.00657137,\n",
       "        0.03750438,  0.06932919,  0.07102618,  0.1766966 , -0.19402435,\n",
       "       -0.01134124,  0.10243213,  0.04215263,  0.15948357, -0.28511557,\n",
       "        0.16012833,  0.23132074,  0.00515708, -0.300643  ,  0.13948335,\n",
       "        0.04682528, -0.11366569,  0.12245803,  0.03999065, -0.01773298],\n",
       "      dtype=float32)"
      ]
     },
     "execution_count": 12,
     "metadata": {},
     "output_type": "execute_result"
    }
   ],
   "source": [
    "model.wv['なまえ']"
   ]
  },
  {
   "cell_type": "code",
   "execution_count": 84,
   "id": "39c966ec-e4f5-4c4e-a791-bc90c0037071",
   "metadata": {
    "tags": []
   },
   "outputs": [
    {
     "data": {
      "text/plain": [
       "[('本日', 0.8413307666778564),\n",
       " ('おやすみ', 0.8351115584373474),\n",
       " ('おはよう', 0.8254367709159851),\n",
       " ('こんばんは', 0.8170187473297119),\n",
       " ('今宵', 0.8105134963989258),\n",
       " ('今夜', 0.8101720809936523),\n",
       " ('こんにちは', 0.8042770624160767),\n",
       " ('さぁ', 0.8013049364089966),\n",
       " ('バンザイ', 0.8006255030632019),\n",
       " ('どうぞ', 0.7986030578613281),\n",
       " ('あす', 0.7947324514389038),\n",
       " ('あした', 0.794703483581543),\n",
       " ('日和', 0.7937016487121582),\n",
       " ('!」（', 0.7929791212081909),\n",
       " ('ホンマ', 0.7927483320236206),\n",
       " ('ありがとう', 0.7914125323295593),\n",
       " ('!!」（', 0.7903262376785278),\n",
       " ('ただ今', 0.7882071137428284),\n",
       " ('あなたと', 0.7827165126800537),\n",
       " ('おーい', 0.7818276286125183),\n",
       " ('ごめんなさい', 0.7817065119743347),\n",
       " ('さあ', 0.7797262072563171),\n",
       " ('お正月', 0.7786166667938232),\n",
       " ('さようなら', 0.777560830116272),\n",
       " ('!!～', 0.7756630182266235),\n",
       " ('がんばり', 0.7747898101806641),\n",
       " ('ほっと', 0.7743570804595947),\n",
       " ('歩こう', 0.7720304131507874),\n",
       " ('早起き', 0.770897388458252),\n",
       " ('!」、', 0.770250141620636)]"
      ]
     },
     "execution_count": 84,
     "metadata": {},
     "output_type": "execute_result"
    }
   ],
   "source": [
    "model.wv.most_similar('ただいま', topn=30)"
   ]
  },
  {
   "cell_type": "code",
   "execution_count": 89,
   "id": "902540bb-3da3-4a70-b9b2-8aa15c15028c",
   "metadata": {
    "tags": []
   },
   "outputs": [
    {
     "data": {
      "text/plain": [
       "0.6688409"
      ]
     },
     "execution_count": 89,
     "metadata": {},
     "output_type": "execute_result"
    }
   ],
   "source": [
    "v1 = model.wv['ただいま']\n",
    "v2 = model.wv['本日']\n",
    "res = v1 - v2\n",
    "model.wv.similarity('いま', '今')"
   ]
  },
  {
   "cell_type": "code",
   "execution_count": 66,
   "id": "61356774-7467-45a4-bf46-4686323d085f",
   "metadata": {
    "tags": []
   },
   "outputs": [
    {
     "data": {
      "text/plain": [
       "['父', '外国', '行く', '許し', '自分', 'ダメ', '考える', '人', '２', '時間']"
      ]
     },
     "execution_count": 66,
     "metadata": {},
     "output_type": "execute_result"
    }
   ],
   "source": [
    "list[:10]"
   ]
  },
  {
   "cell_type": "code",
   "execution_count": 63,
   "id": "3082274f-4fa4-4b6b-a545-90719aa22534",
   "metadata": {
    "tags": []
   },
   "outputs": [],
   "source": [
    "list = diff_temp_df['word'].to_list()\n",
    "w2v = word2vec.Word2Vec(list, vector_size=10,\n",
    "                        window=5,\n",
    "                        min_count=5)"
   ]
  },
  {
   "cell_type": "code",
   "execution_count": 71,
   "id": "57dae01c-d78f-42ea-b68e-ace8ff709f24",
   "metadata": {
    "tags": []
   },
   "outputs": [],
   "source": [
    "# w2v.wv.key_to_index"
   ]
  },
  {
   "cell_type": "code",
   "execution_count": null,
   "id": "8fd897de-3ae6-468d-a6cd-b262af942d36",
   "metadata": {},
   "outputs": [],
   "source": [
    "\"\"\"\n",
    "1. Which POS word to replace\n",
    "2. Use the pre-trained Word2Vec model to get closest distance\n",
    "3. Out of the 2000 word list which word has the closest distance\n",
    "\n",
    "\n",
    "\n",
    "4. Compare 3. and 4. The closest one gets subs\n",
    "\n",
    "\"\"\"\n",
    "\n",
    "\"\"\"\n",
    "PSEUDO CODE\n",
    "\n",
    "x = minimum similarity\n",
    "for sentence in data:\n",
    "    for word in sentence:\n",
    "        if word.pos in poslist:\n",
    "            if word in list2000:\n",
    "                continue\n",
    "            else:\n",
    "                for term2000 in list2000:\n",
    "                    list = []\n",
    "                    list.append(wv.similarity(word, term2000))\n",
    "                replace word with max(list) if max(list) > x\n",
    "        else: continue\n",
    "\n",
    "\"\"\""
   ]
  },
  {
   "cell_type": "code",
   "execution_count": 81,
   "id": "6b271102-2eba-48db-a353-2e0122b73a42",
   "metadata": {
    "tags": []
   },
   "outputs": [
    {
     "name": "stdout",
     "output_type": "stream",
     "text": [
      "ただいま 名詞,普通名詞,副詞可能,*,*,*,タダイマ,只今,ただいま,タダイマ,ただいま,タダイマ,和,*,*,*,*,タダイマ,タダイマ,タダイマ,タダイマ,*,*,\"2,4,0\",C1,*\n",
      "話し 動詞,一般,*,*,五段-サ行,連用形-一般,ハナス,話す,話し,ハナシ,話す,ハナス,和,*,*,*,*,ハナシ,ハナス,ハナシ,ハナス,*,*,2,C1,*\n",
      "中 接尾辞,名詞的,副詞可能,*,*,*,チュウ,中,中,チュー,中,チュー,漢,チ濁,基本形,*,*,チュウ,チュウ,チュウ,チュウ,*,*,*,C4,*\n",
      "です 助動詞,*,*,*,助動詞-デス,終止形-一般,デス,です,です,デス,です,デス,和,*,*,*,*,デス,デス,デス,デス,*,*,*,\"形容詞%F2@-1,動詞%F2@0,名詞%F2@1\",*\n",
      "。 補助記号,句点,*,*,*,*,,。,。,,。,,記号,*,*,*,*,,,,,*,*,*,*,*\n"
     ]
    }
   ],
   "source": [
    "#代名詞、名詞、動詞\n",
    "\n",
    "test = MeCab.Tagger()\n",
    "text = \"ただいま話し中です。\"\n",
    "parsed = test.parse(text)\n",
    "node = test.parseToNode(text).next\n",
    "while node.next:\n",
    "    print(node.surface, node.feature)\n",
    "    node = node.next\n",
    "#node.surface.decode(\"utf-8\", \"ignore\")"
   ]
  }
 ],
 "metadata": {
  "kernelspec": {
   "display_name": "Python 3 (ipykernel)",
   "language": "python",
   "name": "python3"
  },
  "language_info": {
   "codemirror_mode": {
    "name": "ipython",
    "version": 3
   },
   "file_extension": ".py",
   "mimetype": "text/x-python",
   "name": "python",
   "nbconvert_exporter": "python",
   "pygments_lexer": "ipython3",
   "version": "3.8.12"
  }
 },
 "nbformat": 4,
 "nbformat_minor": 5
}
