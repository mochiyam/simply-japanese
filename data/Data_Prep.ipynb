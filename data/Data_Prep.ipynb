{
 "cells": [
  {
   "cell_type": "code",
   "execution_count": 1,
   "id": "7f106e9e",
   "metadata": {},
   "outputs": [],
   "source": [
    "import openpyxl\n",
    "import os\n",
    "import random"
   ]
  },
  {
   "cell_type": "code",
   "execution_count": 2,
   "id": "1c6c5893",
   "metadata": {},
   "outputs": [
    {
     "data": {
      "text/plain": [
       "'/home/andi/code/mochiyam/simply-japanese/data'"
      ]
     },
     "execution_count": 2,
     "metadata": {},
     "output_type": "execute_result"
    }
   ],
   "source": [
    "# Show PWD\n",
    "os.getcwd()"
   ]
  },
  {
   "cell_type": "code",
   "execution_count": 3,
   "id": "e46bc77e",
   "metadata": {},
   "outputs": [
    {
     "data": {
      "text/plain": [
       "'/home/andi/code/mochiyam/simply-japanese/data/2_RawData'"
      ]
     },
     "execution_count": 3,
     "metadata": {},
     "output_type": "execute_result"
    }
   ],
   "source": [
    "# Go into raw data folder\n",
    "os.chdir(\"2_RawData\")\n",
    "os.getcwd()"
   ]
  },
  {
   "cell_type": "code",
   "execution_count": 4,
   "id": "9e1770cb",
   "metadata": {},
   "outputs": [
    {
     "name": "stdout",
     "output_type": "stream",
     "text": [
      "Combined_85K.xlsx  SNOW_T15.xlsx  SNOW_T23.xlsx\r\n"
     ]
    }
   ],
   "source": [
    "# Show contents\n",
    "!ls"
   ]
  },
  {
   "cell_type": "code",
   "execution_count": 143,
   "id": "7b0fc5e9",
   "metadata": {},
   "outputs": [],
   "source": [
    "def sample(file, n=100):\n",
    "    \"\"\"\n",
    "    This function takes two params:\n",
    "    file = input file\n",
    "    n = number of rows to randomly sample into output file\n",
    "    \"\"\"\n",
    "    wb1 = openpyxl.open(file)  # Open file \n",
    "    ws1 = wb1.worksheets[0]     # mark 1st sheet as active\n",
    "    \n",
    "    try:\n",
    "        # generate a random list of unique values from a range of 1 to # of rows in file (+1 to include last line)\n",
    "        rows = random.sample(range(1, ws1.max_row+1), n) \n",
    "    except ValueError:\n",
    "        print('Sample size exceeded population size.') # if n is bigger than # of rows, return error\n",
    "    \n",
    "    # Define name for new file (old file name + number of samples)\n",
    "    filename = file.split(\".\")\n",
    "    filename.insert(1, f\"_{n}.\")\n",
    "    filename = \"\".join(filename)\n",
    "    \n",
    "    wb2 = openpyxl.Workbook() # Open new file\n",
    "    ws2 = wb2.worksheets[0]   # Select first worksheet\n",
    "    \n",
    "    row_counter = ws1.max_row    # Number of max rows\n",
    "    col_counter = ws1.max_column # Number of max cols\n",
    "    \n",
    "    \n",
    "    \"\"\"\n",
    "    Copy data from input file\n",
    "    \"\"\"\n",
    "    row_list = [] # list of lists of rows\n",
    "    for i in range(2, row_counter+1): # Start at 2 in order to skip headers\n",
    "        if i in rows:\n",
    "            rowSelected = [] # list of rows\n",
    "            for j in range(1, 4):\n",
    "                rowSelected.append(ws1.cell(row=i, column=j).value) #cell values are added to the list of rows\n",
    "            row_list.append(rowSelected)\n",
    "\n",
    "    \"\"\"\n",
    "    Paste data into new file, starting with the headers\n",
    "    \"\"\"\n",
    "    headers = [\"#日本語(原文)\", \"#やさしい日本語\", \"#英語(原文)\"]\n",
    "    for i in range(3):\n",
    "        ws2.cell(row=1, column=i+1).value = headers[i]\n",
    "\n",
    "    for Row in range(len(row_list)):\n",
    "        for Col in range(3):\n",
    "            ws2.cell(row= Row+2, column=Col+1).value = row_list[Row][Col]\n",
    "    \n",
    "    wb1.close() # Close input file w/o saving\n",
    "    wb2.save(filename=filename) # Save new file\n",
    "    wb2.close() # Close new file\n",
    "    return None"
   ]
  },
  {
   "cell_type": "code",
   "execution_count": 146,
   "id": "b6b7f139",
   "metadata": {},
   "outputs": [],
   "source": [
    "files = [\"Combined_85K.xlsx\", \"SNOW_T15.xlsx\", \"SNOW_T23.xlsx\"]\n",
    "sample_sizes = [150, 1000, 10000]"
   ]
  },
  {
   "cell_type": "code",
   "execution_count": 147,
   "id": "0ee2366c",
   "metadata": {},
   "outputs": [],
   "source": [
    "for file in files:\n",
    "    for n in sample_sizes:\n",
    "        sample(file, n)"
   ]
  }
 ],
 "metadata": {
  "kernelspec": {
   "display_name": "Python 3 (ipykernel)",
   "language": "python",
   "name": "python3"
  },
  "language_info": {
   "codemirror_mode": {
    "name": "ipython",
    "version": 3
   },
   "file_extension": ".py",
   "mimetype": "text/x-python",
   "name": "python",
   "nbconvert_exporter": "python",
   "pygments_lexer": "ipython3",
   "version": "3.8.12"
  },
  "toc": {
   "base_numbering": 1,
   "nav_menu": {},
   "number_sections": true,
   "sideBar": true,
   "skip_h1_title": false,
   "title_cell": "Table of Contents",
   "title_sidebar": "Contents",
   "toc_cell": false,
   "toc_position": {},
   "toc_section_display": true,
   "toc_window_display": false
  }
 },
 "nbformat": 4,
 "nbformat_minor": 5
}
